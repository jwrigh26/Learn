{
 "cells": [
  {
   "cell_type": "markdown",
   "id": "ce537d0b",
   "metadata": {},
   "source": [
    "# Hello C# in Jupyter\n",
    "This notebook demonstrates a simple Hello World example using the C# kernel in Jupyter."
   ]
  },
  {
   "cell_type": "code",
   "execution_count": null,
   "id": "8d5c0516",
   "metadata": {
    "vscode": {
     "languageId": "csharp"
    }
   },
   "outputs": [],
   "source": [
    "// Print Hello World to the output\n",
    "Console.WriteLine(\"Hello, world from C# in Jupyter!\");"
   ]
  },
  {
   "cell_type": "markdown",
   "id": "8f930295",
   "metadata": {},
   "source": [
    "## Next Steps\n",
    "- Try editing the code cell above and re-running it.\n",
    "- Explore using C# libraries such as Microsoft.Recognizers.Text for NLP tasks.\n",
    "- Add more code cells to experiment with .NET features."
   ]
  }
 ],
 "metadata": {
  "language_info": {
   "name": "python"
  }
 },
 "nbformat": 4,
 "nbformat_minor": 5
}
