{
  "cells": [
    {
      "cell_type": "markdown",
      "metadata": {},
      "source": [
        "# 02 – Entities & Slot Filler\n"
      ]
    },
    {
      "cell_type": "markdown",
      "metadata": {},
      "source": [
        "Uses `Microsoft.Recognizers.Text.*` for dates and simple maps for roles/departments.\n"
      ]
    },
    {
      "cell_type": "code",
      "execution_count": null,
      "metadata": {
        "dotnet_interactive": {
          "language": "csharp"
        }
      },
      "outputs": [],
      "source": [
        "//r \"nuget: Microsoft.Recognizers.Text.DateTime, 1.8.13\"\n",
        "\n",
        "using Microsoft.Recognizers.Text;\n",
        "using Microsoft.Recognizers.Text.DateTime;\n",
        "using System.Text.RegularExpressions;\n",
        "using semantic_kernel_app;\n",
        "using Microsoft.Extensions.Logging;\n",
        "\n",
        "public class SlotFiller : ISlotFiller\n",
        "{\n",
        "    private readonly ILogger<SlotFiller> _log;\n",
        "    private static readonly string[] Depts = new[]{\"engineering\",\"marketing\",\"sales\",\"people\",\"hr\",\"it\"};\n",
        "    private static readonly (string keyword, string role)[] RoleMap = new[] {\n",
        "        (\"manager\",\"Manager\"),\n",
        "        (\"director\",\"Director\"),\n",
        "        (\"lead\",\"Lead\"),\n",
        "        (\"supervisor\",\"Supervisor\"),\n",
        "        (\"engineer\",\"Engineer\"),\n",
        "    };\n",
        "\n",
        "    public SlotFiller(ILogger<SlotFiller> log) => _log = log;\n",
        "\n",
        "    public (Slots slots, double confidence, string? clarification) Fill(string query)\n",
        "    {\n",
        "        var q = query.ToLowerInvariant();\n",
        "\n",
        "        // Names: simple split by non-letters, keep capitalized guesses too in a real system\n",
        "        var names = Regex.Matches(q, @\"[a-z]+\").Select(m => m.Value)\n",
        "            .Where(w => new[]{\"rick\",\"morty\",\"summer\",\"beth\",\"jerry\"}.Contains(w)).Distinct().ToArray();\n",
        "\n",
        "        // Department\n",
        "        string? dept = Depts.FirstOrDefault(d => q.Contains(d));\n",
        "\n",
        "        // Role (first match)\n",
        "        string? role = RoleMap.FirstOrDefault(r => q.Contains(r.keyword)).role;\n",
        "\n",
        "        // Operator\n",
        "        string? op = null;\n",
        "        if (q.Contains(\"before\")) op = \"before\";\n",
        "        else if (q.Contains(\"after\")) op = \"after\";\n",
        "        else if (q.Contains(\"between\")) op = \"between\";\n",
        "        else if (q.Contains(\"since\")) op = \"since\";\n",
        "\n",
        "        // Date(s)\n",
        "        DateTime? single = null;\n",
        "        (DateTime, DateTime)? range = null;\n",
        "\n",
        "        var results = DateTimeRecognizer.RecognizeDateTime(query, Culture.English);\n",
        "        // Very lightweight interpretation for demo\n",
        "        var years = Regex.Matches(q, @\"\\b(19|20)\\d{2}\\b\").Select(m => int.Parse(m.Value)).ToList();\n",
        "        if (years.Count >= 2)\n",
        "        {\n",
        "            var y1 = years.Min(); var y2 = years.Max();\n",
        "            range = (new DateTime(y1,1,1), new DateTime(y2,12,31));\n",
        "        }\n",
        "        else if (years.Count == 1)\n",
        "        {\n",
        "            var y = years[0];\n",
        "            single = new DateTime(y,1,1);\n",
        "        }\n",
        "\n",
        "        var slots = new Slots(\n",
        "            Names: names.Length>0 ? names : null,\n",
        "            Date: single,\n",
        "            Range: range,\n",
        "            Operator: op,\n",
        "            Department: dept,\n",
        "            Role: role\n",
        "        );\n",
        "\n",
        "        var conf = 0.5 + (names.Length>0?0.1:0) + (dept!=null?0.1:0) + (role!=null?0.1:0) + ((single!=null||range!=null)?0.2:0);\n",
        "        string? clar = null;\n",
        "        if (op==\"between\" && range==null) clar = \"Between which dates? e.g., 2020 and 2022\";\n",
        "        return (slots, Math.Min(conf,0.95), clar);\n",
        "    }\n",
        "}\n",
        "\n",
        "// demo\n",
        "var sf = new SlotFiller(LoggerFactory.Create(b=>b.AddConsole()).CreateLogger<SlotFiller>());\n",
        "var (slots, conf, clar) = sf.Fill(\"Show managers in engineering hired after 2020\");\n",
        "Console.WriteLine(System.Text.Json.JsonSerializer.Serialize(slots));\n",
        "Console.WriteLine($\"confidence={conf} clarify={clar}\");\n"
      ]
    }
  ],
  "metadata": {
    "kernelspec": {
      "display_name": ".NET (C#)",
      "language": "C#",
      "name": ".net-csharp"
    },
    "language_info": {
      "name": "polyglot-notebook"
    },
    "polyglot_notebook": {
      "kernelInfo": {
        "defaultKernelName": "csharp",
        "items": [
          {
            "aliases": [],
            "name": "csharp"
          }
        ]
      }
    }
  },
  "nbformat": 4,
  "nbformat_minor": 5
}
