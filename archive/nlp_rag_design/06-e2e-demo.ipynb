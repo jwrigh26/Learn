{
  "cells": [
    {
      "cell_type": "markdown",
      "metadata": {},
      "source": [
        "# 06 – E2E Demo\n"
      ]
    },
    {
      "cell_type": "markdown",
      "metadata": {},
      "source": [
        "Runs the full pipeline with a couple of natural queries.\n"
      ]
    },
    {
      "cell_type": "code",
      "execution_count": null,
      "metadata": {
        "dotnet_interactive": {
          "language": "csharp"
        }
      },
      "outputs": [],
      "source": [
        "using semantic_kernel_app;\n",
        "using Microsoft.Extensions.Logging;\n",
        "\n",
        "// wire real services (replace dummies)\n",
        "var sp = Services.Build();\n",
        "var logger = LoggerFactory.Create(b=>b.AddConsole());\n",
        "\n",
        "var clf = new RuleIntentClassifier(logger.CreateLogger<RuleIntentClassifier>());\n",
        "var sf = new SlotFiller(logger.CreateLogger<SlotFiller>());\n",
        "var disp = new QueryDispatcher(new InMemoryEmployeeApi(\n",
        "    new Microsoft.Extensions.Caching.Memory.MemoryCache(new Microsoft.Extensions.Caching.Memory.MemoryCacheOptions()), new AppConfig()),\n",
        "    logger.CreateLogger<QueryDispatcher>());\n",
        "var fmt = new AnswerFormatter(new AppConfig(), logger.CreateLogger<AnswerFormatter>());\n",
        "\n",
        "async Task Run(string q)\n",
        "{\n",
        "    Console.WriteLine($\"\\nQ: {q}\");\n",
        "    var (intent, ic) = clf.Classify(q);\n",
        "    var (slots, sc, clar) = sf.Fill(q);\n",
        "    if (clar != null){ Console.WriteLine(\"Clarify: \" + clar); return; }\n",
        "\n",
        "    var spec = new QuerySpec(intent, slots);\n",
        "    var data = await disp.ExecuteAsync(spec);\n",
        "    var (used, text) = await fmt.FormatAsync(spec, data);\n",
        "    Console.WriteLine((used?\"[LLM] \":\"[NO LLM] \") + text);\n",
        "}\n",
        "\n",
        "await Run(\"What are Rick and Summer's emails?\");\n",
        "await Run(\"Show managers in engineering hired after 2020\");\n"
      ]
    }
  ],
  "metadata": {
    "kernelspec": {
      "display_name": ".NET (C#)",
      "language": "C#",
      "name": ".net-csharp"
    },
    "language_info": {
      "name": "polyglot-notebook"
    },
    "polyglot_notebook": {
      "kernelInfo": {
        "defaultKernelName": "csharp",
        "items": [
          {
            "aliases": [],
            "name": "csharp"
          }
        ]
      }
    }
  },
  "nbformat": 4,
  "nbformat_minor": 5
}
