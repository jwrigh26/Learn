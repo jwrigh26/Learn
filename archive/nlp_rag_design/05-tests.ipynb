{
  "cells": [
    {
      "cell_type": "markdown",
      "metadata": {},
      "source": [
        "# 05 – Tests (golden + contract)\n"
      ]
    },
    {
      "cell_type": "markdown",
      "metadata": {},
      "source": [
        "Lightweight assertions you can run in-order.\n"
      ]
    },
    {
      "cell_type": "code",
      "execution_count": null,
      "metadata": {
        "dotnet_interactive": {
          "language": "csharp"
        }
      },
      "outputs": [],
      "source": [
        "using semantic_kernel_app;\n",
        "using Microsoft.Extensions.Logging;\n",
        "\n",
        "var logger = LoggerFactory.Create(b=>b.AddConsole());\n",
        "var clf = new RuleIntentClassifier(logger.CreateLogger<RuleIntentClassifier>());\n",
        "var sf = new SlotFiller(logger.CreateLogger<SlotFiller>());\n",
        "var disp = new QueryDispatcher(new InMemoryEmployeeApi(\n",
        "    new Microsoft.Extensions.Caching.Memory.MemoryCache(new Microsoft.Extensions.Caching.Memory.MemoryCacheOptions()), new AppConfig()),\n",
        "    logger.CreateLogger<QueryDispatcher>());\n",
        "\n",
        "void Assert(bool cond, string msg){ if(!cond) throw new Exception(\"ASSERT: \" + msg); }\n",
        "\n",
        "// Classifier golden tests\n",
        "var (i1, c1) = clf.Classify(\"What are Rick and Summer's emails?\");\n",
        "Assert(i1==Intent.GetContactInfo, \"classifier email intent\");\n",
        "\n",
        "// Slot filler\n",
        "var (slots, conf, clar) = sf.Fill(\"Managers in engineering hired after 2020\");\n",
        "Assert(slots.Operator==\"after\", \"slots operator after\");\n",
        "Assert(slots.Department==\"engineering\", \"slots dept engineering\");\n",
        "\n",
        "// Dispatcher contract\n",
        "var spec = new QuerySpec(Intent.FilterByHireDate, new Slots(Department:\"engineering\", Operator:\"after\", Date:new DateTime(2020,1,1)));\n",
        "var result = (List<Employee>) await disp.ExecuteAsync(spec);\n",
        "Assert(result.All(e=> e.Department==\"Engineering\" && e.OriginalHireDate>new DateTime(2020,1,1)), \"dispatch filter combo\");\n",
        "Console.WriteLine(\"All tests passed.\");\n"
      ]
    }
  ],
  "metadata": {
    "kernelspec": {
      "display_name": ".NET (C#)",
      "language": "C#",
      "name": ".net-csharp"
    },
    "language_info": {
      "name": "polyglot-notebook"
    },
    "polyglot_notebook": {
      "kernelInfo": {
        "defaultKernelName": "csharp",
        "items": [
          {
            "aliases": [],
            "name": "csharp"
          }
        ]
      }
    }
  },
  "nbformat": 4,
  "nbformat_minor": 5
}
