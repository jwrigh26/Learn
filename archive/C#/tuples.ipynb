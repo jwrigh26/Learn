{
 "cells": [
  {
   "cell_type": "markdown",
   "id": "33df375e",
   "metadata": {},
   "source": [
    "# C# Tuples Tutorial\n",
    "This notebook demonstrates C# tuples - a lightweight way to group multiple values together without creating a separate class or struct.\n",
    "\n",
    "Tuples were introduced in C# 7.0 and provide a clean, convenient way to return multiple values from methods or group related data."
   ]
  },
  {
   "cell_type": "markdown",
   "id": "ad36a484",
   "metadata": {},
   "source": [
    "## Basic Tuple Syntax\n",
    "The simplest way to create a tuple is using parentheses with comma-separated values."
   ]
  },
  {
   "cell_type": "code",
   "execution_count": null,
   "id": "e33ad749",
   "metadata": {
    "vscode": {
     "languageId": "csharp"
    }
   },
   "outputs": [],
   "source": [
    "// Basic tuple creation\n",
    "var point = (3, 4);\n",
    "Console.WriteLine($\"Point: {point}\");\n",
    "Console.WriteLine($\"X: {point.Item1}, Y: {point.Item2}\");\n",
    "\n",
    "// Tuple with different types\n",
    "var person = (\"Alice\", 25, true);\n",
    "Console.WriteLine($\"Name: {person.Item1}, Age: {person.Item2}, IsActive: {person.Item3}\");"
   ]
  },
  {
   "cell_type": "markdown",
   "id": "f3db6384",
   "metadata": {},
   "source": [
    "## Named Tuples\n",
    "You can give meaningful names to tuple elements, making your code more readable."
   ]
  },
  {
   "cell_type": "code",
   "execution_count": null,
   "id": "5c7cfe31",
   "metadata": {
    "vscode": {
     "languageId": "csharp"
    }
   },
   "outputs": [],
   "source": [
    "// Named tuple - much more readable!\n",
    "var namedPoint = (X: 10, Y: 20);\n",
    "Console.WriteLine($\"Point: ({namedPoint.X}, {namedPoint.Y})\");\n",
    "\n",
    "// Named tuple with mixed types\n",
    "var employee = (Name: \"Bob Smith\", Id: 12345, Salary: 75000.50m, IsManager: false);\n",
    "Console.WriteLine($\"Employee: {employee.Name} (ID: {employee.Id})\");\n",
    "Console.WriteLine($\"Salary: ${employee.Salary:N2}, Manager: {employee.IsManager}\");"
   ]
  },
  {
   "cell_type": "markdown",
   "id": "a1fc4bb1",
   "metadata": {},
   "source": [
    "## Tuple Deconstruction\n",
    "You can \"unpack\" tuple values into separate variables."
   ]
  },
  {
   "cell_type": "code",
   "execution_count": null,
   "id": "984d2830",
   "metadata": {},
   "outputs": [],
   "source": [
    "var coordinates = (X: 100, Y: 200);\n",
    "\n",
    "// Deconstruct into separate variables\n",
    "var (x, y) = coordinates;\n",
    "Console.WriteLine($\"X = {x}, Y = {y}\");\n",
    "\n",
    "// You can also deconstruct with explicit types\n",
    "var personInfo = (\"Charlie\", 30, \"Engineer\");\n",
    "(string name, int age, string job) = personInfo;\n",
    "Console.WriteLine($\"{name} is {age} years old and works as an {job}\");"
   ]
  },
  {
   "cell_type": "markdown",
   "id": "992574b2",
   "metadata": {},
   "source": [
    "## Returning Multiple Values from Methods\n",
    "One of the most common uses of tuples is returning multiple values from a method."
   ]
  },
  {
   "cell_type": "code",
   "execution_count": null,
   "id": "57c51ef6",
   "metadata": {},
   "outputs": [],
   "source": [
    "// Method that returns a tuple\n",
    "static (int Min, int Max, double Average) AnalyzeNumbers(int[] numbers)\n",
    "{\n",
    "    if (numbers.Length == 0)\n",
    "        return (0, 0, 0);\n",
    "    \n",
    "    int min = numbers.Min();\n",
    "    int max = numbers.Max();\n",
    "    double avg = numbers.Average();\n",
    "    \n",
    "    return (min, max, avg);\n",
    "}\n",
    "\n",
    "// Using the method\n",
    "int[] data = { 5, 2, 8, 1, 9, 3 };\n",
    "var stats = AnalyzeNumbers(data);\n",
    "\n",
    "Console.WriteLine($\"Numbers: [{string.Join(\", \", data)}]\");\n",
    "Console.WriteLine($\"Min: {stats.Min}, Max: {stats.Max}, Average: {stats.Average:F2}\");\n",
    "\n",
    "// Or deconstruct directly\n",
    "var (min, max, average) = AnalyzeNumbers(data);\n",
    "Console.WriteLine($\"Deconstructed - Min: {min}, Max: {max}, Avg: {average:F2}\");"
   ]
  },
  {
   "cell_type": "markdown",
   "id": "54c4eb73",
   "metadata": {},
   "source": [
    "## Nullable Tuples\n",
    "Tuples can be nullable, useful for optional or conditional data."
   ]
  },
  {
   "cell_type": "code",
   "execution_count": null,
   "id": "f0b780ed",
   "metadata": {},
   "outputs": [],
   "source": [
    "// Nullable tuple - similar to what you saw in your Slots record\n",
    "(DateTime Start, DateTime End)? dateRange = null;\n",
    "\n",
    "Console.WriteLine($\"Date range is null: {dateRange == null}\");\n",
    "\n",
    "// Assign a value\n",
    "dateRange = (new DateTime(2025, 1, 1), new DateTime(2025, 12, 31));\n",
    "\n",
    "if (dateRange.HasValue)\n",
    "{\n",
    "    Console.WriteLine($\"Range: {dateRange.Value.Start:yyyy-MM-dd} to {dateRange.Value.End:yyyy-MM-dd}\");\n",
    "    \n",
    "    // Or use null-conditional operator\n",
    "    Console.WriteLine($\"Start date: {dateRange?.Start:yyyy-MM-dd}\");\n",
    "}\n",
    "\n",
    "// Reset to null\n",
    "dateRange = null;\n",
    "Console.WriteLine($\"After reset - Has value: {dateRange.HasValue}\");"
   ]
  },
  {
   "cell_type": "markdown",
   "id": "4afb9e18",
   "metadata": {},
   "source": [
    "## Practical Example: Parsing Data\n",
    "Here's a practical example of using tuples for data parsing with success/failure indication."
   ]
  },
  {
   "cell_type": "code",
   "execution_count": null,
   "id": "110f7306",
   "metadata": {},
   "outputs": [],
   "source": [
    "// Method that tries to parse a person's data from a string\n",
    "static (bool Success, string Name, int Age, string Error) TryParsePerson(string input)\n",
    "{\n",
    "    try\n",
    "    {\n",
    "        var parts = input.Split(',');\n",
    "        if (parts.Length != 2)\n",
    "            return (false, \"\", 0, \"Expected format: 'Name,Age'\");\n",
    "        \n",
    "        string name = parts[0].Trim();\n",
    "        if (string.IsNullOrEmpty(name))\n",
    "            return (false, \"\", 0, \"Name cannot be empty\");\n",
    "        \n",
    "        if (!int.TryParse(parts[1].Trim(), out int age))\n",
    "            return (false, \"\", 0, \"Age must be a valid number\");\n",
    "        \n",
    "        if (age < 0 || age > 150)\n",
    "            return (false, \"\", 0, \"Age must be between 0 and 150\");\n",
    "        \n",
    "        return (true, name, age, \"\");\n",
    "    }\n",
    "    catch (Exception ex)\n",
    "    {\n",
    "        return (false, \"\", 0, ex.Message);\n",
    "    }\n",
    "}\n",
    "\n",
    "// Test the parsing method\n",
    "string[] testInputs = { \"Alice,25\", \"Bob,30\", \"Charlie,invalid\", \"David\", \",25\", \"Eve,200\" };\n",
    "\n",
    "foreach (var input in testInputs)\n",
    "{\n",
    "    var (success, name, age, error) = TryParsePerson(input);\n",
    "    \n",
    "    if (success)\n",
    "        Console.WriteLine($\"✓ Parsed: {name}, {age} years old\");\n",
    "    else\n",
    "        Console.WriteLine($\"✗ Failed to parse '{input}': {error}\");\n",
    "}"
   ]
  },
  {
   "cell_type": "markdown",
   "id": "954d5994",
   "metadata": {},
   "source": [
    "## Key Takeaways\n",
    "\n",
    "1. **Tuples are lightweight** - Perfect for temporary groupings of data\n",
    "2. **Named tuples improve readability** - Use meaningful names instead of Item1, Item2\n",
    "3. **Great for method returns** - Return multiple values without creating custom types\n",
    "4. **Deconstruction is powerful** - Unpack values into separate variables easily\n",
    "5. **Nullable tuples** - Useful for optional data (like your date range example)\n",
    "6. **Value types** - Tuples are value types, so they're compared by value, not reference\n",
    "\n",
    "Tuples are perfect when you need to group a few related values together temporarily, but don't want the overhead of creating a full class or struct."
   ]
  }
 ],
 "metadata": {
  "language_info": {
   "name": "python"
  }
 },
 "nbformat": 4,
 "nbformat_minor": 5
}
