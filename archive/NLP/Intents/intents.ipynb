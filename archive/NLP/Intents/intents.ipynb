{
 "cells": [
  {
   "cell_type": "markdown",
   "id": "5ed9c2bc",
   "metadata": {},
   "source": [
    "\n",
    "# Minimal Local Intent Training with ML.NET (No Cloud)\n",
    "\n",
    "**Goal:** Train an **offline** intent classifier for short user queries using **ML.NET**, save it as `intent-model.zip`, and show how to load and use it in your .NET app.  \n",
    "This notebook runs entirely **locally** and installs required packages per‑cell via .NET Interactive.\n",
    "\n",
    "**What you'll get:**\n",
    "- A tiny labeled dataset (CSV) of queries → intents\n",
    "- An ML.NET pipeline (featurize text → train classifier)\n",
    "- Metrics (micro/macro accuracy, log loss)\n",
    "- A saved model: `model/intent-model.zip`\n",
    "- A simple **runtime** `IntentClassifier` you can drop into your app\n",
    "- JS-to-C# annotated explanations (from a JS dev’s perspective)\n"
   ]
  },
  {
   "cell_type": "markdown",
   "id": "02d27151",
   "metadata": {},
   "source": [
    "\n",
    "## 0) Requirements\n",
    "\n",
    "- **.NET 8 SDK** installed\n",
    "- **VS Code** with **.NET Interactive Notebooks** extension (or Polyglot Notebooks)\n",
    "- This notebook uses per-cell package references (`#r \"nuget: ...\"`) so you don't need a `.csproj` here.\n"
   ]
  },
  {
   "cell_type": "code",
   "execution_count": null,
   "id": "8e2947ee",
   "metadata": {},
   "outputs": [],
   "source": [
    "\n",
    "// Install packages just for this notebook session\n",
    "#r \"nuget: Microsoft.ML, 4.0.2\"\n",
    "#r \"nuget: Microsoft.ML.FastTree, 4.0.2\" // optional, shows alternative trainers\n",
    "using System;\n",
    "using System.IO;\n",
    "using System.Linq;\n",
    "using Microsoft.ML;\n",
    "using Microsoft.ML.Data;"
   ]
  },
  {
   "cell_type": "markdown",
   "id": "628aeb63",
   "metadata": {},
   "source": [
    "\n",
    "## 1) Create a tiny labeled dataset (CSV)\n",
    "\n",
    "We’ll start with a **small** dataset you can expand later.  \n",
    "Each row is `\"Text,Intent\"`. Keep intent names **UPPER_SNAKE_CASE** so they map nicely into enums later.\n"
   ]
  },
  {
   "cell_type": "code",
   "execution_count": null,
   "id": "ee8586fe",
   "metadata": {},
   "outputs": [],
   "source": [
    "\n",
    "// Create a minimal dataset on disk: data/intents.csv\n",
    "Directory.CreateDirectory(\"data\");\n",
    "var csv = \"\"\"\n",
    "Text,Intent\n",
    "\"what is rick's email\",GET_CONTACT_INFO\n",
    "\"emails for morty and summer\",GET_CONTACT_INFO\n",
    "\"show managers hired after 2020\",FILTER_BY_ROLE_AND_DATE\n",
    "\"who works in engineering\",SEARCH_BY_DEPARTMENT\n",
    "\"hired before 2024\",FILTER_BY_HIRE_DATE\n",
    "\"filter by department sales\",SEARCH_BY_DEPARTMENT\n",
    "\"list staff engineer emails\",GET_CONTACT_INFO\n",
    "\"anyone hired after jan 2021\",FILTER_BY_HIRE_DATE\n",
    "\"find directors in operations\",SEARCH_BY_DEPARTMENT\n",
    "\"get contact for summer smith\",GET_CONTACT_INFO\n",
    "\"\"\";\n",
    "File.WriteAllText(\"data/intents.csv\", csv);\n",
    "Console.WriteLine(\"Wrote data/intents.csv\");\n"
   ]
  },
  {
   "cell_type": "markdown",
   "id": "c469089c",
   "metadata": {},
   "source": [
    "\n",
    "## 2) Train a model\n",
    "\n",
    "**Pipeline (high level):**\n",
    "1. Map the label (intent string) → key (required by many trainers)\n",
    "2. Featurize text (`TextFeaturizingEstimator` → bag of words + n-grams, etc.)\n",
    "3. Train a **multiclass classifier** (we’ll use `SdcaMaximumEntropy` for simplicity)\n",
    "4. Map predicted key → string label\n",
    "\n",
    "We’ll also do a quick **train/test split** to see accuracy.\n"
   ]
  },
  {
   "cell_type": "code",
   "execution_count": null,
   "id": "59fe71ad",
   "metadata": {},
   "outputs": [],
   "source": [
    "\n",
    "// Data contracts (C# POCOs)\n",
    "public class QueryRow\n",
    "{\n",
    "    [LoadColumn(0)] public string Text { get; set; } = \"\";\n",
    "    [LoadColumn(1)] public string Intent { get; set; } = \"\";\n",
    "}\n",
    "\n",
    "public class IntentPrediction\n",
    "{\n",
    "    [ColumnName(\"PredictedLabel\")] public string PredictedIntent { get; set; } = \"\";\n",
    "    public float[] Score { get; set; } = Array.Empty<float>();\n",
    "}\n",
    "\n",
    "var ml = new MLContext(seed: 42);\n",
    "\n",
    "// Load CSV\n",
    "var dataPath = Path.Combine(\"data\", \"intents.csv\");\n",
    "IDataView data = ml.Data.LoadFromTextFile<QueryRow>(dataPath, hasHeader: true, separatorChar: ',');\n",
    "\n",
    "// Train/Test split\n",
    "var split = ml.Data.TrainTestSplit(data, testFraction: 0.25);\n",
    "\n",
    "// Build pipeline\n",
    "var pipeline =\n",
    "    ml.Transforms.Conversion.MapValueToKey(\"Label\", nameof(QueryRow.Intent))\n",
    "    .Append(ml.Transforms.Text.FeaturizeText(\"Features\", nameof(QueryRow.Text)))\n",
    "    .Append(ml.MulticlassClassification.Trainers.SdcaMaximumEntropy(labelColumnName: \"Label\", featureColumnName: \"Features\"))\n",
    "    .Append(ml.Transforms.Conversion.MapKeyToValue(\"PredictedLabel\"));\n",
    "\n",
    "// Train\n",
    "Console.WriteLine(\"Training model...\");\n",
    "var model = pipeline.Fit(split.TrainSet);\n",
    "\n",
    "// Evaluate\n",
    "var scored = model.Transform(split.TestSet);\n",
    "var metrics = ml.MulticlassClassification.Evaluate(scored, labelColumnName: \"Label\", scoreColumnName: \"Score\");\n",
    "Console.WriteLine($\"MicroAcc={metrics.MicroAccuracy:F3}  MacroAcc={metrics.MacroAccuracy:F3}  LogLoss={metrics.LogLoss:F3}\");\n"
   ]
  },
  {
   "cell_type": "markdown",
   "id": "67e20e0e",
   "metadata": {},
   "source": [
    "\n",
    "## 3) Save the trained model to `intent-model.zip`\n"
   ]
  },
  {
   "cell_type": "code",
   "execution_count": null,
   "id": "41a201a4",
   "metadata": {},
   "outputs": [],
   "source": [
    "\n",
    "Directory.CreateDirectory(\"model\");\n",
    "var modelPath = Path.Combine(\"model\", \"intent-model.zip\");\n",
    "ml.Model.Save(model, split.TrainSet.Schema, modelPath);\n",
    "Console.WriteLine($\"Saved -> {modelPath}\");\n"
   ]
  },
  {
   "cell_type": "markdown",
   "id": "27d6d1ab",
   "metadata": {},
   "source": [
    "\n",
    "## 4) Quick inference demo (using the in-memory model)\n",
    "\n",
    "We’ll predict an intent for a new query and show raw scores for each class.\n"
   ]
  },
  {
   "cell_type": "code",
   "execution_count": null,
   "id": "3fb2b661",
   "metadata": {},
   "outputs": [],
   "source": [
    "\n",
    "var engine = ml.Model.CreatePredictionEngine<QueryRow, IntentPrediction>(model);\n",
    "\n",
    "string[] tests =\n",
    "{\n",
    "    \"find emails for summer and morty\",\n",
    "    \"who are the managers hired after 2021\",\n",
    "    \"show engineering staff\",\n",
    "    \"hired before 2020 in sales\"\n",
    "};\n",
    "\n",
    "foreach (var t in tests)\n",
    "{\n",
    "    var pred = engine.Predict(new QueryRow { Text = t });\n",
    "    Console.WriteLine($\"{t}\");\n",
    "    Console.WriteLine($\"  Predicted: {pred.PredictedIntent}\");\n",
    "    if (pred.Score != null && pred.Score.Length > 0)\n",
    "        Console.WriteLine($\"  Scores: [{string.Join(\", \", pred.Score.Select(s => s.ToString(\"F2\")))}]\");\n",
    "    Console.WriteLine();\n",
    "}\n"
   ]
  },
  {
   "cell_type": "markdown",
   "id": "34478661",
   "metadata": {},
   "source": [
    "\n",
    "## 5) Load the saved model (from `intent-model.zip`) and predict\n",
    "\n",
    "This simulates how your **app** will load the model at runtime.\n"
   ]
  },
  {
   "cell_type": "code",
   "execution_count": null,
   "id": "904e466e",
   "metadata": {},
   "outputs": [],
   "source": [
    "\n",
    "using var fs = File.OpenRead(Path.Combine(\"model\",\"intent-model.zip\"));\n",
    "var loadedModel = ml.Model.Load(fs, out var schema);\n",
    "var loadedEngine = ml.Model.CreatePredictionEngine<QueryRow, IntentPrediction>(loadedModel);\n",
    "\n",
    "var p = loadedEngine.Predict(new QueryRow { Text = \"get contact info for rick sanchez\" });\n",
    "Console.WriteLine($\"Predicted: {p.PredictedIntent}\");\n"
   ]
  },
  {
   "cell_type": "markdown",
   "id": "26993b2c",
   "metadata": {},
   "source": [
    "\n",
    "## 6) A tiny reusable `IntentClassifier` (drop this into your app)\n",
    "\n",
    "This class wraps loading and predicting, adds a **confidence threshold**, and maps the string label into a C# enum.\n"
   ]
  },
  {
   "cell_type": "code",
   "execution_count": null,
   "id": "ee87f381",
   "metadata": {},
   "outputs": [],
   "source": [
    "\n",
    "public enum Intent\n",
    "{\n",
    "    GET_CONTACT_INFO,\n",
    "    FILTER_BY_HIRE_DATE,\n",
    "    SEARCH_BY_DEPARTMENT,\n",
    "    FILTER_BY_ROLE_AND_DATE,\n",
    "    UNKNOWN\n",
    "}\n",
    "\n",
    "public sealed class IntentClassifier\n",
    "{\n",
    "    private readonly PredictionEngine<QueryRow, IntentPrediction> _engine;\n",
    "    private readonly string[] _knownIntents;\n",
    "    private readonly float _minConfidence;\n",
    "\n",
    "    public IntentClassifier(string modelPath, float minConfidence = 0.60f)\n",
    "    {\n",
    "        var ml = new MLContext();\n",
    "        using var fs = File.OpenRead(modelPath);\n",
    "        var model = ml.Model.Load(fs, out _);\n",
    "        _engine = ml.Model.CreatePredictionEngine<QueryRow, IntentPrediction>(model);\n",
    "\n",
    "        // Keep in sync with your training label space\n",
    "        _knownIntents = new[]\n",
    "        {\n",
    "            nameof(Intent.GET_CONTACT_INFO),\n",
    "            nameof(Intent.FILTER_BY_HIRE_DATE),\n",
    "            nameof(Intent.SEARCH_BY_DEPARTMENT),\n",
    "            nameof(Intent.FILTER_BY_ROLE_AND_DATE)\n",
    "        };\n",
    "\n",
    "        _minConfidence = minConfidence;\n",
    "    }\n",
    "\n",
    "    public (Intent intent, float confidence) Predict(string text)\n",
    "    {\n",
    "        var pred = _engine.Predict(new QueryRow { Text = text });\n",
    "        var idx = Array.IndexOf(_knownIntents, pred.PredictedIntent);\n",
    "        var confidence = (idx >= 0 && pred.Score?.Length > idx) ? pred.Score[idx] : 0f;\n",
    "\n",
    "        if (confidence < _minConfidence) return (Intent.UNKNOWN, confidence);\n",
    "\n",
    "        if (Enum.TryParse<Intent>(pred.PredictedIntent, out var parsed))\n",
    "            return (parsed, confidence);\n",
    "\n",
    "        return (Intent.UNKNOWN, confidence);\n",
    "    }\n",
    "}\n",
    "\n",
    "// Demo:\n",
    "var clf = new IntentClassifier(Path.Combine(\"model\",\"intent-model.zip\"), minConfidence: 0.65f);\n",
    "var (intent, conf) = clf.Predict(\"show managers hired after 2020\");\n",
    "Console.WriteLine($\"Intent: {intent}  Confidence: {conf:F2}\");\n"
   ]
  },
  {
   "cell_type": "markdown",
   "id": "8c4ba3cc",
   "metadata": {},
   "source": [
    "\n",
    "## 7) C# for JS developers — quick translation notes\n",
    "\n",
    "- **Classes/POCOs**: `QueryRow` and `IntentPrediction` are like TypeScript interfaces but compiled types. Attributes like `[LoadColumn(0)]` tell ML.NET how to map CSV columns.\n",
    "- **`MLContext`**: Think of it like creating a service container/entry point for ML pipelines.\n",
    "- **Pipelines**: Similar to composing functions/middlewares.  \n",
    "  ```csharp\n",
    "  MapValueToKey -> FeaturizeText -> TrainClassifier -> MapKeyToValue\n",
    "  ```\n",
    "- **Train/Test split**: Same idea as JS ML libraries; we keep some data to evaluate model performance.\n",
    "- **Saving model**: `ml.Model.Save(...)` writes a portable ZIP. Your app loads this at runtime—no cloud.\n",
    "- **`PredictionEngine`**: A small, single-threaded helper for quick predictions. For production throughput, use `Transform` on an `IDataView` or create a prediction engine pool.\n",
    "- **Enums**: We keep intents as an `enum` to avoid stringly-typed code at runtime.\n",
    "- **Confidence**: We read `Score[]` and pick the value at the predicted label index. Use a threshold to decide when to fall back to rules or ask for clarification.\n",
    "\n",
    "### Where do slots/entities fit?\n",
    "- Keep **dates/numbers** deterministic with `Microsoft.Recognizers.Text` (e.g., “before 2024” → operator `<`, date `2024-01-01`).\n",
    "- Use **controlled vocab + fuzzy match** for department/role/name canonicalization.\n",
    "- Let the **intent model** decide the action; let **slot extractors** provide parameters.\n"
   ]
  },
  {
   "cell_type": "markdown",
   "id": "db1cb106",
   "metadata": {},
   "source": [
    "\n",
    "## 8) Next steps (expand as you learn)\n",
    "\n",
    "- Add more intents and **20–50 examples per intent** to improve accuracy.\n",
    "- Version models: `model/intent-model.v1.zip`, `v2`, etc., and keep a small README with metrics.\n",
    "- Wire the classifier into your service and route **low-confidence** predictions to a clarification prompt or a narrow LLM fallback.\n",
    "- Keep slot extraction deterministic to avoid LLM math/date mistakes.\n"
   ]
  }
 ],
 "metadata": {
  "kernelspec": {
   "display_name": ".NET (C#)",
   "language": "C#",
   "name": "dotnet-csharp"
  },
  "language_info": {
   "name": "C#"
  }
 },
 "nbformat": 4,
 "nbformat_minor": 5
}