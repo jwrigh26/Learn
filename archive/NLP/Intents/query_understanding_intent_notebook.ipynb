{
  "cells": [
    {
      "cell_type": "markdown",
      "metadata": {},
      "source": [
        "# Query Understanding — Intent Classification + Slot Filling (C# / .NET Interactive)\n",
        "\n",
        "This notebook is a hands-on sandbox for building a **rule‑first** intent classification and slot-filling pipeline using:\n",
        "- `Microsoft.Recognizers.Text` for date/time parsing\n",
        "- `FuzzySharp` for fuzzy name matching\n",
        "- Plain C# for domain maps and query building\n",
        "\n",
        "> Open this in **.NET Interactive** (C#) kernel.\n"
      ]
    },
    {
      "cell_type": "markdown",
      "id": "23bec28a",
      "metadata": {},
      "source": [
        "### Intents\n",
        "\n",
        "**Intent Classification:** What does  the user want? e.g.,\n",
        "- get contact info\n",
        "- filter by hire date\n",
        "- filter by role\n",
        "\n",
        "One way to classify intents is by using regular expressions\n",
        "\n",
        "### Slots\n",
        "\n",
        "**Slot Filling:** Slots are the key pieces of information needed to fulfill the intent. e.g.,\n",
        "- names\n",
        "- dates\n",
        "- roles\n",
        "- departments\n",
        "\n",
        "Various ways to extract slots using regex, fuzzy matching, and Microsoft Recognizers for date/time.\n",
        "\n",
        "### Domain Mapping\n",
        "Maps are used to match synonyms (like \"team lead\" or \"eng\") to canonical role/department names.\n",
        "\n",
        "### Pipeline Steps\n",
        "- Normalize the query (lowercase, trim, etc.)\n",
        "- Classify the intent\n",
        "- Extract slots (names, dates, roles, departments)\n",
        "- Apply filters to the employee list based on the extracted info\n"
      ]
    },
    {
      "cell_type": "code",
      "execution_count": 2,
      "metadata": {
        "dotnet_interactive": {
          "language": "csharp"
        }
      },
      "outputs": [
        {
          "data": {
            "text/html": [
              "<div><div></div><div></div><div><strong>Installed Packages</strong><ul><li><span>FuzzySharp, 2.0.2</span></li><li><span>Microsoft.Recognizers.Text, 1.8.13</span></li><li><span>Microsoft.Recognizers.Text.DateTime, 1.8.13</span></li></ul></div></div>"
            ]
          },
          "metadata": {},
          "output_type": "display_data"
        }
      ],
      "source": [
        "// NuGet references (only needed in the notebook environment)\n",
        "#r \"nuget: FuzzySharp, 2.0.2\"\n",
        "#r \"nuget: Microsoft.Recognizers.Text, 1.8.13\"\n",
        "#r \"nuget: Microsoft.Recognizers.Text.DateTime, 1.8.13\"\n",
        "\n",
        "using System;\n",
        "using System.Collections.Generic;\n",
        "using System.Globalization;\n",
        "using System.Linq;\n",
        "using System.Text.RegularExpressions;\n",
        "using FuzzySharp;\n",
        "using Microsoft.Recognizers.Text;\n",
        "using Microsoft.Recognizers.Text.DateTime;\n"
      ]
    },
    {
      "cell_type": "code",
      "execution_count": 3,
      "metadata": {
        "dotnet_interactive": {
          "language": "csharp"
        }
      },
      "outputs": [],
      "source": [
        "public enum Intent { GetContactInfo, FilterByHireDate, FilterByRole, Unknown }\n",
        "\n",
        "public record Slots(\n",
        "    string[]? Names = null,\n",
        "    DateTime? Date = null,\n",
        "    (DateTime Start, DateTime End)? Range = null,\n",
        "    string? Operator = null,\n",
        "    string? Department = null,\n",
        "    string? Role = null\n",
        ");\n",
        "\n",
        "public record QuerySpec(Intent Intent, Slots Slots);\n",
        "\n",
        "public record Employee(\n",
        "    string DisplayName,\n",
        "    string Email,\n",
        "    string Department,\n",
        "    string Role,\n",
        "    DateTime OriginalHireDate\n",
        ");\n"
      ]
    },
    {
      "cell_type": "code",
      "execution_count": 4,
      "metadata": {
        "dotnet_interactive": {
          "language": "csharp"
        }
      },
      "outputs": [],
      "source": [
        "public sealed class RoleMap\n",
        "{\n",
        "    private readonly (string Canonical, string[] Synonyms)[] _map = new[]\n",
        "    {\n",
        "        (\"Manager\", new[] { \"manager\", \"managers\", \"supervisor\", \"team lead\", \"lead\" }),\n",
        "        (\"Engineer\", new[] { \"engineer\", \"staff engineer\", \"developer\" }),\n",
        "        (\"PM\", new[] { \"pm\", \"product manager\" }),\n",
        "        (\"Director\", new[] { \"director\" }),\n",
        "    };\n",
        "\n",
        "    public string? ToCanonicalRole(string normalized)\n",
        "    {\n",
        "        foreach (var (canon, syns) in _map)\n",
        "            if (syns.Any(s => Regex.IsMatch(normalized, $@\"\\b{Regex.Escape(s)}\\b\")))\n",
        "                return canon;\n",
        "        return null;\n",
        "    }\n",
        "}\n",
        "\n",
        "public sealed class DepartmentMap\n",
        "{\n",
        "    private readonly (string Canonical, string[] Synonyms)[] _map = new[]\n",
        "    {\n",
        "        (\"Engineering\", new[] { \"engineering\", \"eng\", \"dev\" }),\n",
        "        (\"Product\",     new[] { \"product\", \"pm team\" }),\n",
        "        (\"HR\",          new[] { \"hr\", \"human resources\" }),\n",
        "        (\"Sales\",       new[] { \"sales\", \"revenue\" })\n",
        "    };\n",
        "\n",
        "    public string? ToCanonicalDepartment(string normalized)\n",
        "    {\n",
        "        foreach (var (canon, syns) in _map)\n",
        "            if (syns.Any(s => Regex.IsMatch(normalized, $@\"\\b{Regex.Escape(s)}\\b\")))\n",
        "                return canon;\n",
        "        return null;\n",
        "    }\n",
        "}\n"
      ]
    },
    {
      "cell_type": "code",
      "execution_count": 5,
      "metadata": {
        "dotnet_interactive": {
          "language": "csharp"
        }
      },
      "outputs": [],
      "source": [
        "public static class QueryUnderstanding\n",
        "{\n",
        "    // 1) Normalize input\n",
        "    public static string Normalize(string input) =>\n",
        "        input.Trim().ToLowerInvariant().Replace(\"’\", \"'\");\n",
        "\n",
        "    // 2) Intent classifier (rule-first)\n",
        "    public static Intent ClassifyIntent(string normalized)\n",
        "    {\n",
        "        if (Regex.IsMatch(normalized, @\"\\b(email|contact|mail)\\b\")) return Intent.GetContactInfo;\n",
        "\n",
        "        if (Regex.IsMatch(normalized, @\"\\b(hire|start|joined|hired|tenure|employment)\\b\") &&\n",
        "            Regex.IsMatch(normalized, @\"\\b(before|after|between|on|since|last year|in \\d{4})\\b\"))\n",
        "            return Intent.FilterByHireDate;\n",
        "\n",
        "        if (Regex.IsMatch(normalized, @\"\\b(manager|managers|lead|leads|supervisor|director|vp|cto|staff engineer|engineer|pm|product manager|designer)\\b\"))\n",
        "            return Intent.FilterByRole;\n",
        "\n",
        "        return Intent.Unknown;\n",
        "    }\n",
        "\n",
        "    // 3) Slot filling\n",
        "    public static Slots FillSlots(\n",
        "        string normalized,\n",
        "        IReadOnlyList<Employee> employees,\n",
        "        RoleMap roleMap,\n",
        "        DepartmentMap deptMap)\n",
        "    {\n",
        "        var names = ExtractNames(normalized, employees);\n",
        "        var (date, range, op) = ExtractDateInfo(normalized);\n",
        "        var role = ExtractRole(normalized, roleMap);\n",
        "        var department = ExtractDepartment(normalized, deptMap);\n",
        "\n",
        "        op ??= range.HasValue ? \"between\"\n",
        "             : Regex.IsMatch(normalized, @\"\\bbefore\\b\") ? \"before\"\n",
        "             : Regex.IsMatch(normalized, @\"\\bafter\\b\") ? \"after\"\n",
        "             : Regex.IsMatch(normalized, @\"\\bon\\b|\\bin\\b\") ? \"on\"\n",
        "             : null;\n",
        "\n",
        "        return new Slots(\n",
        "            Names: names.Length > 0 ? names : null,\n",
        "            Date: date,\n",
        "            Range: range,\n",
        "            Operator: op,\n",
        "            Department: department,\n",
        "            Role: role\n",
        "        );\n",
        "    }\n",
        "\n",
        "    private static string[] ExtractNames(string normalized, IReadOnlyList<Employee> employees)\n",
        "    {\n",
        "        var tokens = Regex.Matches(normalized, @\"[a-z']+\").Select(m => m.Value).ToArray();\n",
        "        if (tokens.Length == 0) return Array.Empty<string>();\n",
        "\n",
        "        var unique = new HashSet<string>(StringComparer.OrdinalIgnoreCase);\n",
        "        foreach (var token in tokens)\n",
        "        {\n",
        "            if (token.Length < 2 || token is \"email\" or \"and\" or \"the\" or \"managers\") continue;\n",
        "\n",
        "            var best = employees\n",
        "                .Select(e => new\n",
        "                {\n",
        "                    Name = e.DisplayName,\n",
        "                    Score = Math.Max(\n",
        "                        Fuzz.PartialRatio(token, e.DisplayName.Split(' ')[0]),\n",
        "                        Fuzz.PartialRatio(token, e.DisplayName.Split(' ').Last()))\n",
        "                })\n",
        "                .OrderByDescending(x => x.Score)\n",
        "                .FirstOrDefault();\n",
        "\n",
        "            if (best is { Score: >= 85 }) unique.Add(best.Name);\n",
        "        }\n",
        "        return unique.ToArray();\n",
        "    }\n",
        "\n",
        "    private static (DateTime? Date, (DateTime Start, DateTime End)? Range, string? Operator)\n",
        "        ExtractDateInfo(string input)\n",
        "    {\n",
        "        var culture = Culture.English;\n",
        "        var results = DateTimeRecognizer.RecognizeDateTime(input, culture);\n",
        "\n",
        "        DateTime? single = null;\n",
        "        (DateTime Start, DateTime End)? range = null;\n",
        "        string? op = null;\n",
        "\n",
        "        foreach (var r in results)\n",
        "        {\n",
        "            if (!r.Resolution.TryGetValue(\"values\", out var valuesObj) ||\n",
        "                valuesObj is not List<Dictionary<string, string>> values) continue;\n",
        "\n",
        "            var first = values.FirstOrDefault();\n",
        "            if (first is null) continue;\n",
        "\n",
        "            if (first.TryGetValue(\"type\", out var t))\n",
        "            {\n",
        "                if (t.Contains(\"dateRange\") && first.TryGetValue(\"start\", out var s) && first.TryGetValue(\"end\", out var e))\n",
        "                {\n",
        "                    if (DateTime.TryParse(s, CultureInfo.InvariantCulture, DateTimeStyles.AssumeUniversal, out var start) &&\n",
        "                        DateTime.TryParse(e, CultureInfo.InvariantCulture, DateTimeStyles.AssumeUniversal, out var end))\n",
        "                    {\n",
        "                        range = (start.Date, end.Date);\n",
        "                        op ??= Regex.IsMatch(input, @\"\\bbetween\\b\", RegexOptions.IgnoreCase) ? \"between\" : \"range\";\n",
        "                    }\n",
        "                }\n",
        "                else if (t is \"date\" && first.TryGetValue(\"value\", out var v) &&\n",
        "                         DateTime.TryParse(v, CultureInfo.InvariantCulture, DateTimeStyles.AssumeUniversal, out var d))\n",
        "                {\n",
        "                    single = d.Date;\n",
        "                }\n",
        "            }\n",
        "        }\n",
        "\n",
        "        if (single is null && range is null)\n",
        "        {\n",
        "            var yearMatch = Regex.Match(input, @\"\\b(19|20)\\d{2}\\b\");\n",
        "            if (yearMatch.Success && int.TryParse(yearMatch.Value, out var y))\n",
        "            {\n",
        "                var cutoff = new DateTime(y, 1, 1, 0, 0, 0, DateTimeKind.Utc);\n",
        "                if (Regex.IsMatch(input, @\"\\bbefore\\b\", RegexOptions.IgnoreCase)) { op = \"before\"; single = cutoff; }\n",
        "                else if (Regex.IsMatch(input, @\"\\bafter\\b\", RegexOptions.IgnoreCase)) { op = \"after\"; single = cutoff; }\n",
        "                else if (Regex.IsMatch(input, @\"\\bon\\b|\\bin\\b\", RegexOptions.IgnoreCase)) { op = \"on\"; single = cutoff; }\n",
        "            }\n",
        "            else if (Regex.IsMatch(input, @\"\\blast year\\b\", RegexOptions.IgnoreCase))\n",
        "            {\n",
        "                var now = DateTime.UtcNow;\n",
        "                range = (new DateTime(now.Year - 1, 1, 1, 0, 0, 0, DateTimeKind.Utc),\n",
        "                         new DateTime(now.Year - 1, 12, 31, 0, 0, 0, DateTimeKind.Utc));\n",
        "                op = \"between\";\n",
        "            }\n",
        "        }\n",
        "\n",
        "        return (single, range, op);\n",
        "    }\n",
        "\n",
        "    private static string? ExtractRole(string normalized, RoleMap map) => map.ToCanonicalRole(normalized);\n",
        "    private static string? ExtractDepartment(string normalized, DepartmentMap map) => map.ToCanonicalDepartment(normalized);\n",
        "\n",
        "    // 4) Apply filters\n",
        "    public static IEnumerable<Employee> ApplyFilters(IEnumerable<Employee> employees, QuerySpec spec)\n",
        "    {\n",
        "        var q = employees;\n",
        "\n",
        "        if (spec.Slots.Names is { Length: > 0 })\n",
        "            q = q.Where(e => spec.Slots.Names!.Contains(e.DisplayName, StringComparer.OrdinalIgnoreCase));\n",
        "\n",
        "        if (!string.IsNullOrWhiteSpace(spec.Slots.Department))\n",
        "            q = q.Where(e => string.Equals(e.Department, spec.Slots.Department, StringComparison.OrdinalIgnoreCase));\n",
        "\n",
        "        if (!string.IsNullOrWhiteSpace(spec.Slots.Role))\n",
        "            q = q.Where(e => e.Role.Contains(spec.Slots.Role!, StringComparison.OrdinalIgnoreCase));\n",
        "\n",
        "        if (spec.Intent == Intent.FilterByHireDate || spec.Slots.Operator is not null)\n",
        "        {\n",
        "            var op = spec.Slots.Operator;\n",
        "            if (spec.Slots.Range is { } r)\n",
        "                q = q.Where(e => e.OriginalHireDate.Date >= r.Start.Date && e.OriginalHireDate.Date <= r.End.Date);\n",
        "            else if (spec.Slots.Date is { } d)\n",
        "            {\n",
        "                q = op switch\n",
        "                {\n",
        "                    \"before\" => q.Where(e => e.OriginalHireDate.Date < d.Date),\n",
        "                    \"after\"  => q.Where(e => e.OriginalHireDate.Date > d.Date),\n",
        "                    \"on\"     => q.Where(e => e.OriginalHireDate.Date == d.Date),\n",
        "                    _        => q\n",
        "                };\n",
        "            }\n",
        "        }\n",
        "\n",
        "        return q;\n",
        "    }\n",
        "}\n"
      ]
    },
    {
      "cell_type": "code",
      "execution_count": 6,
      "metadata": {
        "dotnet_interactive": {
          "language": "csharp"
        }
      },
      "outputs": [
        {
          "name": "stdout",
          "output_type": "stream",
          "text": [
            "Loaded demo employees: 5\n"
          ]
        }
      ],
      "source": [
        "var employees = new List<Employee> {\n",
        "    new(\"Rick Sanchez\",   \"rick.sanchez@company.com\",   \"Engineering\", \"Staff Engineer\",  new DateTime(2015,  5, 10)),\n",
        "    new(\"Morty Smith\",    \"morty.smith@company.com\",    \"Engineering\", \"Engineer I\",      new DateTime(2023, 10, 12)),\n",
        "    new(\"Summer Smith\",   \"summer.smith@company.com\",   \"Product\",     \"PM\",              new DateTime(2021,  2,  1)),\n",
        "    new(\"Beth Smith\",     \"beth.smith@company.com\",     \"HR\",          \"HR Manager\",      new DateTime(2019,  7,  3)),\n",
        "    new(\"Jerry Smith\",    \"jerry.smith@company.com\",    \"Sales\",       \"Account Manager\", new DateTime(2022,  9, 15))\n",
        "};\n",
        "\n",
        "Console.WriteLine($\"Loaded demo employees: {employees.Count}\");\n"
      ]
    },
    {
      "cell_type": "code",
      "execution_count": 7,
      "metadata": {
        "dotnet_interactive": {
          "language": "csharp"
        }
      },
      "outputs": [
        {
          "name": "stdout",
          "output_type": "stream",
          "text": [
            "Intent: Unknown | Slots: names=[] dept=∅ role=∅ op=∅ date=∅\n",
            "Rick Sanchez\n",
            "Morty Smith\n",
            "Summer Smith\n",
            "Beth Smith\n",
            "Jerry Smith\n",
            "\n",
            "Intent: FilterByHireDate | Slots: names=[] dept=Engineering role=Manager op=before date=2024-01-01\n",
            "\n",
            "\n",
            "Intent: FilterByHireDate | Slots: names=[] dept=∅ role=∅ op=∅ date=∅\n",
            "Rick Sanchez — 2015-05-10\n",
            "Morty Smith — 2023-10-12\n",
            "Summer Smith — 2021-02-01\n",
            "Beth Smith — 2019-07-03\n",
            "Jerry Smith — 2022-09-15\n"
          ]
        }
      ],
      "source": [
        "string Ask(string query)\n",
        "{\n",
        "    var text = QueryUnderstanding.Normalize(query);\n",
        "    var intent = QueryUnderstanding.ClassifyIntent(text);\n",
        "    var slots = QueryUnderstanding.FillSlots(text, employees, new RoleMap(), new DepartmentMap());\n",
        "    var spec = new QuerySpec(intent, slots);\n",
        "    var results = QueryUnderstanding.ApplyFilters(employees, spec).ToList();\n",
        "\n",
        "    string header = $\"Intent: {intent} | Slots: \" +\n",
        "                    $\"names=[{string.Join(\", \", slots.Names ?? Array.Empty<string>())}] \" +\n",
        "                    $\"dept={slots.Department ?? \"∅\"} role={slots.Role ?? \"∅\"} \" +\n",
        "                    $\"op={slots.Operator ?? \"∅\"} \" +\n",
        "                    (slots.Range is { } r ? $\"range=({r.Start:yyyy-MM-dd}..{r.End:yyyy-MM-dd})\" :\n",
        "                     slots.Date is { } d ? $\"date={d:yyyy-MM-dd}\" : \"date=∅\");\n",
        "\n",
        "    var body = intent switch\n",
        "    {\n",
        "        Intent.GetContactInfo    => string.Join('\\n', results.Select(e => $\"{e.DisplayName}: {e.Email}\")),\n",
        "        Intent.FilterByRole      => string.Join('\\n', results.Select(e => $\"{e.DisplayName} — {e.Role}\")),\n",
        "        Intent.FilterByHireDate  => string.Join('\\n', results.Select(e => $\"{e.DisplayName} — {e.OriginalHireDate:yyyy-MM-dd}\")),\n",
        "        _                        => results.Count == 0 ? \"No matches.\" : string.Join('\\n', results.Select(e => e.DisplayName))\n",
        "    };\n",
        "\n",
        "    return header + \"\\n\" + body;\n",
        "}\n",
        "\n",
        "// Try a few:\n",
        "Console.WriteLine(Ask(\"what are rick, summer, and morty's emails?\"));\n",
        "Console.WriteLine();\n",
        "Console.WriteLine(Ask(\"show managers in engineering hired before 2024\"));\n",
        "Console.WriteLine();\n",
        "Console.WriteLine(Ask(\"who was hired between 2020 and 2023?\"));\n"
      ]
    },
    {
      "cell_type": "markdown",
      "metadata": {},
      "source": [
        "## Next steps\n",
        "\n",
        "- Expand `RoleMap` / `DepartmentMap` with your org-specific synonyms and buckets.\n",
        "- Replace the in-memory list with your data source, keeping the **ApplyFilters** logic pure.\n",
        "- Add unit tests in a separate project (xUnit) that assert `ClassifyIntent`, `FillSlots`, and `ApplyFilters` behavior.\n",
        "- When you're ready, train a tiny ML.NET multiclass model for `Intent` and keep slot filling rule-based.\n"
      ]
    }
  ],
  "metadata": {
    "kernelspec": {
      "display_name": ".NET (C#)",
      "language": "C#",
      "name": ".net-csharp"
    },
    "language_info": {
      "name": "polyglot-notebook"
    },
    "polyglot_notebook": {
      "kernelInfo": {
        "defaultKernelName": "csharp",
        "items": [
          {
            "aliases": [],
            "name": "csharp"
          }
        ]
      }
    }
  },
  "nbformat": 4,
  "nbformat_minor": 5
}
