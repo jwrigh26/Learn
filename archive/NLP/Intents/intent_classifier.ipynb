{
 "cells": [
  {
   "cell_type": "markdown",
   "id": "af073e8a",
   "metadata": {},
   "source": [
    "# IIntentClassifier Tutorial\n",
    "This notebook focuses on implementing and testing the `IIntentClassifier` interface."
   ]
  },
  {
   "cell_type": "code",
   "execution_count": null,
   "id": "2be48309",
   "metadata": {
    "vscode": {
     "languageId": "csharp"
    }
   },
   "outputs": [],
   "source": [
    "#!csharp\n",
    "#nullable enable\n",
    "#load \"../../nlp_rag_design/SharedDefs.csx\"\n",
    "\n",
    "// Now Intent and IIntentClassifier are available to this notebook."
   ]
  },
  {
   "cell_type": "markdown",
   "id": "e4eeed48",
   "metadata": {},
   "source": [
    "## The `IIntentClassifier` Interface\n",
    "The `IIntentClassifier` interface defines a contract for classes that classify natural language queries into intents. Ensure the `Intent` enum is available (from shared code or the enums tutorial):\n",
    "```csharp\n",
    "public enum Intent { GetContactInfo, FilterByHireDate, FilterByRole, SearchByDepartment, Unknown }\n",
    "```\n",
    "And the interface:\n",
    "```csharp\n",
    "public interface IIntentClassifier\n",
    "{\n",
    "    (Intent intent, double confidence) Classify(string query);\n",
    "}\n",
    "```"
   ]
  },
  {
   "cell_type": "markdown",
   "id": "0e920868",
   "metadata": {},
   "source": [
    "## Path A – Keyword Classifier (learn the basics)\n",
    "We’ll start with a very simple approach: look for keywords and map them to intents. This is great for learning because you can see the end-to-end flow without extra tooling. It’s not robust, but it helps you understand how an `IIntentClassifier` plugs into your pipeline."
   ]
  },
  {
   "cell_type": "code",
   "execution_count": null,
   "id": "52290fee",
   "metadata": {
    "vscode": {
     "languageId": "csharp"
    }
   },
   "outputs": [],
   "source": [
    "// Simple keyword-based classifier\n",
    "public class KeywordIntentClassifier : IIntentClassifier\n",
    "{\n",
    "    public (Intent intent, double confidence) Classify(string query)\n",
    "    {\n",
    "        query = query.ToLowerInvariant();\n",
    "        if (query.Contains(\"contact\")) return (Intent.GetContactInfo, 0.9);\n",
    "        if (query.Contains(\"hire date\")) return (Intent.FilterByHireDate, 0.8);\n",
    "        if (query.Contains(\"role\")) return (Intent.FilterByRole, 0.8);\n",
    "        if (query.Contains(\"department\")) return (Intent.SearchByDepartment, 0.8);\n",
    "        return (Intent.Unknown, 0.5);\n",
    "    }\n",
    "}\n",
    "\n",
    "// Test the classifier\n",
    "var classifier = new KeywordIntentClassifier();\n",
    "var samples = new[]\n",
    "{\n",
    "    \"Show me the department list\",\n",
    "    \"What is Alice's contact information?\",\n",
    "    \"List employees hired after 2020\",\n",
    "    \"Who is the manager?\" // no keywords\n",
    "};\n",
    "\n",
    "foreach (var q in samples)\n",
    "{\n",
    "    var (detected, score) = classifier.Classify(q);\n",
    "    Console.WriteLine($\"Query: '{q}' => {detected} (confidence: {score})\");\n",
    "}"
   ]
  },
  {
   "cell_type": "markdown",
   "id": "7cd67e90",
   "metadata": {},
   "source": [
    "## Path B – ML.NET Classifier (production-ready idea)\n",
    "After you grasp the basics, you can train a model that learns patterns from labeled examples instead of hard-coded keywords. The next cell loads ML.NET, builds a tiny text-classification pipeline, trains on an in-memory dataset, and compares predictions to the keyword approach. In real projects, expand your dataset and persist the trained model."
   ]
  },
  {
   "cell_type": "code",
   "execution_count": null,
   "id": "55371db8",
   "metadata": {
    "vscode": {
     "languageId": "csharp"
    }
   },
   "outputs": [],
   "source": [
    "#r \"nuget: Microsoft.ML, 3.0.1\"\n",
    "#r \"nuget: Microsoft.ML.FastTree, 3.0.1\"\n",
    "\n",
    "using Microsoft.ML;\n",
    "using Microsoft.ML.Data;\n",
    "\n",
    "public class IntentExample\n",
    "{\n",
    "    public string Query { get; set; } = string.Empty;\n",
    "    public string Label { get; set; } = string.Empty; // string label for training\n",
    "}\n",
    "\n",
    "public class IntentPrediction\n",
    "{\n",
    "    [ColumnName(\"PredictedLabel\")] public string PredictedLabel { get; set; } = string.Empty;\n",
    "    public float[] Score { get; set; } = System.Array.Empty<float>();\n",
    "}\n",
    "\n",
    "public class MlNetIntentClassifier : IIntentClassifier\n",
    "{\n",
    "    private readonly MLContext _ml = new MLContext(seed: 1);\n",
    "    private readonly PredictionEngine<IntentExample, IntentPrediction> _engine;\n",
    "    private readonly string[] _labels;\n",
    "\n",
    "    public MlNetIntentClassifier()\n",
    "    {\n",
    "        // Small toy dataset – replace with your labeled data\n",
    "        var data = new[]\n",
    "        {\n",
    "            new IntentExample { Query = \"contact info for alice\", Label = nameof(Intent.GetContactInfo) },\n",
    "            new IntentExample { Query = \"how do i contact bob\", Label = nameof(Intent.GetContactInfo) },\n",
    "            new IntentExample { Query = \"employees hired after 2020\", Label = nameof(Intent.FilterByHireDate) },\n",
    "            new IntentExample { Query = \"hired before feb 2021\", Label = nameof(Intent.FilterByHireDate) },\n",
    "            new IntentExample { Query = \"list engineers\", Label = nameof(Intent.FilterByRole) },\n",
    "            new IntentExample { Query = \"manager role\", Label = nameof(Intent.FilterByRole) },\n",
    "            new IntentExample { Query = \"who is in marketing\", Label = nameof(Intent.SearchByDepartment) },\n",
    "            new IntentExample { Query = \"sales department members\", Label = nameof(Intent.SearchByDepartment) },\n",
    "            new IntentExample { Query = \"random question\", Label = nameof(Intent.Unknown) },\n",
    "        };\n",
    "\n",
    "        var trainData = _ml.Data.LoadFromEnumerable(data);\n",
    "\n",
    "        // Build pipeline: text featurization -> multiclass classifier -> map key back to string\n",
    "        var pipeline = _ml.Transforms.Conversion.MapValueToKey(\"Label\")\n",
    "            .Append(_ml.Transforms.Text.FeaturizeText(\"Features\", nameof(IntentExample.Query)))\n",
    "            .Append(_ml.MulticlassClassification.Trainers.SdcaMaximumEntropy())\n",
    "            .Append(_ml.Transforms.Conversion.MapKeyToValue(\"PredictedLabel\"));\n",
    "\n",
    "        var model = pipeline.Fit(trainData);\n",
    "        _engine = _ml.Model.CreatePredictionEngine<IntentExample, IntentPrediction>(model);\n",
    "\n",
    "        _labels = new[]\n",
    "        {\n",
    "            nameof(Intent.GetContactInfo),\n",
    "            nameof(Intent.FilterByHireDate),\n",
    "            nameof(Intent.FilterByRole),\n",
    "            nameof(Intent.SearchByDepartment),\n",
    "            nameof(Intent.Unknown)\n",
    "        };\n",
    "    }\n",
    "\n",
    "    public (Intent intent, double confidence) Classify(string query)\n",
    "    {\n",
    "        var pred = _engine.Predict(new IntentExample { Query = query });\n",
    "        // Map predicted string back to enum\n",
    "        if (!Enum.TryParse<Intent>(pred.PredictedLabel, out var intent))\n",
    "            intent = Intent.Unknown;\n",
    "\n",
    "        // Confidence from softmax-like scores (not calibrated). Take max.\n",
    "        double conf = 0.0;\n",
    "        if (pred.Score != null && pred.Score.Length > 0)\n",
    "        {\n",
    "            var max = pred.Score.Max();\n",
    "            var sum = pred.Score.Sum(s => Math.Exp(s));\n",
    "            conf = Math.Exp(max) / sum;\n",
    "        }\n",
    "        return (intent, conf);\n",
    "    }\n",
    "}\n",
    "\n",
    "// Demo both classifiers\n",
    "var keywordCls = new KeywordIntentClassifier();\n",
    "var mlCls = new MlNetIntentClassifier();\n",
    "\n",
    "var testQueries = new[]\n",
    "{\n",
    "    \"contact details for rick\",\n",
    "    \"engineers hired after 2021\",\n",
    "    \"who is in sales\",\n",
    "    \"tell me something unrelated\"\n",
    "};\n",
    "\n",
    "Console.WriteLine(\"Keyword vs ML.NET\\n-------------------\");\n",
    "foreach (var q in testQueries)\n",
    "{\n",
    "    var (i1, c1) = keywordCls.Classify(q);\n",
    "    var (i2, c2) = mlCls.Classify(q);\n",
    "    Console.WriteLine($\"Q: {q}\\n  Keyword => {i1} ({c1:F2})\\n  ML.NET  => {i2} ({c2:F2})\\n\");\n",
    "}"
   ]
  },
  {
   "cell_type": "markdown",
   "id": "730a168f",
   "metadata": {},
   "source": [
    "## 5. Next Steps\n",
    "1. Integrate a real NLP model (e.g., using ML.NET or an external LLM) for improved accuracy.  \n",
    "2. Expand the classifier to handle more complex queries and use slot filling.  \n",
    "3. Combine with `ISlotFiller` and `IQueryDispatcher` to build a full pipeline."
   ]
  }
 ],
 "metadata": {
  "language_info": {
   "name": "python"
  }
 },
 "nbformat": 4,
 "nbformat_minor": 5
}
