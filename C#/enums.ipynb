{
 "cells": [
  {
   "cell_type": "markdown",
   "id": "4f82472d",
   "metadata": {},
   "source": [
    "# C# Enums Tutorial\n",
    "Learn how to declare, use, and pattern-match with enums in C#."
   ]
  },
  {
   "cell_type": "markdown",
   "id": "c847fdfb",
   "metadata": {},
   "source": [
    "## Declaring an Enum"
   ]
  },
  {
   "cell_type": "code",
   "execution_count": null,
   "id": "da4557dc",
   "metadata": {
    "vscode": {
     "languageId": "csharp"
    }
   },
   "outputs": [],
   "source": [
    "public enum Intent\n",
    "{\n",
    "    GetContactInfo,\n",
    "    FilterByHireDate,\n",
    "    FilterByRole,\n",
    "    SearchByDepartment,\n",
    "    Unknown\n",
    "}\n",
    "\n",
    "Console.WriteLine(Intent.FilterByRole);"
   ]
  },
  {
   "cell_type": "markdown",
   "id": "14308d24",
   "metadata": {},
   "source": [
    "## Underlying Values and Casting"
   ]
  },
  {
   "cell_type": "code",
   "execution_count": null,
   "id": "efc194b7",
   "metadata": {
    "vscode": {
     "languageId": "csharp"
    }
   },
   "outputs": [],
   "source": [
    "Console.WriteLine((int)Intent.FilterByRole); // 2\n",
    "\n",
    "// Custom underlying values\n",
    "public enum Status : short { Ok = 200, NotFound = 404, ServerError = 500 }\n",
    "Console.WriteLine((short)Status.NotFound); // 404"
   ]
  },
  {
   "cell_type": "markdown",
   "id": "0ab892d8",
   "metadata": {},
   "source": [
    "## Switch Expressions with Enums"
   ]
  },
  {
   "cell_type": "code",
   "execution_count": null,
   "id": "4d9d7556",
   "metadata": {
    "vscode": {
     "languageId": "csharp"
    }
   },
   "outputs": [],
   "source": [
    "string DescribeIntent(Intent intent) => intent switch\n",
    "{\n",
    "    Intent.GetContactInfo => \"Retrieve contact information\",\n",
    "    Intent.FilterByHireDate => \"Filter employees by hire date\",\n",
    "    Intent.FilterByRole => \"Filter employees by role\",\n",
    "    Intent.SearchByDepartment => \"Search employees by department\",\n",
    "    Intent.Unknown => \"Intent not recognized\",\n",
    "    _ => \"Unknown intent\"\n",
    "};\n",
    "\n",
    "Console.WriteLine(DescribeIntent(Intent.FilterByHireDate));"
   ]
  },
  {
   "cell_type": "markdown",
   "id": "bdd69e1a",
   "metadata": {},
   "source": [
    "## Flags Enums\n",
    "Use [Flags] for bitwise combinations."
   ]
  },
  {
   "cell_type": "code",
   "execution_count": null,
   "id": "8ed71f92",
   "metadata": {
    "vscode": {
     "languageId": "csharp"
    }
   },
   "outputs": [],
   "source": [
    "[Flags]\n",
    "public enum Permissions\n",
    "{\n",
    "    None = 0,\n",
    "    Read = 1 << 0,\n",
    "    Write = 1 << 1,\n",
    "    Execute = 1 << 2\n",
    "}\n",
    "\n",
    "var rw = Permissions.Read | Permissions.Write;\n",
    "Console.WriteLine(rw);                 // Read, Write\n",
    "Console.WriteLine(rw.HasFlag(Permissions.Write)); // True"
   ]
  }
 ],
 "metadata": {
  "language_info": {
   "name": "python"
  }
 },
 "nbformat": 4,
 "nbformat_minor": 5
}
