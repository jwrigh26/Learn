{
 "cells": [
  {
   "cell_type": "markdown",
   "id": "5f5fcf08",
   "metadata": {},
   "source": [
    "# C# Records Tutorial\n",
    "This notebook walks through C# `record` types—immutable, concise data carriers with value-based equality and built-in support for boilerplate like constructors, `ToString`, and `with` expressions."
   ]
  },
  {
   "cell_type": "markdown",
   "id": "437ace21",
   "metadata": {},
   "source": [
    "## 1. Positional Records\n",
    "A simple way to declare an immutable data type with minimal code:"
   ]
  },
  {
   "cell_type": "code",
   "execution_count": null,
   "id": "4ac5dc09",
   "metadata": {
    "vscode": {
     "languageId": "csharp"
    }
   },
   "outputs": [],
   "source": [
    "// Define a positional record\n",
    "public record Person(string FirstName, string LastName, int Age);\n",
    "\n",
    "// Instantiate and use\n",
    "var p1 = new Person(\"Alice\", \"Johnson\", 30);\n",
    "Console.WriteLine(p1);                // Person { FirstName = Alice, LastName = Johnson, Age = 30 }\n",
    "Console.WriteLine(p1.FirstName);     // Alice"
   ]
  },
  {
   "cell_type": "markdown",
   "id": "5cdf8401",
   "metadata": {},
   "source": [
    "## 2. Value-Based Equality\n",
    "Two record instances are equal if all properties match by value:"
   ]
  },
  {
   "cell_type": "code",
   "execution_count": null,
   "id": "cf1904bd",
   "metadata": {
    "vscode": {
     "languageId": "csharp"
    }
   },
   "outputs": [],
   "source": [
    "var p2 = new Person(\"Alice\", \"Johnson\", 30);\n",
    "Console.WriteLine(p1 == p2);         // True\n",
    "Console.WriteLine(ReferenceEquals(p1, p2)); // False"
   ]
  },
  {
   "cell_type": "markdown",
   "id": "bfd32542",
   "metadata": {},
   "source": [
    "## 3. Immutability and `with` Expressions\n",
    "Records are immutable by default. Use `with` to create a modified copy:"
   ]
  },
  {
   "cell_type": "code",
   "execution_count": null,
   "id": "c3985c28",
   "metadata": {
    "vscode": {
     "languageId": "csharp"
    }
   },
   "outputs": [],
   "source": [
    "var p3 = p1 with { Age = 31 };\n",
    "Console.WriteLine(p3);               // Person { FirstName = Alice, LastName = Johnson, Age = 31 }"
   ]
  },
  {
   "cell_type": "markdown",
   "id": "1aa4568c",
   "metadata": {},
   "source": [
    "## 4. Record Inheritance\n",
    "Records support inheritance; derived positional records must list base parameters:"
   ]
  },
  {
   "cell_type": "code",
   "execution_count": null,
   "id": "dc852be0",
   "metadata": {
    "vscode": {
     "languageId": "csharp"
    }
   },
   "outputs": [],
   "source": [
    "public record Employee(string FirstName, string LastName, int Age, string Role)\n",
    "    : Person(FirstName, LastName, Age);\n",
    "\n",
    "var e1 = new Employee(\"Bob\", \"Smith\", 40, \"Manager\");\n",
    "Console.WriteLine(e1);              // Employee { FirstName = Bob, LastName = Smith, Age = 40, Role = Manager }"
   ]
  },
  {
   "cell_type": "markdown",
   "id": "9accde18",
   "metadata": {},
   "source": [
    "## 5. Customizing Members\n",
    "You can add methods or override `ToString`:"
   ]
  },
  {
   "cell_type": "code",
   "execution_count": null,
   "id": "d305e84a",
   "metadata": {
    "vscode": {
     "languageId": "csharp"
    }
   },
   "outputs": [],
   "source": [
    "public record Point(int X, int Y)\n",
    "{\n",
    "    public int DistanceFromOrigin() => (int)Math.Sqrt(X * X + Y * Y);\n",
    "    public override string ToString() => $\"({X}, {Y})\";\n",
    "}\n",
    "\n",
    "var pt = new Point(3, 4);\n",
    "Console.WriteLine(pt);              // (3, 4)\n",
    "Console.WriteLine(pt.DistanceFromOrigin()); // 5"
   ]
  },
  {
   "cell_type": "markdown",
   "id": "ea9f789a",
   "metadata": {},
   "source": [
    "## 6. Record Deconstruction\n",
    "Extract record properties into variables:"
   ]
  },
  {
   "cell_type": "code",
   "execution_count": null,
   "id": "a76edf49",
   "metadata": {
    "vscode": {
     "languageId": "csharp"
    }
   },
   "outputs": [],
   "source": [
    "var (first, last, age) = p1;\n",
    "Console.WriteLine($\"{first} {last} is {age} years old\");"
   ]
  },
  {
   "cell_type": "markdown",
   "id": "c53fd2b3",
   "metadata": {},
   "source": [
    "## Key Takeaways\n",
    "1. **Immutable by default** – safe data carriers.\n",
    "2. **Value equality** – compares by content, not reference.\n",
    "3. **Built-in boilerplate** – concise declaration, constructor, `ToString`, `Deconstruct`, `with`.\n",
    "4. **Inheritance support** – extends other records.\n",
    "\n",
    "Use records when you need lightweight, immutable objects with value-based semantics."
   ]
  }
 ],
 "metadata": {
  "language_info": {
   "name": "python"
  }
 },
 "nbformat": 4,
 "nbformat_minor": 5
}
