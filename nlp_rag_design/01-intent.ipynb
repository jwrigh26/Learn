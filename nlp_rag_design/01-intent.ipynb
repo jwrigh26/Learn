{
  "cells": [
    {
      "cell_type": "markdown",
      "metadata": {},
      "source": [
        "# 01 – Intent Classifier (rule‑based)\n"
      ]
    },
    {
      "cell_type": "markdown",
      "metadata": {},
      "source": [
        "We keep this deterministic and heavily testable. Start with rules; ML later.\n"
      ]
    },
    {
      "cell_type": "code",
      "execution_count": 5,
      "metadata": {
        "dotnet_interactive": {
          "language": "csharp"
        }
      },
      "outputs": [
        {
          "data": {
            "text/html": [
              "<div><div></div><div></div><div><strong>Installed Packages</strong><ul><li><span>Microsoft.Extensions.DependencyInjection, 8.0.0</span></li><li><span>Microsoft.Extensions.Logging.Console, 8.0.0</span></li></ul></div></div>"
            ]
          },
          "metadata": {},
          "output_type": "display_data"
        },
        {
          "name": "stdout",
          "output_type": "stream",
          "text": [
            "What are Rick and Summer's emails? -> Unknown (0.3)\n",
            "Show managers hired after 2020 -> FilterByHireDate (0.85)\n",
            "Anyone in engineering? -> SearchByDepartment (0.7)\n",
            "hi -> Unknown (0.3)\n"
          ]
        }
      ],
      "source": [
        "#!csharp\n",
        "#pragma warning disable 1701, 1702\n",
        "#nullable enable\n",
        "#load \"SharedDefs.csx\"\n",
        "#r \"nuget: Microsoft.Extensions.DependencyInjection,   8.0.0\"\n",
        "#r \"nuget: Microsoft.Extensions.Logging.Console,    8.0.0\"\n",
        "\n",
        "using System;\n",
        "using System.Text.RegularExpressions;\n",
        "using Microsoft.Extensions.Logging;\n",
        "\n",
        "public class RuleIntentClassifier : IIntentClassifier\n",
        "{\n",
        "    private readonly ILogger<RuleIntentClassifier> _log;\n",
        "    public RuleIntentClassifier(ILogger<RuleIntentClassifier> log) => _log = log;\n",
        "\n",
        "    public (Intent intent, double confidence) Classify(string query)\n",
        "    {\n",
        "        var q = query.ToLowerInvariant();\n",
        "        if (Regex.IsMatch(q, @\"\\b(email|e-mail|contact)\\b\"))\n",
        "            return (Intent.GetContactInfo, 0.95);\n",
        "        if (Regex.IsMatch(q, @\"\\b(hired?|hire date|start(ed)?|joined)\\b\") &&\n",
        "            Regex.IsMatch(q, @\"\\b(before|after|between|since)\\b\"))\n",
        "            return (Intent.FilterByHireDate, 0.85);\n",
        "        if (Regex.IsMatch(q, @\"\\b(manager|director|lead|supervisor)\\b\"))\n",
        "            return (Intent.FilterByRole, 0.8);\n",
        "        if (Regex.IsMatch(q, @\"\\b(engineering|marketing|sales|people|hr|it)\\b\"))\n",
        "            return (Intent.SearchByDepartment, 0.7);\n",
        "        return (Intent.Unknown, 0.3);\n",
        "    }\n",
        "}\n",
        "\n",
        "// quick golden tests\n",
        "var clf = new RuleIntentClassifier(LoggerFactory.Create(b=>b.AddConsole()).CreateLogger<RuleIntentClassifier>());\n",
        "var samples = new[] {\n",
        "    \"What are Rick and Summer's emails?\",\n",
        "    \"Show managers hired after 2020\",\n",
        "    \"Anyone in engineering?\",\n",
        "    \"hi\"\n",
        "};\n",
        "foreach (var s in samples)\n",
        "{\n",
        "    var (i,c) = clf.Classify(s);\n",
        "    Console.WriteLine($\"{s} -> {i} ({c})\");\n",
        "}\n"
      ]
    }
  ],
  "metadata": {
    "kernelspec": {
      "display_name": ".NET (C#)",
      "language": "C#",
      "name": ".net-csharp"
    },
    "language_info": {
      "name": "polyglot-notebook"
    },
    "polyglot_notebook": {
      "kernelInfo": {
        "defaultKernelName": "csharp",
        "items": [
          {
            "aliases": [],
            "name": "csharp"
          }
        ]
      }
    }
  },
  "nbformat": 4,
  "nbformat_minor": 5
}
