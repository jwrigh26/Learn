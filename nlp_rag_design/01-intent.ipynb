{
  "cells": [
    {
      "cell_type": "markdown",
      "metadata": {},
      "source": [
        "# 01 — Intent Classification (rules)\n",
        "**Date:** 2025-08-09\n",
        "\n",
        "Keep it deterministic and testable. Adjust keywords as your domain grows.\n"
      ]
    },
    {
      "cell_type": "code",
      "execution_count": 1,
      "metadata": {
        "dotnet_interactive": {
          "language": "csharp"
        }
      },
      "outputs": [
        {
          "data": {
            "text/html": [
              "<div><div></div><div></div><div><strong>Installed Packages</strong><ul><li><span>FuzzySharp, 2.0.2</span></li><li><span>Microsoft.Extensions.Caching.Memory, 9.0.8</span></li><li><span>Microsoft.Recognizers.Text, 1.8.13</span></li><li><span>Microsoft.Recognizers.Text.DateTime, 1.8.13</span></li><li><span>RestSharp, 112.1.0</span></li><li><span>System.Text.Json, 9.0.0</span></li></ul></div></div>"
            ]
          },
          "metadata": {},
          "output_type": "display_data"
        }
      ],
      "source": [
        "#r \"nuget: Microsoft.Recognizers.Text, 1.8.13\"\n",
        "#r \"nuget: Microsoft.Recognizers.Text.DateTime, 1.8.13\"\n",
        "#r \"nuget: FuzzySharp, 2.0.2\"\n",
        "#r \"nuget: RestSharp, 112.1.0\"\n",
        "#r \"nuget: Microsoft.Extensions.Caching.Memory, 9.0.8\"\n",
        "#r \"nuget: System.Text.Json, 9.0.0\"\n"
      ]
    },
    {
      "cell_type": "code",
      "execution_count": null,
      "metadata": {
        "dotnet_interactive": {
          "language": "csharp"
        },
        "vscode": {
          "languageId": "csharp"
        }
      },
      "outputs": [],
      "source": [
        "using System;\n",
        "using System.Collections.Generic;\n",
        "using System.Linq;\n",
        "using System.Text.Json;\n",
        "using Microsoft.Recognizers.Text;\n",
        "using Microsoft.Recognizers.Text.DateTime;\n",
        "using FuzzySharp;\n",
        "using RestSharp;\n",
        "\n",
        "public enum Intent { GetContactInfo, FilterByHireDate, FilterByRole, Unknown }\n",
        "\n",
        "public record Slots(\n",
        "    string[]? Names = null,\n",
        "    DateTime? Date = null,\n",
        "    (DateTime Start, DateTime End)? Range = null,\n",
        "    string? Operator = null,\n",
        "    string? Department = null,\n",
        "    string? Role = null\n",
        ");\n",
        "\n",
        "public record QuerySpec(Intent Intent, Slots Slots);\n",
        "\n",
        "public record Employee(\n",
        "    string DisplayName,\n",
        "    string Email,\n",
        "    string Department,\n",
        "    string Role,\n",
        "    DateTime OriginalHireDate\n",
        ");\n",
        "\n",
        "var employees = new List<Employee> {\n",
        "    new(\"Rick Sanchez\",   \"rick.sanchez@company.com\",   \"Engineering\", \"Staff Engineer\",  new DateTime(2015,  5, 10)),\n",
        "    new(\"Morty Smith\",    \"morty.smith@company.com\",    \"Engineering\", \"Engineer I\",      new DateTime(2023, 10, 12)),\n",
        "    new(\"Summer Smith\",   \"summer.smith@company.com\",   \"Product\",     \"PM\",              new DateTime(2021,  2,  1)),\n",
        "    new(\"Beth Smith\",     \"beth.smith@company.com\",     \"HR\",          \"HR Manager\",      new DateTime(2019,  7,  3)),\n",
        "    new(\"Jerry Smith\",    \"jerry.smith@company.com\",    \"Sales\",       \"Account Manager\", new DateTime(2022,  9, 15))\n",
        "};\n",
        "\n",
        "Console.WriteLine($\"Loaded demo employees: {employees.Count}\");\n"
      ]
    },
    {
      "cell_type": "code",
      "execution_count": null,
      "metadata": {
        "dotnet_interactive": {
          "language": "csharp"
        }
      },
      "outputs": [],
      "source": [
        "static Intent ClassifyIntent(string query)\n",
        "{\n",
        "    var q = query.ToLowerInvariant();\n",
        "    if (q.Contains(\"email\") || q.Contains(\"contact\")) return Intent.GetContactInfo;\n",
        "    if (q.Contains(\"hire\") && (q.Contains(\"before\") || q.Contains(\"after\") || q.Contains(\"between\"))) return Intent.FilterByHireDate;\n",
        "    if (q.Contains(\"manager\") || q.Contains(\"engineer\") || q.Contains(\"director\") || q.Contains(\"role\")) return Intent.FilterByRole;\n",
        "    return Intent.Unknown;\n",
        "}\n",
        "\n",
        "Console.WriteLine(ClassifyIntent(\"what are rick and summer's emails?\"));\n",
        "Console.WriteLine(ClassifyIntent(\"show managers hired after 2020\"));\n",
        "Console.WriteLine(ClassifyIntent(\"who are the engineers?\"));\n"
      ]
    }
  ],
  "metadata": {
    "kernelspec": {
      "display_name": ".NET (C#)",
      "language": "C#",
      "name": ".net-csharp"
    },
    "language_info": {
      "file_extension": ".cs",
      "name": "polyglot-notebook"
    },
    "polyglot_notebook": {
      "kernelInfo": {
        "defaultKernelName": "csharp",
        "items": [
          {
            "aliases": [],
            "name": "csharp"
          }
        ]
      }
    }
  },
  "nbformat": 4,
  "nbformat_minor": 5
}
