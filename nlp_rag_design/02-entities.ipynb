{
  "cells": [
    {
      "cell_type": "markdown",
      "metadata": {},
      "source": "# 02 \u2014 Entity Extraction (dates, names, roles/depts)\n**Date:** 2025-08-09\n\nDeterministic extraction using Recognizers.Text, FuzzySharp, and a small lexicon.\n"
    },
    {
      "cell_type": "code",
      "metadata": {
        "dotnet_interactive": {
          "language": "csharp"
        }
      },
      "source": "#r \"nuget: Microsoft.Recognizers.Text, 1.8.13\"\n#r \"nuget: Microsoft.Recognizers.Text.DateTime, 1.8.13\"\n#r \"nuget: FuzzySharp, 2.0.2\"\n#r \"nuget: RestSharp, 112.1.0\"\n#r \"nuget: Microsoft.Extensions.Caching.Memory, 9.0.8\"\n#r \"nuget: System.Text.Json, 9.0.0\"\n",
      "outputs": [],
      "execution_count": null
    },
    {
      "cell_type": "code",
      "metadata": {
        "dotnet_interactive": {
          "language": "csharp"
        }
      },
      "source": "using System;\nusing System.Collections.Generic;\nusing System.Linq;\nusing System.Text.Json;\nusing Microsoft.Recognizers.Text;\nusing Microsoft.Recognizers.Text.DateTime;\nusing FuzzySharp;\nusing RestSharp;\n\npublic enum Intent { GetContactInfo, FilterByHireDate, FilterByRole, Unknown }\n\npublic record Slots(\n    string[]? Names = null,\n    DateTime? Date = null,\n    (DateTime Start, DateTime End)? Range = null,\n    string? Operator = null,\n    string? Department = null,\n    string? Role = null\n);\n\npublic record QuerySpec(Intent Intent, Slots Slots);\n\npublic record Employee(\n    string DisplayName,\n    string Email,\n    string Department,\n    string Role,\n    DateTime OriginalHireDate\n);\n\nvar employees = new List<Employee> {\n    new(\"Rick Sanchez\",   \"rick.sanchez@company.com\",   \"Engineering\", \"Staff Engineer\",  new DateTime(2015,  5, 10)),\n    new(\"Morty Smith\",    \"morty.smith@company.com\",    \"Engineering\", \"Engineer I\",      new DateTime(2023, 10, 12)),\n    new(\"Summer Smith\",   \"summer.smith@company.com\",   \"Product\",     \"PM\",              new DateTime(2021,  2,  1)),\n    new(\"Beth Smith\",     \"beth.smith@company.com\",     \"HR\",          \"HR Manager\",      new DateTime(2019,  7,  3)),\n    new(\"Jerry Smith\",    \"jerry.smith@company.com\",    \"Sales\",       \"Account Manager\", new DateTime(2022,  9, 15))\n};\n\nConsole.WriteLine($\"Loaded demo employees: {employees.Count}\");\n",
      "outputs": [],
      "execution_count": null
    },
    {
      "cell_type": "code",
      "metadata": {
        "dotnet_interactive": {
          "language": "csharp"
        }
      },
      "source": "public record DateExtraction(DateTime? Date, (DateTime Start, DateTime End)? Range, string? Operator);\n\nstatic DateExtraction ExtractDates(string query)\n{\n    var results = DateTimeRecognizer.RecognizeDateTime(query, Culture.English);\n    var values = new List<DateTime>();\n\n    foreach (var r in results)\n    {\n        if (!r.Resolution.TryGetValue(\"values\", out var valsObj)) continue;\n        var vals = valsObj as List<Dictionary<string, string>>;\n        if (vals == null) continue;\n        foreach (var v in vals)\n        {\n            if (v.TryGetValue(\"value\", out var s) && DateTime.TryParse(s, out var dt))\n                values.Add(dt);\n            else if (v.TryGetValue(\"start\", out var s1) && v.TryGetValue(\"end\", out var s2)\n                     && DateTime.TryParse(s1, out var d1) && DateTime.TryParse(s2, out var d2))\n                return new DateExtraction(null, (d1, d2), \"between\");\n        }\n    }\n\n    string? op = null;\n    var lower = query.ToLowerInvariant();\n    if (lower.Contains(\"before\")) op = \"before\";\n    else if (lower.Contains(\"after\")) op = \"after\";\n    else if (lower.Contains(\"between\")) op = \"between\";\n\n    if (values.Count >= 2) return new DateExtraction(null, (values.Min(), values.Max()), \"between\");\n    if (values.Count == 1) return new DateExtraction(values[0], null, op);\n    return new DateExtraction(null, null, null);\n}\n\nConsole.WriteLine(ExtractDates(\"hired before 2024\"));\nConsole.WriteLine(ExtractDates(\"hired between 2020 and 2023\"));\nConsole.WriteLine(ExtractDates(\"hired after Jan 1 2021\"));\n",
      "outputs": [],
      "execution_count": null
    },
    {
      "cell_type": "code",
      "metadata": {
        "dotnet_interactive": {
          "language": "csharp"
        }
      },
      "source": "var lexiconJson = @\"{\n  \"\"departments\"\": {\n    \"\"engineering\"\": [\"\"engineering\"\",\"\"eng\"\",\"\"platform\"\",\"\"product engineering\"\"],\n    \"\"hr\"\": [\"\"hr\"\",\"\"human resources\"\"],\n    \"\"sales\"\": [\"\"sales\"\",\"\"bizdev\"\",\"\"business development\"\"],\n    \"\"product\"\": [\"\"product\"\",\"\"pm\"\",\"\"program management\"\"]\n  },\n  \"\"roles\"\": {\n    \"\"manager\"\": [\"\"manager\"\",\"\"supervisor\"\",\"\"team lead\"\",\"\"lead\"\"],\n    \"\"engineer\"\": [\"\"engineer\"\",\"\"developer\"\",\"\"dev\"\",\"\"software engineer\"\"],\n    \"\"pm\"\": [\"\"pm\"\",\"\"product manager\"\",\"\"program manager\"\"]\n  }\n}\";\nusing System.Text.Json.Nodes;\n\nvar lexicon = JsonNode.Parse(lexiconJson)!.AsObject();\n\nstatic string? MapAlias(System.Text.Json.Nodes.JsonObject section, string input)\n{\n    var q = input.ToLowerInvariant();\n    foreach (var kvp in section)\n    {\n        var canon = kvp.Key;\n        var aliases = kvp.Value!.AsArray().Select(n => n!.ToString().ToLowerInvariant());\n        if (aliases.Contains(q) || canon.ToLowerInvariant() == q) return canon;\n        var best = FuzzySharp.Process.ExtractOne(q, aliases.ToList());\n        if (best != null && best.Score >= 90) return canon;\n    }\n    return null;\n}\n\nstring? MapDepartment(string text) => MapAlias((System.Text.Json.Nodes.JsonObject)lexicon[\"departments\"]!, text);\nstring? MapRole(string text) => MapAlias((System.Text.Json.Nodes.JsonObject)lexicon[\"roles\"]!, text);\n\nConsole.WriteLine(MapDepartment(\"eng\"));\nConsole.WriteLine(MapRole(\"team lead\"));\n",
      "outputs": [],
      "execution_count": null
    },
    {
      "cell_type": "code",
      "metadata": {
        "dotnet_interactive": {
          "language": "csharp"
        }
      },
      "source": "static List<string> ExtractCandidateNames(string query)\n{\n    var seps = new [] {\",\",\" and \",\" & \"};\n    var temp = query.ToLowerInvariant();\n    foreach (var s in seps) temp = temp.Replace(s, \"|\");\n    return temp.Split(\"|\", StringSplitOptions.RemoveEmptyEntries | StringSplitOptions.TrimEntries).ToList();\n}\n\nstatic List<Employee> MatchNames(string query, IEnumerable<Employee> all, int minScore = 85, int topK = 3)\n{\n    var tokens = ExtractCandidateNames(query);\n    var results = new List<Employee>();\n    foreach (var t in tokens)\n    {\n        var best = Process.ExtractTop(t, all.ToList(), e => e.DisplayName, limit: topK);\n        var accepted = best.FirstOrDefault(b => b.Score >= minScore);\n        if (accepted != null && !results.Any(r => r.DisplayName == accepted.Value.DisplayName))\n            results.Add(accepted.Value);\n    }\n    return results;\n}\n\nvar matched = MatchNames(\"emails for rick, summer and morty\", employees);\nConsole.WriteLine(string.Join(\" | \", matched.Select(m => m.DisplayName)));\n",
      "outputs": [],
      "execution_count": null
    }
  ],
  "metadata": {
    "kernelspec": {
      "name": ".net-csharp",
      "display_name": ".NET (C#)",
      "language": "C#"
    },
    "language_info": {
      "name": "C#",
      "file_extension": ".cs"
    }
  },
  "nbformat": 4,
  "nbformat_minor": 5
}