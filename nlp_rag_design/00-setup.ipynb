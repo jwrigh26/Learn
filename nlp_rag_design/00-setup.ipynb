{
  "cells": [
    {
      "cell_type": "markdown",
      "metadata": {},
      "source": [
        "# 00 – Setup & Bootstrap (2025-08-09)\n",
        "\n",
        "This notebook wires up **DI**, **logging**, **caching**, and a shared **configuration** so the rest of the notebooks\n",
        "can reference the same services. It also includes a quick **Ollama** health check and a tiny **in‑memory API** for employees.\n",
        "\n",
        "> Assumes you're running in VS Code + .NET Interactive. If not, you can still copy the C# code into your project.\n"
      ]
    },
    {
      "cell_type": "code",
      "execution_count": 3,
      "metadata": {
        "dotnet_interactive": {
          "language": "csharp"
        }
      },
      "outputs": [
        {
          "data": {
            "text/html": [
              "<div><div></div><div></div><div><strong>Installed Packages</strong><ul><li><span>Microsoft.Extensions.Caching.Memory, 8.0.0</span></li><li><span>Microsoft.Extensions.DependencyInjection, 8.0.0</span></li><li><span>Microsoft.Extensions.Logging.Console, 8.0.0</span></li><li><span>RestSharp, 112.1.0</span></li><li><span>System.Text.Json, 8.0.4</span></li></ul></div></div>"
            ]
          },
          "metadata": {},
          "output_type": "display_data"
        }
      ],
      "source": [
        "#!csharp\n",
        "#pragma warning disable 1701, 1702\n",
        "#nullable enable\n",
        "#load \"SharedDefs.csx\" // Load shared definitions and services\n",
        "#r \"nuget: Microsoft.Extensions.DependencyInjection, 8.0.0\"\n",
        "#r \"nuget: Microsoft.Extensions.Logging.Console, 8.0.0\"\n",
        "#r \"nuget: Microsoft.Extensions.Caching.Memory, 8.0.0\"\n",
        "#r \"nuget: System.Text.Json, 8.0.4\"\n",
        "#r \"nuget: RestSharp, 112.1.0\"\n",
        "\n",
        "using System;\n",
        "using System.Threading;\n",
        "using System.Threading.Tasks;\n",
        "using System.Collections.Generic;\n",
        "using System.Text.Json;\n",
        "using Microsoft.Extensions.DependencyInjection;\n",
        "using Microsoft.Extensions.Logging;\n",
        "using Microsoft.Extensions.Caching.Memory;\n",
        "using RestSharp;\n",
        "\n",
        "\n",
        "\n",
        "public record Slots(\n",
        "    string[]? Names = null,\n",
        "    DateTime? Date = null,\n",
        "    (DateTime Start, DateTime End)? Range = null,\n",
        "    string? Operator = null,\n",
        "    string? Department = null,\n",
        "    string? Role = null\n",
        ");\n",
        "\n",
        "public record QuerySpec(Intent Intent, Slots Slots);\n",
        "\n",
        "public record Employee(\n",
        "    string DisplayName,\n",
        "    string Email,\n",
        "    string Department,\n",
        "    string Role,\n",
        "    DateTime OriginalHireDate\n",
        ");\n",
        "\n",
        "public class AppConfig\n",
        "{\n",
        "    public string ApiBaseUrl { get; init; } = \"http://localhost:4000\"; // replace with your API later\n",
        "    public string OllamaBaseUrl { get; init; } = \"http://localhost:11434\";\n",
        "    public string OllamaModel { get; init; } = \"phi3:mini\";\n",
        "    public TimeSpan CacheTtl { get; init; } = TimeSpan.FromMinutes(2);\n",
        "}\n",
        "\n",
        "// Service interfaces\n",
        "public interface ISlotFiller { (Slots slots, double confidence, string? clarification) Fill(string query); }\n",
        "public interface IQueryDispatcher { Task<object> ExecuteAsync(QuerySpec spec, CancellationToken ct = default); }\n",
        "public interface IEmployeeApi { Task<IReadOnlyList<Employee>> GetEmployeesAsync(CancellationToken ct = default); }\n",
        "public interface IAnswerFormatter {\n",
        "    Task<(bool usedLlm, string text)> FormatAsync(QuerySpec spec, object rawData, CancellationToken ct = default);\n",
        "}\n",
        "\n",
        "public static class Services\n",
        "{\n",
        "    public static ServiceProvider Build()\n",
        "    {\n",
        "        var services = new ServiceCollection();\n",
        "\n",
        "        services.AddLogging(b => b.AddSimpleConsole(o => { o.SingleLine = true; o.TimestampFormat = \"HH:mm:ss \"; }));\n",
        "        services.AddMemoryCache();\n",
        "        services.AddSingleton(new AppConfig());\n",
        "\n",
        "        // Minimal in-memory API stub; replace with HttpClient-based implementation later.\n",
        "        services.AddSingleton<IEmployeeApi, InMemoryEmployeeApi>();\n",
        "\n",
        "        // Placeholders; real implementations are provided in other notebooks.\n",
        "        services.AddSingleton<IIntentClassifier, DummyIntentClassifier>();\n",
        "        services.AddSingleton<ISlotFiller, DummySlotFiller>();\n",
        "        services.AddSingleton<IQueryDispatcher, DummyDispatcher>();\n",
        "        services.AddSingleton<IAnswerFormatter, DummyFormatter>();\n",
        "\n",
        "        return services.BuildServiceProvider();\n",
        "    }\n",
        "}\n",
        "\n",
        "// Dummy implementations to be replaced later\n",
        "public class DummyIntentClassifier : IIntentClassifier\n",
        "{\n",
        "    public (Intent intent, double confidence) Classify(string query) => (Intent.Unknown, 0.0);\n",
        "}\n",
        "public class DummySlotFiller : ISlotFiller\n",
        "{\n",
        "    public (Slots slots, double confidence, string? clarification) Fill(string query) => (new Slots(), 0.0, null);\n",
        "}\n",
        "public class DummyDispatcher : IQueryDispatcher\n",
        "{\n",
        "    public Task<object> ExecuteAsync(QuerySpec spec, CancellationToken ct = default) =>\n",
        "        Task.FromResult<object>(Array.Empty<Employee>());\n",
        "}\n",
        "public class DummyFormatter : IAnswerFormatter\n",
        "{\n",
        "    public Task<(bool usedLlm, string text)> FormatAsync(QuerySpec spec, object rawData, CancellationToken ct = default) =>\n",
        "        Task.FromResult((false, \"Formatter not implemented yet.\"));\n",
        "}\n",
        "\n",
        "// In-memory API seed\n",
        "public class InMemoryEmployeeApi : IEmployeeApi\n",
        "{\n",
        "    private readonly IMemoryCache _cache;\n",
        "    private readonly AppConfig _cfg;\n",
        "\n",
        "    public InMemoryEmployeeApi(IMemoryCache cache, AppConfig cfg)\n",
        "    {\n",
        "        _cache = cache;\n",
        "        _cfg = cfg;\n",
        "    }\n",
        "\n",
        "    public Task<IReadOnlyList<Employee>> GetEmployeesAsync(CancellationToken ct = default)\n",
        "    {\n",
        "        return Task.FromResult((IReadOnlyList<Employee>)_cache.GetOrCreate(\"employees\", e =>\n",
        "        {\n",
        "            e.AbsoluteExpirationRelativeToNow = _cfg.CacheTtl;\n",
        "            return new List<Employee> {\n",
        "                new(\"Rick Sanchez\",\"rick.sanchez@company.com\",\"Engineering\",\"Staff Engineer\", new DateTime(2015,5,10)),\n",
        "                new(\"Morty Smith\",\"morty.smith@company.com\",\"Engineering\",\"Engineer I\", new DateTime(2022,9,14)),\n",
        "                new(\"Summer Smith\",\"summer.smith@company.com\",\"Marketing\",\"Manager\", new DateTime(2019,3,6)),\n",
        "                new(\"Beth Smith\",\"beth.smith@company.com\",\"People\",\"Director\", new DateTime(2012,11,2)),\n",
        "                new(\"Jerry Smith\",\"jerry.smith@company.com\",\"Sales\",\"Account Executive\", new DateTime(2021,1,20)),\n",
        "            };\n",
        "        })!);\n",
        "    }\n",
        "}\n"
      ]
    },
    {
      "cell_type": "markdown",
      "metadata": {},
      "source": [
        "## Ollama Health Check\n",
        "\n",
        "Quick ping to confirm the daemon and model are available.\n"
      ]
    },
    {
      "cell_type": "code",
      "execution_count": 4,
      "metadata": {
        "dotnet_interactive": {
          "language": "csharp"
        }
      },
      "outputs": [
        {
          "name": "stdout",
          "output_type": "stream",
          "text": [
            "Ollama status: 0\n"
          ]
        }
      ],
      "source": [
        "var cfg = new AppConfig();\n",
        "var client = new RestClient(cfg.OllamaBaseUrl);\n",
        "var req = new RestRequest(\"/api/tags\", Method.Get);\n",
        "try\n",
        "{\n",
        "    var res = await client.ExecuteAsync(req);\n",
        "    Console.WriteLine($\"Ollama status: {(int)res.StatusCode}\");\n",
        "}\n",
        "catch (Exception ex)\n",
        "{\n",
        "    Console.WriteLine(\"Ollama check failed: \" + ex.Message);\n",
        "}\n"
      ]
    }
  ],
  "metadata": {
    "kernelspec": {
      "display_name": ".NET (C#)",
      "language": "C#",
      "name": ".net-csharp"
    },
    "language_info": {
      "name": "polyglot-notebook"
    },
    "polyglot_notebook": {
      "kernelInfo": {
        "defaultKernelName": "csharp",
        "items": [
          {
            "aliases": [],
            "name": "csharp"
          }
        ]
      }
    }
  },
  "nbformat": 4,
  "nbformat_minor": 5
}
