{
  "cells": [
    {
      "cell_type": "markdown",
      "metadata": {},
      "source": [
        "# 00 — Setup & Sample Data\n",
        "**Date:** 2025-08-09\n",
        "\n",
        "This notebook pulls NuGet packages inline and seeds a tiny demo dataset you can reuse in the others.\n"
      ]
    },
    {
      "cell_type": "code",
      "execution_count": 1,
      "metadata": {
        "dotnet_interactive": {
          "language": "csharp"
        }
      },
      "outputs": [
        {
          "data": {
            "text/html": [
              "<div><div></div><div></div><div><strong>Installed Packages</strong><ul><li><span>FuzzySharp, 2.0.2</span></li><li><span>Microsoft.Extensions.Caching.Memory, 9.0.8</span></li><li><span>Microsoft.Recognizers.Text, 1.8.13</span></li><li><span>Microsoft.Recognizers.Text.DateTime, 1.8.13</span></li><li><span>RestSharp, 112.1.0</span></li><li><span>System.Text.Json, 9.0.0</span></li></ul></div></div>"
            ]
          },
          "metadata": {},
          "output_type": "display_data"
        }
      ],
      "source": [
        "#r \"nuget: Microsoft.Recognizers.Text, 1.8.13\"\n",
        "#r \"nuget: Microsoft.Recognizers.Text.DateTime, 1.8.13\"\n",
        "#r \"nuget: FuzzySharp, 2.0.2\"\n",
        "#r \"nuget: RestSharp, 112.1.0\"\n",
        "#r \"nuget: Microsoft.Extensions.Caching.Memory, 9.0.8\"\n",
        "#r \"nuget: System.Text.Json, 9.0.0\"\n"
      ]
    },
    {
      "cell_type": "code",
      "execution_count": 2,
      "metadata": {
        "dotnet_interactive": {
          "language": "csharp"
        }
      },
      "outputs": [
        {
          "name": "stdout",
          "output_type": "stream",
          "text": [
            "Loaded demo employees: 5\n"
          ]
        }
      ],
      "source": [
        "using System;\n",
        "using System.Collections.Generic;\n",
        "using System.Linq;\n",
        "using System.Text.Json;\n",
        "using Microsoft.Recognizers.Text;\n",
        "using Microsoft.Recognizers.Text.DateTime;\n",
        "using FuzzySharp;\n",
        "using RestSharp;\n",
        "\n",
        "public enum Intent { GetContactInfo, FilterByHireDate, FilterByRole, Unknown }\n",
        "\n",
        "public record Slots(\n",
        "    string[]? Names = null,\n",
        "    DateTime? Date = null,\n",
        "    (DateTime Start, DateTime End)? Range = null,\n",
        "    string? Operator = null,\n",
        "    string? Department = null,\n",
        "    string? Role = null\n",
        ");\n",
        "\n",
        "public record QuerySpec(Intent Intent, Slots Slots);\n",
        "\n",
        "public record Employee(\n",
        "    string DisplayName,\n",
        "    string Email,\n",
        "    string Department,\n",
        "    string Role,\n",
        "    DateTime OriginalHireDate\n",
        ");\n",
        "\n",
        "var employees = new List<Employee> {\n",
        "    new(\"Rick Sanchez\",   \"rick.sanchez@company.com\",   \"Engineering\", \"Staff Engineer\",  new DateTime(2015,  5, 10)),\n",
        "    new(\"Morty Smith\",    \"morty.smith@company.com\",    \"Engineering\", \"Engineer I\",      new DateTime(2023, 10, 12)),\n",
        "    new(\"Summer Smith\",   \"summer.smith@company.com\",   \"Product\",     \"PM\",              new DateTime(2021,  2,  1)),\n",
        "    new(\"Beth Smith\",     \"beth.smith@company.com\",     \"HR\",          \"HR Manager\",      new DateTime(2019,  7,  3)),\n",
        "    new(\"Jerry Smith\",    \"jerry.smith@company.com\",    \"Sales\",       \"Account Manager\", new DateTime(2022,  9, 15))\n",
        "};\n",
        "\n",
        "Console.WriteLine($\"Loaded demo employees: {employees.Count}\");\n"
      ]
    }
  ],
  "metadata": {
    "kernelspec": {
      "display_name": ".NET (C#)",
      "language": "C#",
      "name": ".net-csharp"
    },
    "language_info": {
      "file_extension": ".cs",
      "name": "polyglot-notebook"
    },
    "polyglot_notebook": {
      "kernelInfo": {
        "defaultKernelName": "csharp",
        "items": [
          {
            "aliases": [],
            "name": "csharp"
          }
        ]
      }
    }
  },
  "nbformat": 4,
  "nbformat_minor": 5
}
