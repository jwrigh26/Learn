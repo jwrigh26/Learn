{
  "cells": [
    {
      "cell_type": "markdown",
      "metadata": {},
      "source": [
        "# 03 – Dispatcher & Query\n"
      ]
    },
    {
      "cell_type": "markdown",
      "metadata": {},
      "source": [
        "Maps `QuerySpec` → concrete API calls and applies deterministic filters in C#.\n"
      ]
    },
    {
      "cell_type": "code",
      "execution_count": null,
      "metadata": {
        "dotnet_interactive": {
          "language": "csharp"
        }
      },
      "outputs": [],
      "source": [
        "using semantic_kernel_app;\n",
        "using Microsoft.Extensions.Logging;\n",
        "\n",
        "public class QueryDispatcher : IQueryDispatcher\n",
        "{\n",
        "    private readonly IEmployeeApi _api;\n",
        "    private readonly ILogger<QueryDispatcher> _log;\n",
        "\n",
        "    public QueryDispatcher(IEmployeeApi api, ILogger<QueryDispatcher> log)\n",
        "    {\n",
        "        _api = api; _log = log;\n",
        "    }\n",
        "\n",
        "    public async Task<object> ExecuteAsync(QuerySpec spec, CancellationToken ct = default)\n",
        "    {\n",
        "        var employees = await _api.GetEmployeesAsync(ct);\n",
        "\n",
        "        IEnumerable<Employee> q = employees;\n",
        "\n",
        "        if (spec.Slots.Names?.Length > 0)\n",
        "        {\n",
        "            var set = spec.Slots.Names.Select(n=>n.ToLowerInvariant()).ToHashSet();\n",
        "            q = q.Where(e => set.Contains(e.DisplayName.Split(' ')[0].ToLowerInvariant()));\n",
        "        }\n",
        "        if (!string.IsNullOrWhiteSpace(spec.Slots.Department))\n",
        "        {\n",
        "            q = q.Where(e => e.Department.Equals(spec.Slots.Department, StringComparison.OrdinalIgnoreCase));\n",
        "        }\n",
        "        if (!string.IsNullOrWhiteSpace(spec.Slots.Role))\n",
        "        {\n",
        "            // naive contains match\n",
        "            q = q.Where(e => e.Role.Contains(spec.Slots.Role!, StringComparison.OrdinalIgnoreCase));\n",
        "        }\n",
        "        if (spec.Intent == Intent.FilterByHireDate)\n",
        "        {\n",
        "            var op = spec.Slots.Operator;\n",
        "            if (op == \"before\" && spec.Slots.Date is DateTime d1) q = q.Where(e => e.OriginalHireDate < d1);\n",
        "            if (op == \"after\" && spec.Slots.Date is DateTime d2) q = q.Where(e => e.OriginalHireDate > d2);\n",
        "            if (op == \"between\" && spec.Slots.Range is (DateTime s, DateTime e))\n",
        "                q = q.Where(x => x.OriginalHireDate >= s && x.OriginalHireDate <= e);\n",
        "        }\n",
        "\n",
        "        return q.ToList();\n",
        "    }\n",
        "}\n",
        "\n",
        "// demo\n",
        "var disp = new QueryDispatcher(new InMemoryEmployeeApi(new Microsoft.Extensions.Caching.Memory.MemoryCache(new Microsoft.Extensions.Caching.Memory.MemoryCacheOptions()), new AppConfig()),\n",
        "    LoggerFactory.Create(b=>b.AddConsole()).CreateLogger<QueryDispatcher>());\n",
        "\n",
        "var spec = new QuerySpec(Intent.FilterByHireDate,\n",
        "    new Slots(Department:\"engineering\", Operator:\"after\", Date:new DateTime(2020,1,1)));\n",
        "\n",
        "var result = await disp.ExecuteAsync(spec);\n",
        "Console.WriteLine(System.Text.Json.JsonSerializer.Serialize(result));\n"
      ]
    }
  ],
  "metadata": {
    "kernelspec": {
      "display_name": ".NET (C#)",
      "language": "C#",
      "name": ".net-csharp"
    },
    "language_info": {
      "name": "polyglot-notebook"
    },
    "polyglot_notebook": {
      "kernelInfo": {
        "defaultKernelName": "csharp",
        "items": [
          {
            "aliases": [],
            "name": "csharp"
          }
        ]
      }
    }
  },
  "nbformat": 4,
  "nbformat_minor": 5
}
