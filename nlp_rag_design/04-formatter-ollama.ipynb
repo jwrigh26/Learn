{
  "cells": [
    {
      "cell_type": "markdown",
      "metadata": {},
      "source": [
        "# 04 – Formatter (LLM Gate + JSON Schema)\n"
      ]
    },
    {
      "cell_type": "markdown",
      "metadata": {},
      "source": [
        "Only call the LLM when needed. Prefer deterministic formatting for simple answers (like emails).\n"
      ]
    },
    {
      "cell_type": "code",
      "execution_count": null,
      "metadata": {
        "dotnet_interactive": {
          "language": "csharp"
        }
      },
      "outputs": [],
      "source": [
        "//r \"nuget: RestSharp, 112.1.0\"\n",
        "using semantic_kernel_app;\n",
        "using System.Text.Json;\n",
        "using System.Text.Json.Serialization;\n",
        "using RestSharp;\n",
        "using Microsoft.Extensions.Logging;\n",
        "\n",
        "public class AnswerFormatter : IAnswerFormatter\n",
        "{\n",
        "    private readonly AppConfig _cfg;\n",
        "    private readonly ILogger<AnswerFormatter> _log;\n",
        "    public AnswerFormatter(AppConfig cfg, ILogger<AnswerFormatter> log) { _cfg = cfg; _log = log; }\n",
        "\n",
        "    public async Task<(bool usedLlm, string text)> FormatAsync(QuerySpec spec, object rawData, CancellationToken ct = default)\n",
        "    {\n",
        "        // If it's just contact info, we can format deterministically\n",
        "        if (spec.Intent == Intent.GetContactInfo && rawData is IEnumerable<Employee> list)\n",
        "        {\n",
        "            var lines = list.Select(e => $\"{e.DisplayName}: {e.Email}\");\n",
        "            return (false, string.Join(\"\\n\", lines));\n",
        "        }\n",
        "\n",
        "        // Otherwise, call Ollama with a strict JSON schema request\n",
        "        var client = new RestClient(_cfg.OllamaBaseUrl);\n",
        "        var prompt = BuildPrompt(spec, rawData);\n",
        "\n",
        "        var body = new {\n",
        "            model = _cfg.OllamaModel,\n",
        "            prompt,\n",
        "            options = new { temperature = 0.2 },\n",
        "            stream = false\n",
        "        };\n",
        "        var req = new RestRequest(\"/api/generate\", Method.Post).AddJsonBody(body);\n",
        "        try\n",
        "        {\n",
        "            var res = await client.ExecuteAsync(req, ct);\n",
        "            if (!res.IsSuccessful) return (true, $\"LLM error: {(int)res.StatusCode} {res.ErrorMessage}\");\n",
        "            var content = JsonDocument.Parse(res.Content!).RootElement;\n",
        "            var txt = content.GetProperty(\"response\").GetString() ?? \"\";\n",
        "            var clean = ExtractJson(txt) ?? txt;\n",
        "            return (true, clean.Trim());\n",
        "        }\n",
        "        catch (Exception ex)\n",
        "        {\n",
        "            return (true, \"LLM exception: \" + ex.Message);\n",
        "        }\n",
        "    }\n",
        "\n",
        "    private static string BuildPrompt(QuerySpec spec, object data)\n",
        "    {\n",
        "        var json = JsonSerializer.Serialize(data);\n",
        "        return $@\"\n",
        "You are a helpful formatter. Given the user's intent and the typed data, return **valid JSON** ONLY.\n",
        "\n",
        "Intent: {spec.Intent}\n",
        "Slots: {JsonSerializer.Serialize(spec.Slots)}\n",
        "\n",
        "TypedData (JSON):\n",
        "{json}\n",
        "\n",
        "Output schema (MUST match exactly):\n",
        "{{\n",
        "  \"\"items\"\": [ {{ \"\"name\"\": \"\"string\"\", \"\"email\"\": \"\"string\"\" }} ],\n",
        "  \"\"summary\"\": \"\"string\"\"\n",
        "}}\n",
        "Return ONLY the JSON, no prose.\";\n",
        "    }\n",
        "\n",
        "    private static string? ExtractJson(string s)\n",
        "    {\n",
        "        var start = s.IndexOf('{');\n",
        "        var end = s.LastIndexOf('}');\n",
        "        if (start >=0 && end >= start) return s[start:end-start+1];\n",
        "        return null;\n",
        "    }\n",
        "}\n",
        "\n",
        "// demo\n",
        "var formatter = new AnswerFormatter(new AppConfig(), LoggerFactory.Create(b=>b.AddConsole()).CreateLogger<AnswerFormatter>());\n",
        "var sample = new List<Employee> {\n",
        "    new(\"Rick Sanchez\",\"rick.sanchez@company.com\",\"Engineering\",\"Staff Engineer\", new DateTime(2015,5,10)),\n",
        "    new(\"Morty Smith\",\"morty.smith@company.com\",\"Engineering\",\"Engineer I\", new DateTime(2022,9,14)),\n",
        "};\n",
        "var (used, txt) = await formatter.FormatAsync(new QuerySpec(Intent.GetContactInfo, new Slots()), sample);\n",
        "Console.WriteLine($\"usedLlm={used}\\n{txt}\");\n"
      ]
    }
  ],
  "metadata": {
    "kernelspec": {
      "display_name": ".NET (C#)",
      "language": "C#",
      "name": ".net-csharp"
    },
    "language_info": {
      "name": "polyglot-notebook"
    },
    "polyglot_notebook": {
      "kernelInfo": {
        "defaultKernelName": "csharp",
        "items": [
          {
            "aliases": [],
            "name": "csharp"
          }
        ]
      }
    }
  },
  "nbformat": 4,
  "nbformat_minor": 5
}
