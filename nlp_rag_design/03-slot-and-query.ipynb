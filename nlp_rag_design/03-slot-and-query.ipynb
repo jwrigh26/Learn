{
  "cells": [
    {
      "cell_type": "markdown",
      "metadata": {},
      "source": "# 03 \u2014 Slot Filling & Query Builder\n**Date:** 2025-08-09\n\nTurn extracted entities into a `QuerySpec`, then into LINQ filters.\n"
    },
    {
      "cell_type": "code",
      "metadata": {
        "dotnet_interactive": {
          "language": "csharp"
        }
      },
      "source": "#r \"nuget: Microsoft.Recognizers.Text, 1.8.13\"\n#r \"nuget: Microsoft.Recognizers.Text.DateTime, 1.8.13\"\n#r \"nuget: FuzzySharp, 2.0.2\"\n#r \"nuget: RestSharp, 112.1.0\"\n#r \"nuget: Microsoft.Extensions.Caching.Memory, 9.0.8\"\n#r \"nuget: System.Text.Json, 9.0.0\"\n",
      "outputs": [],
      "execution_count": null
    },
    {
      "cell_type": "code",
      "metadata": {
        "dotnet_interactive": {
          "language": "csharp"
        }
      },
      "source": "using System;\nusing System.Collections.Generic;\nusing System.Linq;\nusing System.Text.Json;\nusing Microsoft.Recognizers.Text;\nusing Microsoft.Recognizers.Text.DateTime;\nusing FuzzySharp;\nusing RestSharp;\n\npublic enum Intent { GetContactInfo, FilterByHireDate, FilterByRole, Unknown }\n\npublic record Slots(\n    string[]? Names = null,\n    DateTime? Date = null,\n    (DateTime Start, DateTime End)? Range = null,\n    string? Operator = null,\n    string? Department = null,\n    string? Role = null\n);\n\npublic record QuerySpec(Intent Intent, Slots Slots);\n\npublic record Employee(\n    string DisplayName,\n    string Email,\n    string Department,\n    string Role,\n    DateTime OriginalHireDate\n);\n\nvar employees = new List<Employee> {\n    new(\"Rick Sanchez\",   \"rick.sanchez@company.com\",   \"Engineering\", \"Staff Engineer\",  new DateTime(2015,  5, 10)),\n    new(\"Morty Smith\",    \"morty.smith@company.com\",    \"Engineering\", \"Engineer I\",      new DateTime(2023, 10, 12)),\n    new(\"Summer Smith\",   \"summer.smith@company.com\",   \"Product\",     \"PM\",              new DateTime(2021,  2,  1)),\n    new(\"Beth Smith\",     \"beth.smith@company.com\",     \"HR\",          \"HR Manager\",      new DateTime(2019,  7,  3)),\n    new(\"Jerry Smith\",    \"jerry.smith@company.com\",    \"Sales\",       \"Account Manager\", new DateTime(2022,  9, 15))\n};\n\nConsole.WriteLine($\"Loaded demo employees: {employees.Count}\");\n",
      "outputs": [],
      "execution_count": null
    },
    {
      "cell_type": "code",
      "metadata": {
        "dotnet_interactive": {
          "language": "csharp"
        }
      },
      "source": "static Intent ClassifyIntent(string query)\n{\n    var q = query.ToLowerInvariant();\n    if (q.Contains(\"email\") || q.Contains(\"contact\")) return Intent.GetContactInfo;\n    if (q.Contains(\"hire\") && (q.Contains(\"before\") || q.Contains(\"after\") || q.Contains(\"between\"))) return Intent.FilterByHireDate;\n    if (q.Contains(\"manager\") || q.Contains(\"engineer\") || q.Contains(\"director\") || q.Contains(\"role\")) return Intent.FilterByRole;\n    return Intent.Unknown;\n}\npublic record DateExtraction(DateTime? Date, (DateTime Start, DateTime End)? Range, string? Operator);\nstatic DateExtraction ExtractDates(string query)\n{\n    var results = DateTimeRecognizer.RecognizeDateTime(query, Culture.English);\n    var values = new List<DateTime>();\n    foreach (var r in results)\n    {\n        if (!r.Resolution.TryGetValue(\"values\", out var valsObj)) continue;\n        var vals = valsObj as List<Dictionary<string, string>>;\n        if (vals == null) continue;\n        foreach (var v in vals)\n        {\n            if (v.TryGetValue(\"value\", out var s) && DateTime.TryParse(s, out var dt))\n                values.Add(dt);\n            else if (v.TryGetValue(\"start\", out var s1) && v.TryGetValue(\"end\", out var s2)\n                     && DateTime.TryParse(s1, out var d1) && DateTime.TryParse(s2, out var d2))\n                return new DateExtraction(null, (d1, d2), \"between\");\n        }\n    }\n    string? op = null;\n    var lower = query.ToLowerInvariant();\n    if (lower.Contains(\"before\")) op = \"before\";\n    else if (lower.Contains(\"after\")) op = \"after\";\n    else if (lower.Contains(\"between\")) op = \"between\";\n    if (values.Count >= 2) return new DateExtraction(null, (values.Min(), values.Max()), \"between\");\n    if (values.Count == 1) return new DateExtraction(values[0], null, op);\n    return new DateExtraction(null, null, null);\n}\nvar lexiconJson = @\"{\n  \"\"departments\"\": { \"\"engineering\"\": [\"\"engineering\"\",\"\"eng\"\",\"\"platform\"\",\"\"product engineering\"\"], \"\"hr\"\": [\"\"hr\"\",\"\"human resources\"\"], \"\"sales\"\": [\"\"sales\"\",\"\"bizdev\"\",\"\"business development\"\"], \"\"product\"\": [\"\"product\"\",\"\"pm\"\",\"\"program management\"\"] },\n  \"\"roles\"\": { \"\"manager\"\": [\"\"manager\"\",\"\"supervisor\"\",\"\"team lead\"\",\"\"lead\"\"], \"\"engineer\"\": [\"\"engineer\"\",\"\"developer\"\",\"\"dev\"\",\"\"software engineer\"\"], \"\"pm\"\": [\"\"pm\"\",\"\"product manager\"\",\"\"program manager\"\"] }\n}\";\nusing System.Text.Json.Nodes;\nvar lexicon = JsonNode.Parse(lexiconJson)!.AsObject();\nstatic string? MapAlias(System.Text.Json.Nodes.JsonObject section, string input)\n{\n    var q = input.ToLowerInvariant();\n    foreach (var kvp in section)\n    {\n        var canon = kvp.Key;\n        var aliases = kvp.Value!.AsArray().Select(n => n!.ToString().ToLowerInvariant());\n        if (aliases.Contains(q) || canon.ToLowerInvariant() == q) return canon;\n        var best = FuzzySharp.Process.ExtractOne(q, aliases.ToList());\n        if (best != null && best.Score >= 90) return canon;\n    }\n    return null;\n}\nstring? MapDepartment(string text) => MapAlias((System.Text.Json.Nodes.JsonObject)lexicon[\"departments\"]!, text);\nstring? MapRole(string text) => MapAlias((System.Text.Json.Nodes.JsonObject)lexicon[\"roles\"]!, text);\nstatic List<string> ExtractCandidateNames(string query)\n{\n    var seps = new [] {\",\",\" and \",\" & \"};\n    var temp = query.ToLowerInvariant();\n    foreach (var s in seps) temp = temp.Replace(s, \"|\");\n    return temp.Split(\"|\", StringSplitOptions.RemoveEmptyEntries | StringSplitOptions.TrimEntries).ToList();\n}\nstatic List<Employee> MatchNames(string query, IEnumerable<Employee> all, int minScore = 85, int topK = 3)\n{\n    var tokens = ExtractCandidateNames(query);\n    var results = new List<Employee>();\n    foreach (var t in tokens)\n    {\n        var best = FuzzySharp.Process.ExtractTop(t, all.ToList(), e => e.DisplayName, limit: topK);\n        var accepted = best.FirstOrDefault(b => b.Score >= minScore);\n        if (accepted != null && !results.Any(r => r.DisplayName == accepted.Value.DisplayName))\n            results.Add(accepted.Value);\n    }\n    return results;\n}\n",
      "outputs": [],
      "execution_count": null
    },
    {
      "cell_type": "code",
      "metadata": {
        "dotnet_interactive": {
          "language": "csharp"
        }
      },
      "source": "public static QuerySpec BuildQuerySpec(string query)\n{\n    var intent = ClassifyIntent(query);\n    var names = MatchNames(query, employees).Select(e => e.DisplayName).ToArray();\n    var dates = ExtractDates(query);\n\n    string? dept = null; string? role = null;\n    var words = query.ToLowerInvariant().Split(' ', StringSplitOptions.RemoveEmptyEntries | StringSplitOptions.TrimEntries);\n    foreach (var w in words)\n    {\n        dept ??= MapDepartment(w);\n        role ??= MapRole(w);\n    }\n\n    var slots = new Slots(\n        Names: names.Length > 0 ? names : null,\n        Date: dates.Date,\n        Range: dates.Range,\n        Operator: dates.Operator,\n        Department: dept,\n        Role: role\n    );\n\n    return new QuerySpec(intent, slots);\n}\n\nvar spec = BuildQuerySpec(\"show managers hired before 2021 in engineering, also email rick and summer\");\nConsole.WriteLine(spec);\n",
      "outputs": [],
      "execution_count": null
    },
    {
      "cell_type": "code",
      "metadata": {
        "dotnet_interactive": {
          "language": "csharp"
        }
      },
      "source": "public static IEnumerable<Employee> ExecuteQuery(QuerySpec spec, IEnumerable<Employee> all)\n{\n    IEnumerable<Employee> q = all;\n\n    if (spec.Slots.Names is { Length: > 0 })\n        q = q.Where(e => spec.Slots.Names!.Contains(e.DisplayName));\n\n    if (!string.IsNullOrWhiteSpace(spec.Slots.Department))\n        q = q.Where(e => e.Department.Equals(spec.Slots.Department, StringComparison.OrdinalIgnoreCase));\n\n    if (!string.IsNullOrWhiteSpace(spec.Slots.Role))\n        q = q.Where(e => e.Role.Contains(spec.Slots.Role!, StringComparison.OrdinalIgnoreCase));\n\n    if (spec.Slots.Operator == \"before\" && spec.Slots.Date is DateTime d1)\n        q = q.Where(e => e.OriginalHireDate < d1);\n    else if (spec.Slots.Operator == \"after\" && spec.Slots.Date is DateTime d2)\n        q = q.Where(e => e.OriginalHireDate > d2);\n    else if (spec.Slots.Operator == \"between\" && spec.Slots.Range is (DateTime s, DateTime e2))\n        q = q.Where(e => e.OriginalHireDate >= s && e.OriginalHireDate <= e2);\n\n    return q.ToList();\n}\n\nvar spec1 = BuildQuerySpec(\"employees hired before 2024 in engineering\");\nvar res1 = ExecuteQuery(spec1, employees);\nforeach (var e in res1) Console.WriteLine($\"{e.DisplayName} \u2014 {e.Email} \u2014 {e.OriginalHireDate:yyyy-MM-dd}\");\n",
      "outputs": [],
      "execution_count": null
    },
    {
      "cell_type": "markdown",
      "metadata": {},
      "source": "### Try it\n"
    },
    {
      "cell_type": "code",
      "metadata": {
        "dotnet_interactive": {
          "language": "csharp"
        }
      },
      "source": "string query = \"show emails for rick, summer and morty hired before 2024 in engineering\";\nvar qspec = BuildQuerySpec(query);\nConsole.WriteLine(qspec);\nvar filtered = ExecuteQuery(qspec, employees).ToList();\nforeach (var e in filtered) Console.WriteLine($\"{e.DisplayName} \u2014 {e.Email} \u2014 {e.Department} \u2014 {e.Role} \u2014 {e.OriginalHireDate:yyyy-MM-dd}\");\n",
      "outputs": [],
      "execution_count": null
    }
  ],
  "metadata": {
    "kernelspec": {
      "name": ".net-csharp",
      "display_name": ".NET (C#)",
      "language": "C#"
    },
    "language_info": {
      "name": "C#",
      "file_extension": ".cs"
    }
  },
  "nbformat": 4,
  "nbformat_minor": 5
}