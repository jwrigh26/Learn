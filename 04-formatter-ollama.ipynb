{
  "cells": [
    {
      "cell_type": "markdown",
      "metadata": {},
      "source": "# 04 \u2014 LLM Formatter (strict JSON contract)\n**Date:** 2025-08-09\n\nKeep models out of your data logic. Use the LLM only to format or explain.\n"
    },
    {
      "cell_type": "code",
      "metadata": {
        "dotnet_interactive": {
          "language": "csharp"
        }
      },
      "source": "#r \"nuget: Microsoft.Recognizers.Text, 1.8.13\"\n#r \"nuget: Microsoft.Recognizers.Text.DateTime, 1.8.13\"\n#r \"nuget: FuzzySharp, 2.0.2\"\n#r \"nuget: RestSharp, 112.1.0\"\n#r \"nuget: Microsoft.Extensions.Caching.Memory, 9.0.8\"\n#r \"nuget: System.Text.Json, 9.0.0\"\n",
      "outputs": [],
      "execution_count": null
    },
    {
      "cell_type": "code",
      "metadata": {
        "dotnet_interactive": {
          "language": "csharp"
        }
      },
      "source": "using System;\nusing System.Collections.Generic;\nusing System.Linq;\nusing System.Text.Json;\nusing Microsoft.Recognizers.Text;\nusing Microsoft.Recognizers.Text.DateTime;\nusing FuzzySharp;\nusing RestSharp;\n\npublic enum Intent { GetContactInfo, FilterByHireDate, FilterByRole, Unknown }\n\npublic record Slots(\n    string[]? Names = null,\n    DateTime? Date = null,\n    (DateTime Start, DateTime End)? Range = null,\n    string? Operator = null,\n    string? Department = null,\n    string? Role = null\n);\n\npublic record QuerySpec(Intent Intent, Slots Slots);\n\npublic record Employee(\n    string DisplayName,\n    string Email,\n    string Department,\n    string Role,\n    DateTime OriginalHireDate\n);\n\nvar employees = new List<Employee> {\n    new(\"Rick Sanchez\",   \"rick.sanchez@company.com\",   \"Engineering\", \"Staff Engineer\",  new DateTime(2015,  5, 10)),\n    new(\"Morty Smith\",    \"morty.smith@company.com\",    \"Engineering\", \"Engineer I\",      new DateTime(2023, 10, 12)),\n    new(\"Summer Smith\",   \"summer.smith@company.com\",   \"Product\",     \"PM\",              new DateTime(2021,  2,  1)),\n    new(\"Beth Smith\",     \"beth.smith@company.com\",     \"HR\",          \"HR Manager\",      new DateTime(2019,  7,  3)),\n    new(\"Jerry Smith\",    \"jerry.smith@company.com\",    \"Sales\",       \"Account Manager\", new DateTime(2022,  9, 15))\n};\n\nConsole.WriteLine($\"Loaded demo employees: {employees.Count}\");\n",
      "outputs": [],
      "execution_count": null
    },
    {
      "cell_type": "code",
      "metadata": {
        "dotnet_interactive": {
          "language": "csharp"
        }
      },
      "source": "bool enableCall = false; // flip when ready\n\npublic record AnswerDto(List<PersonDto> Answer);\npublic record PersonDto(string Name, string Email);\n\nstatic string BuildEmailFormattingPrompt(IEnumerable<Employee> people, string question)\n{\n    var context = people.Select(p => new { name = p.DisplayName, email = p.Email });\n    var ctxJson = JsonSerializer.Serialize(context);\n    return $@\"\nYou are an API that returns ONLY compact JSON matching this schema:\n{{ \"\"answer\"\": [ {{ \"\"name\"\": \"\"string\"\", \"\"email\"\": \"\"string\"\" }} ] }}\nDo not include markdown fences, commentary, or extra keys.\n\nQuestion: {question}\nContext (JSON array of people): {ctxJson}\nReturn ONLY JSON.\n\";\n}\n\nvar question = \"What are Rick and Summer's emails?\";\nvar selected = employees.Where(e => e.DisplayName.Contains(\"Rick\") || e.DisplayName.Contains(\"Summer\"));\n\nif (enableCall)\n{\n    var client = new RestClient(\"http://localhost:11434\");\n    var req = new RestRequest(\"/api/generate\").AddJsonBody(new {\n        model = \"phi3:mini\",\n        prompt = BuildEmailFormattingPrompt(selected, question),\n        stream = false\n    });\n    var resp = await client.PostAsync(req);\n    var raw = resp.Content ?? \"{}\";\n\n    using var doc = JsonDocument.Parse(raw);\n    var text = doc.RootElement.GetProperty(\"response\").GetString();\n\n    try\n    {\n        var parsed = JsonSerializer.Deserialize<AnswerDto>(text!, new JsonSerializerOptions { PropertyNameCaseInsensitive = true });\n        Console.WriteLine(\"LLM JSON parsed:\");\n        foreach (var p in parsed!.Answer) Console.WriteLine($\"{p.Name}: {p.Email}\");\n    }\n    catch (Exception ex)\n    {\n        Console.WriteLine(\"Failed to parse LLM JSON. Raw text follows:\");\n        Console.WriteLine(text);\n        Console.WriteLine(ex.Message);\n    }\n}\nelse\n{\n    Console.WriteLine(\"Ollama call disabled. Rendering locally:\");\n    foreach (var p in selected) Console.WriteLine($\"{p.DisplayName}: {p.Email}\");\n}\n",
      "outputs": [],
      "execution_count": null
    }
  ],
  "metadata": {
    "kernelspec": {
      "name": ".net-csharp",
      "display_name": ".NET (C#)",
      "language": "C#"
    },
    "language_info": {
      "name": "C#",
      "file_extension": ".cs"
    }
  },
  "nbformat": 4,
  "nbformat_minor": 5
}