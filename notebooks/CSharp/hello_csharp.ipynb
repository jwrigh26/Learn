{
 "cells": [
  {
   "cell_type": "markdown",
   "id": "ce537d0b",
   "metadata": {},
   "source": [
    "# Hello C# in Jupyter\n",
    "This notebook demonstrates a simple Hello World example using the C# kernel in Jupyter."
   ]
  },
  {
   "cell_type": "code",
   "execution_count": 1,
   "id": "8d5c0516",
   "metadata": {
    "language_info": {
     "name": "polyglot-notebook"
    },
    "polyglot_notebook": {
     "kernelName": "csharp"
    }
   },
   "outputs": [
    {
     "name": "stdout",
     "output_type": "stream",
     "text": [
      "Hello, world from C# in Jupyter!\n"
     ]
    }
   ],
   "source": [
    "// Print Hello World to the output\n",
    "Console.WriteLine(\"Hello, world from C# in Jupyter!\");"
   ]
  },
  {
   "cell_type": "markdown",
   "id": "8f930295",
   "metadata": {},
   "source": [
    "## Next Steps\n",
    "- Try editing the code cell above and re-running it.\n",
    "- Explore using C# libraries such as Microsoft.Recognizers.Text for NLP tasks.\n",
    "- Add more code cells to experiment with .NET features."
   ]
  }
 ],
 "metadata": {
  "kernelspec": {
   "display_name": ".NET (C#)",
   "language": "C#",
   "name": ".net-csharp"
  },
  "language_info": {
   "name": "polyglot-notebook"
  },
  "polyglot_notebook": {
   "kernelInfo": {
    "defaultKernelName": "csharp",
    "items": [
     {
      "aliases": [],
      "name": "csharp"
     }
    ]
   }
  }
 },
 "nbformat": 4,
 "nbformat_minor": 5
}
