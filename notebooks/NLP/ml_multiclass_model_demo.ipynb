{
 "cells": [
  {
   "cell_type": "markdown",
   "id": "adb5a4f5",
   "metadata": {},
   "source": [
    "# ML.NET: Intent Classification + Slot Extraction (C#)\n",
    "\n",
    "Welcome! This notebook gets you from **zero** to a **trained classifier** for intents, with clear comments to help you learn.\n",
    "\n",
    "For more detailed information please visit: [ML.NET API Documentation](https://learn.microsoft.com/en-us/dotnet/machine-learning/mldotnet-api)\n",
    "\n",
    "### What you'll do\n",
    "1. Install packages right from the notebook\n",
    "2. Create a tiny labeled dataset of **queries ➜ intent**\n",
    "3. Train a **multi-class text classifier** (ML.NET)\n",
    "4. Evaluate it and make predictions\n",
    "5. Do basic **slot extraction** with `Microsoft.Recognizers.Text`\n",
    "\n",
    "**Kernel:** Use the **.NET (C#)** kernel (aka `dotnet-csharp`). If you don't see it, install **.NET Interactive Notebooks** in VS Code.\n"
   ]
  },
  {
   "cell_type": "code",
   "execution_count": 1,
   "metadata": {
    "language_info": {
     "name": "polyglot-notebook"
    },
    "polyglot_notebook": {
     "kernelName": "csharp"
    }
   },
   "outputs": [
    {
     "data": {
      "text/html": [
       "<div><div></div><div></div><div><strong>Installed Packages</strong><ul><li><span>Microsoft.ML, 4.0.2</span></li><li><span>Microsoft.ML.FastTree, 4.0.2</span></li><li><span>Microsoft.ML.LightGbm, 4.0.2</span></li><li><span>Microsoft.Recognizers.Text, 1.8.13</span></li><li><span>Microsoft.Recognizers.Text.DateTime, 1.8.13</span></li></ul></div></div>"
      ]
     },
     "metadata": {},
     "output_type": "display_data"
    },
    {
     "name": "stdout",
     "output_type": "stream",
     "text": [
      "Recognizers OK\n",
      "DateTime OK\n",
      "maneki-neko\n",
      "ML.NET OK\n",
      "Packages loaded ✔\n"
     ]
    }
   ],
   "source": [
    "// ML.NET: Intent Classification + Slot Extraction (C#)\n",
    "// Combined setup (original cells 1–5):\n",
    "// - Notebook intro (summary)\n",
    "// - Install NuGet packages\n",
    "// - Usings\n",
    "// - Environment sanity prints\n",
    "\n",
    "#r \"nuget: Microsoft.Recognizers.Text, 1.8.13\"\n",
    "#r \"nuget: Microsoft.Recognizers.Text.DateTime, 1.8.13\"\n",
    "#r \"nuget: Microsoft.ML, 4.0.2\"\n",
    "#r \"nuget: Microsoft.ML.FastTree, 4.0.2\"\n",
    "#r \"nuget: Microsoft.ML.LightGbm, 4.0.2\"\n",
    "\n",
    "using System;\n",
    "using System.IO;\n",
    "using System.Linq;\n",
    "using System.Collections.Generic;\n",
    "using Microsoft.ML;\n",
    "using Microsoft.ML.Data;\n",
    "using Microsoft.ML.Transforms.Text;\n",
    "using Microsoft.ML.Trainers;\n",
    "using Microsoft.Recognizers.Text;\n",
    "using Microsoft.Recognizers.Text.DateTime;\n",
    "using Microsoft.Recognizers.Text.Number;\n",
    "\n",
    "Console.WriteLine(\"Recognizers OK\");\n",
    "Console.WriteLine(\"DateTime OK\");\n",
    "Console.WriteLine(Environment.UserName);\n",
    "Console.WriteLine(\"ML.NET OK\");\n",
    "Console.WriteLine(\"Packages loaded ✔\");"
   ]
  },
  {
   "cell_type": "markdown",
   "metadata": {},
   "source": [
    "## 1) Define data models\n",
    "Think of this like TypeScript interfaces:\n",
    "- **`QueryRecord`**: training rows with `Text` and `Label`\n",
    "- **`IntentPrediction`**: output shape from the model\n"
   ]
  },
  {
   "cell_type": "code",
   "execution_count": 2,
   "metadata": {
    "language_info": {
     "name": "polyglot-notebook"
    },
    "polyglot_notebook": {
     "kernelName": "csharp"
    }
   },
   "outputs": [
    {
     "name": "stdout",
     "output_type": "stream",
     "text": [
      "Models defined ✔\n"
     ]
    }
   ],
   "source": [
    "public class QueryRecord\n",
    "{\n",
    "    // Raw user query text\n",
    "    public string Text { get; set; } = string.Empty;\n",
    "\n",
    "    // Intent label (string) – e.g. \"GET_CONTACT_INFO\"\n",
    "    public string Label { get; set; } = string.Empty;\n",
    "}\n",
    "\n",
    "public class IntentPrediction\n",
    "{\n",
    "    // The predicted label (string) after mapping from key to l\n",
    "    public string PredictedLabel { get; set; } = string.Empty;\n",
    "\n",
    "    // Raw scores per class – useful for debugging\n",
    "    public float[] Score { get; set; } = Array.Empty<float>();\n",
    "}\n",
    "\n",
    "Console.WriteLine(\"Models defined ✔\");\n"
   ]
  },
  {
   "cell_type": "markdown",
   "metadata": {},
   "source": [
    "## 2) Create a tiny labeled dataset\n",
    "This is your seed data. In a real app, you'll grow this set over time as you see real user queries.\n"
   ]
  },
  {
   "cell_type": "code",
   "execution_count": 21,
   "metadata": {
    "language_info": {
     "name": "polyglot-notebook"
    },
    "polyglot_notebook": {
     "kernelName": "csharp"
    }
   },
   "outputs": [
    {
     "name": "stdout",
     "output_type": "stream",
     "text": [
      "Loaded rows: 363\n",
      "[GET_CONTACT_ADDRESS] office mailing address for Tony The Great, [GET_CONTACT_INFO] give me o'brien's contact info, [GET_CONTACT_PHONE] best number for rick sanchez, [GET_CONTACT_EMAIL] work email for MORGAN LEE, [GET_CONTACT_PHONE] phone for morgan\n"
     ]
    },
    {
     "data": {
      "text/html": [
       "<div class=\"dni-plaintext\"><pre>&lt;null&gt;</pre></div><style>\r\n",
       ".dni-code-hint {\r\n",
       "    font-style: italic;\r\n",
       "    overflow: hidden;\r\n",
       "    white-space: nowrap;\r\n",
       "}\r\n",
       ".dni-treeview {\r\n",
       "    white-space: nowrap;\r\n",
       "}\r\n",
       ".dni-treeview td {\r\n",
       "    vertical-align: top;\r\n",
       "    text-align: start;\r\n",
       "}\r\n",
       "details.dni-treeview {\r\n",
       "    padding-left: 1em;\r\n",
       "}\r\n",
       "table td {\r\n",
       "    text-align: start;\r\n",
       "}\r\n",
       "table tr { \r\n",
       "    vertical-align: top; \r\n",
       "    margin: 0em 0px;\r\n",
       "}\r\n",
       "table tr td pre \r\n",
       "{ \r\n",
       "    vertical-align: top !important; \r\n",
       "    margin: 0em 0px !important;\r\n",
       "} \r\n",
       "table th {\r\n",
       "    text-align: start;\r\n",
       "}\r\n",
       "</style>"
      ]
     },
     "metadata": {},
     "output_type": "display_data"
    }
   ],
   "source": [
    "using System.IO;\n",
    "using System.Text.Json;\n",
    "\n",
    "public class QueryRecord\n",
    "{\n",
    "    public string Text { get; set; } = string.Empty;\n",
    "    public string Label { get; set; } = string.Empty;\n",
    "}\n",
    "\n",
    "var jsonPath = \"./Data/intent_seed_v6.json\";\n",
    "if (!File.Exists(jsonPath))\n",
    "{\n",
    "    Console.WriteLine($\"Seed file '{jsonPath}' not found. Please ensure it exists in the current directory.\");\n",
    "    return;\n",
    "}\n",
    "\n",
    "var json = File.ReadAllText(jsonPath);\n",
    "var seed = JsonSerializer.Deserialize<List<QueryRecord>>(json, new JsonSerializerOptions\n",
    "{\n",
    "    PropertyNameCaseInsensitive = true\n",
    "}) ?? new List<QueryRecord>();\n",
    "\n",
    "Console.WriteLine($\"Loaded rows: {seed.Count}\");\n",
    "Console.WriteLine(string.Join(\", \", seed.Take(5).Select(r => $\"[{r.Label}] {r.Text}\")));\n",
    "\n",
    "// Console.WriteLine($\"Seed rows: {seed.Count}\");\n"
   ]
  },
  {
   "cell_type": "markdown",
   "id": "d3358225",
   "metadata": {},
   "source": [
    "## 3) Build the ML pipeline\n",
    "\n",
    "Overview\n",
    "1. `MapValueToKey` — convert string labels to numeric keys\n",
    "2. `FeaturizeText` — turn text into numeric features (uses sensible defaults)\n",
    "3. `SdcaMaximumEntropy` — train a multi-class classifier\n",
    "4. `MapKeyToValue` — convert the predicted key back to the original label\n",
    "\n",
    "### Step 1 — Label to key\n",
    "- ML.NET learns on numbers faster than strings.\n",
    "- Example mapping: `GET_CONTACT_INFO → 0`, `FILTER_BY_HIRE_DATE → 1`, ...\n",
    "\n",
    "### Step 2 — Text featurization\n",
    "- `FeaturizeText` tokenizes text and builds features (word/character based) using built-in defaults.\n",
    "- In ML.NET 4.x, pass column names as method parameters:\n",
    "  - `outputColumnName: \"Features\"`\n",
    "  - `inputColumnName: nameof(QueryRecord.Text)`\n",
    "- You don’t need to specify `WordBagEstimator`/`CharBagEstimator` manually; defaults are usually strong.\n",
    "\n",
    "Example\n",
    "```\n",
    "Text:    \"show me the department list\"\n",
    "Unigrams: [\"show\",\"me\",\"the\",\"department\",\"list\"]\n",
    "Bigrams:  [\"show me\",\"me the\",\"the department\",\"department list\"]\n",
    "```\n",
    "\n",
    "Note\n",
    "- Older samples may set `TextFeaturizingEstimator.Options.OutputColumnName/InputColumnName` or use `CharBagEstimator`.\n",
    "- In ML.NET 4.x, provide column names via parameters to `FeaturizeText(...)`, and some older option types are no longer needed.\n",
    "\n",
    "### Step 3 — Train the classifier\n",
    "- Multi-class = choose one label out of many.\n",
    "- `SdcaMaximumEntropy` is a strong, fast baseline for text.\n",
    "- Alternatives: `LbfgsMaximumEntropy`, `LightGbm`.\n",
    "- Reproducibility: `new MLContext(seed: 42)`.\n",
    "\n",
    "### Step 4 — Key back to label\n",
    "- Predictions are numeric keys; map them back to original strings for display and downstream logic.\n",
    "\n",
    "### Minimal pipeline sketch (ML.NET 4.x)\n",
    "```csharp\n",
    "var pipeline =\n",
    "    ml.Transforms.Conversion.MapValueToKey(\n",
    "        inputColumnName: nameof(QueryRecord.Label),\n",
    "        outputColumnName: \"Label\")\n",
    "      .Append(ml.Transforms.Text.FeaturizeText(\n",
    "        outputColumnName: \"Features\",\n",
    "        inputColumnName: nameof(QueryRecord.Text)))\n",
    "      .Append(ml.MulticlassClassification.Trainers.SdcaMaximumEntropy(\n",
    "        labelColumnName: \"Label\",\n",
    "        featureColumnName: \"Features\"))\n",
    "      .Append(ml.Transforms.Conversion.MapKeyToValue(\n",
    "        outputColumnName: nameof(IntentPrediction.PredictedLabel),\n",
    "        inputColumnName: \"PredictedLabel\"));\n",
    "```\n",
    "\n",
    "### Optional: explicit n-gram features (advanced)\n",
    "If you want full control over word/char n-grams, build them explicitly and concatenate:\n",
    "\n",
    "```csharp\n",
    "var textNorm   = \"TextNorm\";\n",
    "var wordTokens = \"WordTokens\";\n",
    "var wordNgrams = \"WordNgrams\";   // word uni/bi-grams\n",
    "var charTokens = \"CharTokens\";\n",
    "var char3grams = \"Char3Grams\";   // character tri-grams\n",
    "\n",
    "var textFeatures =\n",
    "    ml.Transforms.Text.NormalizeText(\n",
    "        outputColumnName: textNorm,\n",
    "        inputColumnName: nameof(QueryRecord.Text))\n",
    "      .Append(ml.Transforms.Text.TokenizeIntoWords(\n",
    "        outputColumnName: wordTokens,\n",
    "        inputColumnName: textNorm))\n",
    "      .Append(ml.Transforms.Text.ProduceNgrams(\n",
    "        outputColumnName: wordNgrams,\n",
    "        inputColumnName: wordTokens,\n",
    "        ngramLength: 2,\n",
    "        useAllLengths: true))\n",
    "      .Append(ml.Transforms.Text.TokenizeIntoCharactersAsKeys(\n",
    "        outputColumnName: charTokens,\n",
    "        inputColumnName: textNorm))\n",
    "      .Append(ml.Transforms.Text.ProduceNgrams(\n",
    "        outputColumnName: char3grams,\n",
    "        inputColumnName: charTokens,\n",
    "        ngramLength: 3,\n",
    "        useAllLengths: false))\n",
    "      .Append(ml.Transforms.Concatenate(\n",
    "        outputColumnName: \"Features\",\n",
    "        inputColumnNames: new[] { wordNgrams, char3grams }));\n",
    "\n",
    "var pipeline =\n",
    "    ml.Transforms.Conversion.MapValueToKey(\n",
    "        inputColumnName: nameof(QueryRecord.Label),\n",
    "        outputColumnName: \"Label\")\n",
    "      .Append(textFeatures)\n",
    "      .Append(ml.MulticlassClassification.Trainers.SdcaMaximumEntropy(\n",
    "        labelColumnName: \"Label\",\n",
    "        featureColumnName: \"Features\"))\n",
    "      .Append(ml.Transforms.Conversion.MapKeyToValue(\n",
    "        outputColumnName: nameof(IntentPrediction.PredictedLabel),\n",
    "        inputColumnName: \"PredictedLabel\"));\n",
    "```\n",
    "\n",
    "- Word n-grams: `ngramLength: 2`, `useAllLengths: true` → unigrams + bigrams.\n",
    "- Char n-grams: `ngramLength: 3`, `useAllLengths: false` → strictly tri-grams.\n",
    "- This mirrors the intent of the older Options example but with ML.NET 4.x APIs."
   ]
  },
  {
   "cell_type": "code",
   "execution_count": 18,
   "metadata": {
    "language_info": {
     "name": "polyglot-notebook"
    },
    "polyglot_notebook": {
     "kernelName": "csharp"
    }
   },
   "outputs": [
    {
     "name": "stdout",
     "output_type": "stream",
     "text": [
      "Model trained ✔\n",
      "Model trained ✔\n"
     ]
    }
   ],
   "source": [
    "// The answer to the Ultimate Question of Life, the Universe, and Everything: 42.\n",
    "var ml = new MLContext(seed: 42);\n",
    "\n",
    "// Load in-memory list as an IDataView\n",
    "// IDataView is the core data structure in ML.NET, similar to a DataFrame.\n",
    "// ML.NET's way of representing tabular data (like a table or DataFrame).\n",
    "// It's an interface for data pipelines--ML.NET doesn't use plain lists or arrays directly for training.\n",
    "// Conversts in-memory list to IDataView (seed is a List<QueryRecord>).\n",
    "var data = ml.Data.LoadFromEnumerable(seed);\n",
    "\n",
    "// Train/test split\n",
    "// Splits the data into training and testing sets.\n",
    "// - Traning set: Used to train the model.\n",
    "// - Testing set: Used to evaluate the model's performance.\n",
    "// This is important to avoid overfitting and ensure the model generalizes well to unseen data\n",
    "// - testFraction: Percentage of data to use for testing (0.25 means 25% of the data will be used for testing).\n",
    "var split = ml.Data.TrainTestSplit(data, testFraction: 0.25);\n",
    "\n",
    "// Pipeline\n",
    "var pipeline = ml.Transforms.Conversion.MapValueToKey(\n",
    "                        inputColumnName: nameof(QueryRecord.Label),\n",
    "                        outputColumnName: \"Label\")\n",
    "              .Append(ml.Transforms.Text.FeaturizeText(\n",
    "                        outputColumnName: \"Features\",\n",
    "                        inputColumnName: nameof(QueryRecord.Text)))\n",
    "              .Append(ml.MulticlassClassification.Trainers.SdcaMaximumEntropy(\n",
    "                        labelColumnName: \"Label\", featureColumnName: \"Features\"))\n",
    "              .Append(ml.Transforms.Conversion.MapKeyToValue(\n",
    "                        outputColumnName: nameof(IntentPrediction.PredictedLabel),\n",
    "                        inputColumnName: \"PredictedLabel\"));\n",
    "\n",
    "ITransformer model;\n",
    "try\n",
    "{\n",
    "    model = pipeline.Fit(split.TrainSet);\n",
    "    Console.WriteLine(\"Model trained ✔\");\n",
    "}\n",
    "catch (Exception ex)\n",
    "{\n",
    "    Console.WriteLine(\"Training failed: \" + ex.Message);\n",
    "    throw;\n",
    "}\n",
    "\n",
    "Console.WriteLine(\"Model trained ✔\");"
   ]
  },
  {
   "cell_type": "code",
   "execution_count": 19,
   "metadata": {
    "language_info": {
     "name": "polyglot-notebook"
    },
    "polyglot_notebook": {
     "kernelName": "csharp"
    }
   },
   "outputs": [
    {
     "name": "stdout",
     "output_type": "stream",
     "text": [
      "Per-class LogLoss:\n",
      " 0: GET_CONTACT_ADDRESS      -> 0.061\n",
      " 1: GET_CONTACT_INFO         -> 0.341\n",
      " 2: GET_CONTACT_PHONE        -> 0.238\n",
      " 3: GET_CONTACT_EMAIL        -> 0.041\n",
      " 4: FILTER_BY_HIRE_DATE      -> 0.597\n",
      " 5: FILTER_BY_DEPARTMENT     -> 0.227\n",
      " 6: FILTER_BY_LOCATION       -> 0.438\n",
      " 7: FILTER_BY_BIRTHDAY       -> 0.253\n",
      "\n",
      "Confusion Matrix (rows=true, cols=pred):\n",
      "true\\pred               GET_CONTACT_ADDRESS     GET_CONTACT_INFO        GET_CONTACT_PHONE       GET_CONTACT_EMAIL       FILTER_BY_HIRE_DATE     FILTER_BY_DEPARTMENT    FILTER_BY_LOCATION      FILTER_BY_BIRTHDAY      \n",
      "GET_CONTACT_ADDRESS     8                       0                       0                       0                       0                       0                       0                       0                       \n",
      "GET_CONTACT_INFO        0                       8                       0                       0                       0                       0                       0                       0                       \n",
      "GET_CONTACT_PHONE       0                       0                       8                       0                       0                       0                       0                       0                       \n",
      "GET_CONTACT_EMAIL       0                       0                       0                       11                      0                       0                       0                       0                       \n",
      "FILTER_BY_HIRE_DATE     0                       0                       0                       0                       6                       1                       0                       0                       \n",
      "FILTER_BY_DEPARTMENT    0                       0                       0                       0                       0                       21                      1                       0                       \n",
      "FILTER_BY_LOCATION      0                       0                       0                       0                       0                       2                       6                       0                       \n",
      "FILTER_BY_BIRTHDAY      0                       0                       0                       0                       0                       2                       0                       10                      \n",
      "\n",
      "Worst by LogLoss: [4] FILTER_BY_HIRE_DATE = 0.597\n"
     ]
    }
   ],
   "source": [
    "using Microsoft.ML.Data;\n",
    "\n",
    "// 1) Score test set + evaluate\n",
    "var scored = model.Transform(split.TestSet);\n",
    "var metrics = ml.MulticlassClassification.Evaluate(\n",
    "    scored,\n",
    "    labelColumnName: \"Label\",\n",
    "    scoreColumnName: \"Score\",\n",
    "    predictedLabelColumnName: \"PredictedLabel\"\n",
    ");\n",
    "\n",
    "// 2) Get the exact class-name order used by metrics (from the Label key metadata)\n",
    "var labelCol = scored.Schema[\"Label\"];\n",
    "VBuffer<ReadOnlyMemory<char>> keyValues = default;\n",
    "labelCol.GetKeyValues(ref keyValues);\n",
    "var classNames = keyValues.DenseValues().Select(v => v.ToString()).ToArray();\n",
    "\n",
    "// 3) Print per-class logloss with names\n",
    "Console.WriteLine(\"Per-class LogLoss:\");\n",
    "for (int i = 0; i < metrics.PerClassLogLoss.Count; i++)\n",
    "{\n",
    "    var name = i < classNames.Length ? classNames[i] : $\"class_{i}\";\n",
    "    Console.WriteLine($\"{i,2}: {name,-24} -> {metrics.PerClassLogLoss[i]:F3}\");\n",
    "}\n",
    "\n",
    "// 4) Pretty confusion matrix with headers\n",
    "var cm = metrics.ConfusionMatrix;\n",
    "Console.WriteLine(\"\\nConfusion Matrix (rows=true, cols=pred):\");\n",
    "\n",
    "string Pad(string s, int w) => s.Length > w ? s.Substring(0, w) : s.PadRight(w);\n",
    "\n",
    "int w = 24;\n",
    "Console.Write(Pad(\"true\\\\pred\", w));\n",
    "for (int j = 0; j < classNames.Length; j++)\n",
    "    Console.Write(Pad(classNames[j], w));\n",
    "Console.WriteLine();\n",
    "\n",
    "for (int i = 0; i < cm.Counts.Count; i++)\n",
    "{\n",
    "    Console.Write(Pad(classNames[i], w));\n",
    "    for (int j = 0; j < cm.Counts[i].Count; j++)\n",
    "        Console.Write(Pad(cm.Counts[i][j].ToString(), w));\n",
    "    Console.WriteLine();\n",
    "}\n",
    "\n",
    "// 5) Highlight the worst class by LogLoss\n",
    "int worstIdx = Enumerable.Range(0, metrics.PerClassLogLoss.Count)\n",
    "                         .OrderByDescending(k => metrics.PerClassLogLoss[k])\n",
    "                         .First();\n",
    "Console.WriteLine($\"\\nWorst by LogLoss: [{worstIdx}] {classNames[worstIdx]} = {metrics.PerClassLogLoss[worstIdx]:F3}\");\n"
   ]
  },
  {
   "cell_type": "markdown",
   "metadata": {},
   "source": [
    "## 4) Evaluate the model\n",
    "We care about micro/macro accuracy. With tiny seed data, don't expect miracles — the point is to see the end-to-end flow.\n"
   ]
  },
  {
   "cell_type": "code",
   "execution_count": 20,
   "metadata": {
    "language_info": {
     "name": "polyglot-notebook"
    },
    "polyglot_notebook": {
     "kernelName": "csharp"
    }
   },
   "outputs": [
    {
     "name": "stdout",
     "output_type": "stream",
     "text": [
      "MicroAccuracy: 0.929\n",
      "MacroAccuracy: 0.924\n",
      "LogLoss:       0.253\n",
      "PerClassLogLoss: [0.061, 0.341, 0.238, 0.041, 0.597, 0.227, 0.438, 0.253]\n"
     ]
    }
   ],
   "source": [
    "var testPredictions = model.Transform(split.TestSet);\n",
    "var metrics = ml.MulticlassClassification.Evaluate(testPredictions, labelColumnName: \"Label\", scoreColumnName: \"Score\");\n",
    "\n",
    "Console.WriteLine($\"MicroAccuracy: {metrics.MicroAccuracy:F3}\");\n",
    "Console.WriteLine($\"MacroAccuracy: {metrics.MacroAccuracy:F3}\");\n",
    "Console.WriteLine($\"LogLoss:       {metrics.LogLoss:F3}\");\n",
    "Console.WriteLine($\"PerClassLogLoss: [{string.Join(\", \", metrics.PerClassLogLoss.Select(v => v.ToString(\"F3\")))}]\");\n"
   ]
  },
  {
   "cell_type": "markdown",
   "metadata": {},
   "source": [
    "## 5) Use the model for predictions\n",
    "Now we simulate new user queries. Notice the model is robust to rephrasing compared to simple `if (text.Contains(...))` rules.\n"
   ]
  },
  {
   "cell_type": "code",
   "execution_count": null,
   "metadata": {
    "language_info": {
     "name": "polyglot-notebook"
    },
    "polyglot_notebook": {
     "kernelName": "csharp"
    }
   },
   "outputs": [],
   "source": [
    "var engine = ml.Model.CreatePredictionEngine<QueryRecord, IntentPrediction>(model);\n",
    "\n",
    "string[] samples = new []\n",
    "{\n",
    "    \"emails for rick and summer\",\n",
    "    \"who started before 2020?\",\n",
    "    \"any senior managers?\",\n",
    "    \"show folks in engineering\",\n",
    "    \"morty's contact details please\"\n",
    "};\n",
    "\n",
    "foreach (var text in samples)\n",
    "{\n",
    "    var pred = engine.Predict(new QueryRecord { Text = text });\n",
    "    Console.WriteLine($\"{text} -> {pred.PredictedLabel}\");\n",
    "}\n"
   ]
  },
  {
   "cell_type": "markdown",
   "metadata": {},
   "source": [
    "## 6) Save & load the model (production-style)\n",
    "You'd do this to ship the trained model with your app or cache it locally.\n"
   ]
  },
  {
   "cell_type": "code",
   "execution_count": null,
   "metadata": {
    "language_info": {
     "name": "polyglot-notebook"
    },
    "polyglot_notebook": {
     "kernelName": "csharp"
    }
   },
   "outputs": [],
   "source": [
    "var modelPath = Path.Combine(Directory.GetCurrentDirectory(), \"intent_model.zip\");\n",
    "using (var fs = File.Create(modelPath))\n",
    "{\n",
    "    ml.Model.Save(model, split.TrainSet.Schema, fs);\n",
    "}\n",
    "\n",
    "Console.WriteLine($\"Saved: {modelPath}\");\n",
    "\n",
    "// Reload\n",
    "ITransformer reloadedModel;\n",
    "using (var fs = File.OpenRead(modelPath))\n",
    "{\n",
    "    reloadedModel = ml.Model.Load(fs, out var schema);\n",
    "}\n",
    "\n",
    "var engine2 = ml.Model.CreatePredictionEngine<QueryRecord, IntentPrediction>(reloadedModel);\n",
    "var check = engine2.Predict(new QueryRecord { Text = \"list engineers\" });\n",
    "Console.WriteLine($\"Reloaded model prediction: {check.PredictedLabel}\");\n"
   ]
  },
  {
   "cell_type": "markdown",
   "metadata": {},
   "source": [
    "## 7) Slot extraction with Microsoft.Recognizers.Text\n",
    "For structured values like dates and numbers, prefer deterministic extractors.\n",
    "Below are quick examples:\n"
   ]
  },
  {
   "cell_type": "code",
   "execution_count": null,
   "metadata": {
    "language_info": {
     "name": "polyglot-notebook"
    },
    "polyglot_notebook": {
     "kernelName": "csharp"
    }
   },
   "outputs": [],
   "source": [
    "// Helper to pretty print extractor results\n",
    "void Dump(string title, IEnumerable<ModelResult> results)\n",
    "{\n",
    "    Console.WriteLine($\"\\n== {title} ==\");\n",
    "    foreach (var r in results)\n",
    "    {\n",
    "        var len = r.Text?.Length ?? 0;\n",
    "        Console.WriteLine($\"Text='{r.Text}' Type={r.TypeName} Value={(r.Resolution != null && r.Resolution.ContainsKey(\"value\") ? r.Resolution[\"value\"] : \"\")} Start={r.Start} Len={len}\");\n",
    "        if (r.Resolution != null)\n",
    "        {\n",
    "            foreach (var kv in r.Resolution)\n",
    "                Console.WriteLine($\"  {kv.Key}: {kv.Value}\");\n",
    "        }\n",
    "    }\n",
    "}\n",
    "\n",
    "// Example query strings\n",
    "var q1 = \"employees hired before 2024 in engineering\";\n",
    "var q2 = \"show hires between 2019 and 2022\";\n",
    "var q3 = \"anyone joined after 2020?\";\n",
    "\n",
    "// DateTime model (English)\n",
    "var dtModel = new DateTimeRecognizer(Culture.English).GetDateTimeModel();\n",
    "Dump(q1, dtModel.Parse(q1));\n",
    "Dump(q2, dtModel.Parse(q2));\n",
    "Dump(q3, dtModel.Parse(q3));\n",
    "\n",
    "// Number model example\n",
    "var numModel = new NumberRecognizer(Culture.English).GetNumberModel();\n",
    "Dump(\"numbers in: 'list top 3 engineers'\", numModel.Parse(\"list top 3 engineers\"));"
   ]
  },
  {
   "cell_type": "markdown",
   "metadata": {},
   "source": [
    "## 8) Putting it together (mini pipeline)\n",
    "Here's a tiny function that calls the classifier **and** tries a bit of slot extraction.\n",
    "For real apps, you'd expand the role/department dictionaries and add more robust date handling.\n"
   ]
  },
  {
   "cell_type": "code",
   "execution_count": null,
   "metadata": {
    "language_info": {
     "name": "polyglot-notebook"
    },
    "polyglot_notebook": {
     "kernelName": "csharp"
    }
   },
   "outputs": [],
   "source": [
    "public record Slots(string? Department = null, string? Role = null, DateTime? Date = null, (DateTime Start, DateTime End)? Range = null);\n",
    "\n",
    "var departments = new[] { \"engineering\", \"hr\", \"finance\", \"sales\", \"marketing\" };\n",
    "var roles = new[] { \"engineer\", \"staff engineer\", \"senior engineer\", \"manager\", \"director\" };\n",
    "\n",
    "Slots ExtractSlots(string text)\n",
    "{\n",
    "    // Department (very naive)\n",
    "    var dept = departments.FirstOrDefault(d => text.ToLowerInvariant().Contains(d));\n",
    "\n",
    "    // Role (very naive)\n",
    "    var role = roles.FirstOrDefault(r => text.ToLowerInvariant().Contains(r));\n",
    "\n",
    "    // Date or range via Recognizers\n",
    "    var dtModel = new DateTimeRecognizer(Culture.English).GetDateTimeModel();\n",
    "    var results = dtModel.Parse(text);\n",
    "\n",
    "    DateTime? singleDate = null;\n",
    "    (DateTime Start, DateTime End)? range = null;\n",
    "\n",
    "    foreach (var r in results)\n",
    "    {\n",
    "        if (r.TypeName.Contains(\"daterange\") && r.Resolution != null && r.Resolution.TryGetValue(\"values\", out var valuesObj))\n",
    "        {\n",
    "            // values is a list of dicts with timex/start/end types; we pick first\n",
    "            if (valuesObj is List<Dictionary<string, string>> values && values.Count > 0)\n",
    "            {\n",
    "                var v = values[0];\n",
    "                if (v.TryGetValue(\"start\", out var startStr) && v.TryGetValue(\"end\", out var endStr))\n",
    "                {\n",
    "                    if (DateTime.TryParse(startStr, out var s) && DateTime.TryParse(endStr, out var e))\n",
    "                    {\n",
    "                        range = (s, e);\n",
    "                        break;\n",
    "                    }\n",
    "                }\n",
    "            }\n",
    "        }\n",
    "        else if (r.TypeName.Contains(\"date\") && r.Resolution != null && r.Resolution.TryGetValue(\"values\", out var valuesObj2))\n",
    "        {\n",
    "            if (valuesObj2 is List<Dictionary<string, string>> values && values.Count > 0)\n",
    "            {\n",
    "                var v = values[0];\n",
    "                if (v.TryGetValue(\"value\", out var dateStr) && DateTime.TryParse(dateStr, out var d))\n",
    "                {\n",
    "                    singleDate = d;\n",
    "                    break;\n",
    "                }\n",
    "            }\n",
    "        }\n",
    "    }\n",
    "\n",
    "    return new Slots(Department: dept, Role: role, Date: singleDate, Range: range);\n",
    "}\n",
    "\n",
    "void Inspect(string text)\n",
    "{\n",
    "    var intent = engine.Predict(new QueryRecord { Text = text }).PredictedLabel;\n",
    "    var slots = ExtractSlots(text);\n",
    "    Console.WriteLine($\"\\nQuery: {text}\\nIntent: {intent}\\nSlots: {{ Department={slots.Department ?? \"-\"}, Role={slots.Role ?? \"-\"}, Date={(slots.Date.HasValue ? slots.Date.Value.ToString(\"yyyy-MM-dd\") : \"-\")}, Range={(slots.Range.HasValue ? $\"{slots.Range.Value.Start:yyyy-MM-dd}..{slots.Range.Value.End:yyyy-MM-dd}\" : \"-\")} }}\");\n",
    "}\n",
    "\n",
    "Inspect(\"employees hired before 2024 in engineering\");\n",
    "Inspect(\"emails for rick and morty\");\n",
    "Inspect(\"show hires between 2019 and 2022\");\n",
    "Inspect(\"list senior engineers in finance\");\n"
   ]
  },
  {
   "cell_type": "markdown",
   "metadata": {},
   "source": [
    "---\n",
    "## Where to go next\n",
    "1. **Grow the dataset** with real user phrasing; retrain periodically.\n",
    "2. Swap in other trainers (e.g., `LbfgsMaximumEntropy`, `LightGbm`) and compare metrics.\n",
    "3. Add **domain dictionaries** (role hierarchies, department synonyms) to improve slot mapping.\n",
    "4. Persist model + build a small API that loads the ZIP and exposes `/predict`.\n",
    "5. Harden with **ML.NET AutoML** (optional): let AutoML search trainers and hyperparameters. Keep your featurization as a pre-featurizer, pick the best run, then evaluate and swap it in.\n",
    "\n",
    "AutoML sketch (ML.NET 4.x)\n",
    "```csharp\n",
    "// Add once in the setup cell:\n",
    "// #r \"nuget: Microsoft.ML.AutoML, 0.21.1\"\n",
    "\n",
    "// Keep your label mapping + FeaturizeText as the pre-featurizer\n",
    "var preFeaturizer =\n",
    "    ml.Transforms.Conversion.MapValueToKey(\n",
    "        inputColumnName: nameof(QueryRecord.Label), outputColumnName: \"Label\")\n",
    "      .Append(ml.Transforms.Text.FeaturizeText(\n",
    "        outputColumnName: \"Features\", inputColumnName: nameof(QueryRecord.Text)));\n",
    "\n",
    "// Time budget in seconds; AutoML explores trainers/hyperparameters\n",
    "var experiment = ml.Auto().CreateMulticlassClassificationExperiment(maxExperimentTimeInSeconds: 60);\n",
    "var result = experiment.Execute(\n",
    "    trainData: split.TrainSet,\n",
    "    labelColumnName: \"Label\",\n",
    "    preFeaturizer: preFeaturizer);\n",
    "\n",
    "var bestModel = result.BestRun.Model;\n",
    "\n",
    "// Evaluate the best model\n",
    "var bestPredictions = bestModel.Transform(split.TestSet);\n",
    "var bestMetrics = ml.MulticlassClassification.Evaluate(bestPredictions, labelColumnName: \"Label\");\n",
    "Console.WriteLine($\"Best MicroAccuracy: {bestMetrics.MicroAccuracy:F3}\");\n",
    "\n",
    "// Optionally use 'bestModel' downstream instead of 'model'\n",
    "```\n",
    "\n",
    "_You’ve now trained and used a model entirely in C# with ML.NET — and have a path to AutoML-hardening._ ✅"
   ]
  }
 ],
 "metadata": {
  "description": "ML.NET Intent Classification + Slot Extraction (C#) – hands-on notebook for JS devs",
  "kernelspec": {
   "display_name": ".NET (C#)",
   "language": "C#",
   "name": ".net-csharp"
  },
  "language_info": {
   "name": "polyglot-notebook"
  },
  "polyglot_notebook": {
   "kernelInfo": {
    "defaultKernelName": "csharp",
    "items": [
     {
      "aliases": [],
      "name": "csharp"
     }
    ]
   }
  }
 },
 "nbformat": 4,
 "nbformat_minor": 5
}
