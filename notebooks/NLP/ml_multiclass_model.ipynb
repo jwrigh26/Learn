{
 "cells": [
  {
   "cell_type": "markdown",
   "id": "dc39c09b",
   "metadata": {},
   "source": [
    "# ML.NET: Model with Intent Classification\n",
    "This model will be used to demonstrate how to use a ML model to parse a query."
   ]
  },
  {
   "cell_type": "code",
   "execution_count": 1,
   "id": "d4391d1f",
   "metadata": {
    "language_info": {
     "name": "polyglot-notebook"
    },
    "polyglot_notebook": {
     "kernelName": "csharp"
    }
   },
   "outputs": [
    {
     "data": {
      "text/html": [
       "<div><div></div><div></div><div><strong>Installed Packages</strong><ul><li><span>Microsoft.ML, 4.0.2</span></li><li><span>Microsoft.ML.FastTree, 4.0.2</span></li><li><span>Microsoft.ML.LightGbm, 4.0.2</span></li><li><span>Microsoft.Recognizers.Text, 1.8.13</span></li><li><span>Microsoft.Recognizers.Text.DateTime, 1.8.13</span></li></ul></div></div>"
      ]
     },
     "metadata": {},
     "output_type": "display_data"
    },
    {
     "name": "stdout",
     "output_type": "stream",
     "text": [
      "Recognizers OK\n",
      "DateTime OK\n",
      "maneki-neko\n",
      "ML.NET OK\n",
      "Packages loaded ✔\n"
     ]
    }
   ],
   "source": [
    "// ML.NET: Intent Classification + Slot Extraction (C#)\n",
    "// Combined setup (original cells 1–5):\n",
    "// - Notebook intro (summary)\n",
    "// - Install NuGet packages\n",
    "// - Usings\n",
    "// - Environment sanity prints\n",
    "\n",
    "#r \"nuget: Microsoft.Recognizers.Text, 1.8.13\"\n",
    "#r \"nuget: Microsoft.Recognizers.Text.DateTime, 1.8.13\"\n",
    "#r \"nuget: Microsoft.ML, 4.0.2\"\n",
    "#r \"nuget: Microsoft.ML.FastTree, 4.0.2\"\n",
    "#r \"nuget: Microsoft.ML.LightGbm, 4.0.2\"\n",
    "\n",
    "using System;\n",
    "using System.IO;\n",
    "using System.Linq;\n",
    "using System.Collections.Generic;\n",
    "using Microsoft.ML;\n",
    "using Microsoft.ML.Data;\n",
    "using Microsoft.ML.Transforms.Text;\n",
    "using Microsoft.ML.Trainers;\n",
    "using Microsoft.Recognizers.Text;\n",
    "using Microsoft.Recognizers.Text.DateTime;\n",
    "using Microsoft.Recognizers.Text.Number;\n",
    "\n",
    "Console.WriteLine(\"Recognizers OK\");\n",
    "Console.WriteLine(\"DateTime OK\");\n",
    "Console.WriteLine(Environment.UserName);\n",
    "Console.WriteLine(\"ML.NET OK\");\n",
    "Console.WriteLine(\"Packages loaded ✔\");"
   ]
  },
  {
   "cell_type": "code",
   "execution_count": 4,
   "metadata": {
    "language_info": {
     "name": "polyglot-notebook"
    },
    "polyglot_notebook": {
     "kernelName": "csharp"
    }
   },
   "outputs": [
    {
     "name": "stdout",
     "output_type": "stream",
     "text": [
      "Models defined ✔\n",
      "Loaded rows: 363\n"
     ]
    },
    {
     "data": {
      "text/html": [
       "<div class=\"dni-plaintext\"><pre>&lt;null&gt;</pre></div><style>\r\n",
       ".dni-code-hint {\r\n",
       "    font-style: italic;\r\n",
       "    overflow: hidden;\r\n",
       "    white-space: nowrap;\r\n",
       "}\r\n",
       ".dni-treeview {\r\n",
       "    white-space: nowrap;\r\n",
       "}\r\n",
       ".dni-treeview td {\r\n",
       "    vertical-align: top;\r\n",
       "    text-align: start;\r\n",
       "}\r\n",
       "details.dni-treeview {\r\n",
       "    padding-left: 1em;\r\n",
       "}\r\n",
       "table td {\r\n",
       "    text-align: start;\r\n",
       "}\r\n",
       "table tr { \r\n",
       "    vertical-align: top; \r\n",
       "    margin: 0em 0px;\r\n",
       "}\r\n",
       "table tr td pre \r\n",
       "{ \r\n",
       "    vertical-align: top !important; \r\n",
       "    margin: 0em 0px !important;\r\n",
       "} \r\n",
       "table th {\r\n",
       "    text-align: start;\r\n",
       "}\r\n",
       "</style>"
      ]
     },
     "metadata": {},
     "output_type": "display_data"
    }
   ],
   "source": [
    "\n",
    "using System.IO;\n",
    "using System.Text.Json;\n",
    "\n",
    "public class QueryRecord\n",
    "{\n",
    "    // Raw user query text\n",
    "    public string Text { get; set; } = string.Empty;\n",
    "\n",
    "    // Intent label (string) – e.g. \"GET_CONTACT_INFO\"\n",
    "    public string Label { get; set; } = string.Empty;\n",
    "}\n",
    "\n",
    "public class IntentPrediction\n",
    "{\n",
    "    // The predicted label (string) after mapping from key to l\n",
    "    public string PredictedLabel { get; set; } = string.Empty;\n",
    "\n",
    "    // Raw scores per class – useful for debugging\n",
    "    public float[] Score { get; set; } = Array.Empty<float>();\n",
    "}\n",
    "\n",
    "Console.WriteLine(\"Models defined ✔\");\n",
    "\n",
    "// Load the seed data from a JSON file\n",
    "// The file should contain an array of QueryRecord objects\n",
    "// Example: [{\"Text\": \"What is the weather today?\", \"Label\": \"GET_WEATHER\"}]\n",
    "var jsonPath = \"./Data/intent_seed_v6.json\";\n",
    "if (!File.Exists(jsonPath))\n",
    "{\n",
    "    Console.WriteLine($\"Seed file '{jsonPath}' not found. Please ensure it exists in the current directory.\");\n",
    "    return;\n",
    "}\n",
    "\n",
    "var json = File.ReadAllText(jsonPath);\n",
    "var seed = JsonSerializer.Deserialize<List<QueryRecord>>(json, new JsonSerializerOptions\n",
    "{\n",
    "    PropertyNameCaseInsensitive = true\n",
    "}) ?? new List<QueryRecord>();\n",
    "\n",
    "// Console.WriteLine(string.Join(\", \", seed.Take(5).Select(r => $\"[{r.Label}] {r.Text}\")));\n",
    "Console.WriteLine($\"Loaded rows: {seed.Count}\");"
   ]
  },
  {
   "cell_type": "code",
   "execution_count": 5,
   "metadata": {
    "language_info": {
     "name": "polyglot-notebook"
    },
    "polyglot_notebook": {
     "kernelName": "csharp"
    }
   },
   "outputs": [
    {
     "name": "stdout",
     "output_type": "stream",
     "text": [
      "Model trained ✔\n",
      "Model trained ✔\n"
     ]
    }
   ],
   "source": [
    "// The answer to the Ultimate Question of Life, the Universe, and Everything: 42.\n",
    "var ml = new MLContext(seed: 42);\n",
    "\n",
    "// Load in-memory list as an IDataView\n",
    "// IDataView is the core data structure in ML.NET, similar to a DataFrame.\n",
    "// ML.NET's way of representing tabular data (like a table or DataFrame).\n",
    "// It's an interface for data pipelines--ML.NET doesn't use plain lists or arrays directly for training.\n",
    "// Conversts in-memory list to IDataView (seed is a List<QueryRecord>).\n",
    "var data = ml.Data.LoadFromEnumerable(seed);\n",
    "\n",
    "// Train/test split\n",
    "// Splits the data into training and testing sets.\n",
    "// - Traning set: Used to train the model.\n",
    "// - Testing set: Used to evaluate the model's performance.\n",
    "// This is important to avoid overfitting and ensure the model generalizes well to unseen data\n",
    "// - testFraction: Percentage of data to use for testing (0.25 means 25% of the data will be used for testing).\n",
    "var split = ml.Data.TrainTestSplit(data, testFraction: 0.25);\n",
    "\n",
    "// Pipeline\n",
    "var pipeline = ml.Transforms.Conversion.MapValueToKey(\n",
    "                        inputColumnName: nameof(QueryRecord.Label),\n",
    "                        outputColumnName: \"Label\")\n",
    "              .Append(ml.Transforms.Text.FeaturizeText(\n",
    "                        outputColumnName: \"Features\",\n",
    "                        inputColumnName: nameof(QueryRecord.Text)))\n",
    "              .Append(ml.MulticlassClassification.Trainers.SdcaMaximumEntropy(\n",
    "                        labelColumnName: \"Label\", featureColumnName: \"Features\"))\n",
    "              .Append(ml.Transforms.Conversion.MapKeyToValue(\n",
    "                        outputColumnName: nameof(IntentPrediction.PredictedLabel),\n",
    "                        inputColumnName: \"PredictedLabel\"));\n",
    "\n",
    "ITransformer model;\n",
    "try\n",
    "{\n",
    "    model = pipeline.Fit(split.TrainSet);\n",
    "    Console.WriteLine(\"Model trained ✔\");\n",
    "}\n",
    "catch (Exception ex)\n",
    "{\n",
    "    Console.WriteLine(\"Training failed: \" + ex.Message);\n",
    "    throw;\n",
    "}\n",
    "\n",
    "Console.WriteLine(\"Model trained ✔\");"
   ]
  },
  {
   "cell_type": "code",
   "execution_count": 6,
   "metadata": {
    "language_info": {
     "name": "polyglot-notebook"
    },
    "polyglot_notebook": {
     "kernelName": "csharp"
    }
   },
   "outputs": [
    {
     "name": "stdout",
     "output_type": "stream",
     "text": [
      "Per-class LogLoss:\n",
      " 0: GET_CONTACT_ADDRESS      -> 0.060\n",
      " 1: GET_CONTACT_INFO         -> 0.328\n",
      " 2: GET_CONTACT_PHONE        -> 0.235\n",
      " 3: GET_CONTACT_EMAIL        -> 0.042\n",
      " 4: FILTER_BY_HIRE_DATE      -> 0.605\n",
      " 5: FILTER_BY_DEPARTMENT     -> 0.226\n",
      " 6: FILTER_BY_LOCATION       -> 0.439\n",
      " 7: FILTER_BY_BIRTHDAY       -> 0.251\n",
      "\n",
      "Confusion Matrix (rows=true, cols=pred):\n",
      "true\\pred               GET_CONTACT_ADDRESS     GET_CONTACT_INFO        GET_CONTACT_PHONE       GET_CONTACT_EMAIL       FILTER_BY_HIRE_DATE     FILTER_BY_DEPARTMENT    FILTER_BY_LOCATION      FILTER_BY_BIRTHDAY      \n",
      "GET_CONTACT_ADDRESS     8                       0                       0                       0                       0                       0                       0                       0                       \n",
      "GET_CONTACT_INFO        0                       8                       0                       0                       0                       0                       0                       0                       \n",
      "GET_CONTACT_PHONE       0                       0                       8                       0                       0                       0                       0                       0                       \n",
      "GET_CONTACT_EMAIL       0                       0                       0                       11                      0                       0                       0                       0                       \n",
      "FILTER_BY_HIRE_DATE     0                       0                       0                       0                       6                       1                       0                       0                       \n",
      "FILTER_BY_DEPARTMENT    0                       0                       0                       0                       0                       21                      1                       0                       \n",
      "FILTER_BY_LOCATION      0                       0                       0                       0                       0                       2                       6                       0                       \n",
      "FILTER_BY_BIRTHDAY      0                       0                       0                       0                       0                       2                       0                       10                      \n",
      "\n",
      "Worst by LogLoss: [4] FILTER_BY_HIRE_DATE = 0.605\n"
     ]
    }
   ],
   "source": [
    "using Microsoft.ML.Data;\n",
    "\n",
    "// 1) Score test set + evaluate\n",
    "var scored = model.Transform(split.TestSet);\n",
    "var metrics = ml.MulticlassClassification.Evaluate(\n",
    "    scored,\n",
    "    labelColumnName: \"Label\",\n",
    "    scoreColumnName: \"Score\",\n",
    "    predictedLabelColumnName: \"PredictedLabel\"\n",
    ");\n",
    "\n",
    "// 2) Get the exact class-name order used by metrics (from the Label key metadata)\n",
    "var labelCol = scored.Schema[\"Label\"];\n",
    "VBuffer<ReadOnlyMemory<char>> keyValues = default;\n",
    "labelCol.GetKeyValues(ref keyValues);\n",
    "var classNames = keyValues.DenseValues().Select(v => v.ToString()).ToArray();\n",
    "\n",
    "// 3) Print per-class logloss with names\n",
    "Console.WriteLine(\"Per-class LogLoss:\");\n",
    "for (int i = 0; i < metrics.PerClassLogLoss.Count; i++)\n",
    "{\n",
    "    var name = i < classNames.Length ? classNames[i] : $\"class_{i}\";\n",
    "    Console.WriteLine($\"{i,2}: {name,-24} -> {metrics.PerClassLogLoss[i]:F3}\");\n",
    "}\n",
    "\n",
    "// 4) Pretty confusion matrix with headers\n",
    "var cm = metrics.ConfusionMatrix;\n",
    "Console.WriteLine(\"\\nConfusion Matrix (rows=true, cols=pred):\");\n",
    "\n",
    "string Pad(string s, int w) => s.Length > w ? s.Substring(0, w) : s.PadRight(w);\n",
    "\n",
    "int w = 24;\n",
    "Console.Write(Pad(\"true\\\\pred\", w));\n",
    "for (int j = 0; j < classNames.Length; j++)\n",
    "    Console.Write(Pad(classNames[j], w));\n",
    "Console.WriteLine();\n",
    "\n",
    "for (int i = 0; i < cm.Counts.Count; i++)\n",
    "{\n",
    "    Console.Write(Pad(classNames[i], w));\n",
    "    for (int j = 0; j < cm.Counts[i].Count; j++)\n",
    "        Console.Write(Pad(cm.Counts[i][j].ToString(), w));\n",
    "    Console.WriteLine();\n",
    "}\n",
    "\n",
    "// 5) Highlight the worst class by LogLoss\n",
    "int worstIdx = Enumerable.Range(0, metrics.PerClassLogLoss.Count)\n",
    "                         .OrderByDescending(k => metrics.PerClassLogLoss[k])\n",
    "                         .First();\n",
    "Console.WriteLine($\"\\nWorst by LogLoss: [{worstIdx}] {classNames[worstIdx]} = {metrics.PerClassLogLoss[worstIdx]:F3}\");\n"
   ]
  },
  {
   "cell_type": "code",
   "execution_count": 7,
   "metadata": {
    "language_info": {
     "name": "polyglot-notebook"
    },
    "polyglot_notebook": {
     "kernelName": "csharp"
    }
   },
   "outputs": [
    {
     "name": "stdout",
     "output_type": "stream",
     "text": [
      "MicroAccuracy: 0.929\n",
      "MacroAccuracy: 0.924\n",
      "LogLoss:       0.252\n",
      "PerClassLogLoss: [0.060, 0.328, 0.235, 0.042, 0.605, 0.226, 0.439, 0.251]\n"
     ]
    }
   ],
   "source": [
    "// Evaluate the model on the test set\n",
    "// This will give us metrics like accuracy, log loss, etc.\n",
    "var testPredictions = model.Transform(split.TestSet);\n",
    "var metrics = ml.MulticlassClassification.Evaluate(testPredictions, labelColumnName: \"Label\", scoreColumnName: \"Score\");\n",
    "\n",
    "Console.WriteLine($\"MicroAccuracy: {metrics.MicroAccuracy:F3}\");\n",
    "Console.WriteLine($\"MacroAccuracy: {metrics.MacroAccuracy:F3}\");\n",
    "Console.WriteLine($\"LogLoss:       {metrics.LogLoss:F3}\");\n",
    "Console.WriteLine($\"PerClassLogLoss: [{string.Join(\", \", metrics.PerClassLogLoss.Select(v => v.ToString(\"F3\")))}]\");\n"
   ]
  },
  {
   "cell_type": "code",
   "execution_count": 8,
   "metadata": {
    "language_info": {
     "name": "polyglot-notebook"
    },
    "polyglot_notebook": {
     "kernelName": "csharp"
    }
   },
   "outputs": [
    {
     "name": "stdout",
     "output_type": "stream",
     "text": [
      "Saved: /Users/maneki-neko/learning/NLP/intent_model.zip\n",
      "Reloaded model prediction: FILTER_BY_DEPARTMENT\n"
     ]
    }
   ],
   "source": [
    "// Save the model\n",
    "var modelPath = Path.Combine(Directory.GetCurrentDirectory(), \"intent_model.zip\");\n",
    "using (var fs = File.Create(modelPath))\n",
    "{\n",
    "    ml.Model.Save(model, split.TrainSet.Schema, fs);\n",
    "}\n",
    "\n",
    "Console.WriteLine($\"Saved: {modelPath}\");\n",
    "\n",
    "// Reload\n",
    "ITransformer reloadedModel;\n",
    "using (var fs = File.OpenRead(modelPath))\n",
    "{\n",
    "    reloadedModel = ml.Model.Load(fs, out var schema);\n",
    "}\n",
    "\n",
    "var engine2 = ml.Model.CreatePredictionEngine<QueryRecord, IntentPrediction>(reloadedModel);\n",
    "var check = engine2.Predict(new QueryRecord { Text = \"list engineers\" });\n",
    "Console.WriteLine($\"Reloaded model prediction: {check.PredictedLabel}\");\n"
   ]
  }
 ],
 "metadata": {
  "kernelspec": {
   "display_name": ".NET (C#)",
   "language": "C#",
   "name": ".net-csharp"
  },
  "language_info": {
   "name": "polyglot-notebook"
  },
  "polyglot_notebook": {
   "kernelInfo": {
    "defaultKernelName": "csharp",
    "items": [
     {
      "aliases": [],
      "name": "csharp"
     }
    ]
   }
  }
 },
 "nbformat": 4,
 "nbformat_minor": 5
}
