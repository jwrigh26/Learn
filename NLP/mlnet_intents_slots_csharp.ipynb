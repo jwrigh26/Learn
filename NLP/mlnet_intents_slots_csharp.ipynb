{
 "cells": [
  {
   "cell_type": "markdown",
   "id": "adb5a4f5",
   "metadata": {},
   "source": [
    "# ML.NET: Intent Classification + Slot Extraction (C#)\n",
    "\n",
    "Welcome! This notebook gets you from **zero** to a **trained classifier** for intents, with clear comments aimed at a JS/React dev.\n",
    "\n",
    "### What you'll do\n",
    "1. Install packages right from the notebook\n",
    "2. Create a tiny labeled dataset of **queries ➜ intent**\n",
    "3. Train a **multi-class text classifier** (ML.NET)\n",
    "4. Evaluate it and make predictions\n",
    "5. Do basic **slot extraction** with `Microsoft.Recognizers.Text`\n",
    "\n",
    "**Kernel:** Use the **.NET (C#)** kernel (aka `dotnet-csharp`). If you don't see it, install **.NET Interactive Notebooks** in VS Code.\n"
   ]
  },
  {
   "cell_type": "code",
   "execution_count": 1,
   "metadata": {
    "language_info": {
     "name": "polyglot-notebook"
    },
    "polyglot_notebook": {
     "kernelName": "csharp"
    }
   },
   "outputs": [
    {
     "data": {
      "text/html": [
       "<div><div></div><div></div><div><strong>Installed Packages</strong><ul><li><span>Microsoft.ML, 4.0.2</span></li><li><span>Microsoft.ML.FastTree, 4.0.2</span></li><li><span>Microsoft.ML.LightGbm, 4.0.2</span></li><li><span>Microsoft.Recognizers.Text, 1.8.13</span></li><li><span>Microsoft.Recognizers.Text.DateTime, 1.8.13</span></li></ul></div></div>"
      ]
     },
     "metadata": {},
     "output_type": "display_data"
    },
    {
     "name": "stdout",
     "output_type": "stream",
     "text": [
      "Recognizers OK\n",
      "DateTime OK\n",
      "DateTime OK\n",
      "maneki-neko\n",
      "maneki-neko\n",
      "ML.NET OK\n",
      "ML.NET OK\n",
      "Packages loaded ✔\n",
      "Packages loaded ✔\n"
     ]
    }
   ],
   "source": [
    "// ML.NET: Intent Classification + Slot Extraction (C#)\n",
    "// Combined setup (original cells 1–5):\n",
    "// - Notebook intro (summary)\n",
    "// - Install NuGet packages\n",
    "// - Usings\n",
    "// - Environment sanity prints\n",
    "\n",
    "#r \"nuget: Microsoft.Recognizers.Text, 1.8.13\"\n",
    "#r \"nuget: Microsoft.Recognizers.Text.DateTime, 1.8.13\"\n",
    "#r \"nuget: Microsoft.ML, 4.0.2\"\n",
    "#r \"nuget: Microsoft.ML.FastTree, 4.0.2\"\n",
    "#r \"nuget: Microsoft.ML.LightGbm, 4.0.2\"\n",
    "\n",
    "using System;\n",
    "using System.IO;\n",
    "using System.Linq;\n",
    "using System.Collections.Generic;\n",
    "using Microsoft.ML;\n",
    "using Microsoft.ML.Data;\n",
    "using Microsoft.ML.Transforms.Text;\n",
    "using Microsoft.ML.Trainers;\n",
    "using Microsoft.Recognizers.Text;\n",
    "using Microsoft.Recognizers.Text.DateTime;\n",
    "using Microsoft.Recognizers.Text.Number;\n",
    "\n",
    "Console.WriteLine(\"Recognizers OK\");\n",
    "Console.WriteLine(\"DateTime OK\");\n",
    "Console.WriteLine(Environment.UserName);\n",
    "Console.WriteLine(\"ML.NET OK\");\n",
    "Console.WriteLine(\"Packages loaded ✔\");"
   ]
  },
  {
   "cell_type": "markdown",
   "metadata": {},
   "source": [
    "## 1) Define data models\n",
    "Think of this like TypeScript interfaces:\n",
    "- **`QueryRecord`**: training rows with `Text` and `Label`\n",
    "- **`IntentPrediction`**: output shape from the model\n"
   ]
  },
  {
   "cell_type": "code",
   "execution_count": 2,
   "metadata": {
    "language_info": {
     "name": "polyglot-notebook"
    },
    "polyglot_notebook": {
     "kernelName": "csharp"
    }
   },
   "outputs": [
    {
     "name": "stdout",
     "output_type": "stream",
     "text": [
      "Models defined ✔\n"
     ]
    }
   ],
   "source": [
    "public class QueryRecord\n",
    "{\n",
    "    // Raw user query text\n",
    "    public string Text { get; set; } = string.Empty;\n",
    "\n",
    "    // Intent label (string) – e.g. \"GET_CONTACT_INFO\"\n",
    "    public string Label { get; set; } = string.Empty;\n",
    "}\n",
    "\n",
    "public class IntentPrediction\n",
    "{\n",
    "    // The predicted label (string) after mapping from key to label\n",
    "    [ColumnName(\"PredictedLabel\")]\n",
    "    public string PredictedLabel { get; set; } = string.Empty;\n",
    "\n",
    "    // Raw scores per class – useful for debugging\n",
    "    public float[] Score { get; set; } = Array.Empty<float>();\n",
    "}\n",
    "\n",
    "Console.WriteLine(\"Models defined ✔\");\n"
   ]
  },
  {
   "cell_type": "markdown",
   "metadata": {},
   "source": [
    "## 2) Create a tiny labeled dataset\n",
    "This is your seed data. In a real app, you'll grow this set over time as you see real user queries.\n"
   ]
  },
  {
   "cell_type": "code",
   "execution_count": 3,
   "metadata": {
    "language_info": {
     "name": "polyglot-notebook"
    },
    "polyglot_notebook": {
     "kernelName": "csharp"
    }
   },
   "outputs": [
    {
     "name": "stdout",
     "output_type": "stream",
     "text": [
      "Seed rows: 20\n"
     ]
    }
   ],
   "source": [
    "var seed = new List<QueryRecord>\n",
    "{\n",
    "    // GET_CONTACT_INFO\n",
    "    new() { Text = \"what is rick's email?\", Label = \"GET_CONTACT_INFO\" },\n",
    "    new() { Text = \"show me morty's email address\", Label = \"GET_CONTACT_INFO\" },\n",
    "    new() { Text = \"give me summer's contact info\", Label = \"GET_CONTACT_INFO\" },\n",
    "    new() { Text = \"emails for rick and morty\", Label = \"GET_CONTACT_INFO\" },\n",
    "    new() { Text = \"how do I contact beth\", Label = \"GET_CONTACT_INFO\" },\n",
    "\n",
    "    // FILTER_BY_HIRE_DATE\n",
    "    new() { Text = \"employees hired before 2021\", Label = \"FILTER_BY_HIRE_DATE\" },\n",
    "    new() { Text = \"anyone joined after 2020?\", Label = \"FILTER_BY_HIRE_DATE\" },\n",
    "    new() { Text = \"show hires between 2019 and 2022\", Label = \"FILTER_BY_HIRE_DATE\" },\n",
    "    new() { Text = \"who started prior to 2020\", Label = \"FILTER_BY_HIRE_DATE\" },\n",
    "    new() { Text = \"hire date after jan 2023\", Label = \"FILTER_BY_HIRE_DATE\" },\n",
    "\n",
    "    // FILTER_BY_ROLE\n",
    "    new() { Text = \"list engineers\", Label = \"FILTER_BY_ROLE\" },\n",
    "    new() { Text = \"show managers in any department\", Label = \"FILTER_BY_ROLE\" },\n",
    "    new() { Text = \"find staff engineers\", Label = \"FILTER_BY_ROLE\" },\n",
    "    new() { Text = \"who are the directors?\", Label = \"FILTER_BY_ROLE\" },\n",
    "    new() { Text = \"any senior engineers?\", Label = \"FILTER_BY_ROLE\" },\n",
    "\n",
    "    // SEARCH_BY_DEPARTMENT\n",
    "    new() { Text = \"engineering team members\", Label = \"SEARCH_BY_DEPARTMENT\" },\n",
    "    new() { Text = \"folks in hr\", Label = \"SEARCH_BY_DEPARTMENT\" },\n",
    "    new() { Text = \"anyone from finance dept?\", Label = \"SEARCH_BY_DEPARTMENT\" },\n",
    "    new() { Text = \"people working in marketing\", Label = \"SEARCH_BY_DEPARTMENT\" },\n",
    "    new() { Text = \"show sales department\", Label = \"SEARCH_BY_DEPARTMENT\" },\n",
    "};\n",
    "\n",
    "Console.WriteLine($\"Seed rows: {seed.Count}\");\n"
   ]
  },
  {
   "cell_type": "markdown",
   "id": "d3358225",
   "metadata": {},
   "source": [
    "## 3) Build the ML pipeline\n",
    "\n",
    "Overview\n",
    "1. `MapValueToKey` — convert string labels to numeric keys\n",
    "2. `FeaturizeText` — turn text into numeric features (uses sensible defaults)\n",
    "3. `SdcaMaximumEntropy` — train a multi-class classifier\n",
    "4. `MapKeyToValue` — convert the predicted key back to the original label\n",
    "\n",
    "### Step 1 — Label to key\n",
    "- ML.NET learns on numbers faster than strings.\n",
    "- Example mapping: `GET_CONTACT_INFO → 0`, `FILTER_BY_HIRE_DATE → 1`, ...\n",
    "\n",
    "### Step 2 — Text featurization\n",
    "- `FeaturizeText` tokenizes text and builds features (word/character based) using built-in defaults.\n",
    "- In ML.NET 4.x, pass column names as method parameters:\n",
    "  - `outputColumnName: \"Features\"`\n",
    "  - `inputColumnName: nameof(QueryRecord.Text)`\n",
    "- You don’t need to specify `WordBagEstimator`/`CharBagEstimator` manually; defaults are usually strong.\n",
    "\n",
    "Example\n",
    "```\n",
    "Text:    \"show me the department list\"\n",
    "Unigrams: [\"show\",\"me\",\"the\",\"department\",\"list\"]\n",
    "Bigrams:  [\"show me\",\"me the\",\"the department\",\"department list\"]\n",
    "```\n",
    "\n",
    "Note\n",
    "- Older samples may set `TextFeaturizingEstimator.Options.OutputColumnName/InputColumnName` or use `CharBagEstimator`.\n",
    "- In ML.NET 4.x, provide column names via parameters to `FeaturizeText(...)`, and some older option types are no longer needed.\n",
    "\n",
    "### Step 3 — Train the classifier\n",
    "- Multi-class = choose one label out of many.\n",
    "- `SdcaMaximumEntropy` is a strong, fast baseline for text.\n",
    "- Alternatives: `LbfgsMaximumEntropy`, `LightGbm`.\n",
    "- Reproducibility: `new MLContext(seed: 42)`.\n",
    "\n",
    "### Step 4 — Key back to label\n",
    "- Predictions are numeric keys; map them back to original strings for display and downstream logic.\n",
    "\n",
    "### Minimal pipeline sketch (ML.NET 4.x)\n",
    "```csharp\n",
    "var pipeline =\n",
    "    ml.Transforms.Conversion.MapValueToKey(\n",
    "        inputColumnName: nameof(QueryRecord.Label),\n",
    "        outputColumnName: \"Label\")\n",
    "      .Append(ml.Transforms.Text.FeaturizeText(\n",
    "        outputColumnName: \"Features\",\n",
    "        inputColumnName: nameof(QueryRecord.Text)))\n",
    "      .Append(ml.MulticlassClassification.Trainers.SdcaMaximumEntropy(\n",
    "        labelColumnName: \"Label\",\n",
    "        featureColumnName: \"Features\"))\n",
    "      .Append(ml.Transforms.Conversion.MapKeyToValue(\n",
    "        outputColumnName: nameof(IntentPrediction.PredictedLabel),\n",
    "        inputColumnName: \"PredictedLabel\"));\n",
    "```\n",
    "\n",
    "### Optional: explicit n-gram features (advanced)\n",
    "If you want full control over word/char n-grams, build them explicitly and concatenate:\n",
    "\n",
    "```csharp\n",
    "var textNorm   = \"TextNorm\";\n",
    "var wordTokens = \"WordTokens\";\n",
    "var wordNgrams = \"WordNgrams\";   // word uni/bi-grams\n",
    "var charTokens = \"CharTokens\";\n",
    "var char3grams = \"Char3Grams\";   // character tri-grams\n",
    "\n",
    "var textFeatures =\n",
    "    ml.Transforms.Text.NormalizeText(\n",
    "        outputColumnName: textNorm,\n",
    "        inputColumnName: nameof(QueryRecord.Text))\n",
    "      .Append(ml.Transforms.Text.TokenizeIntoWords(\n",
    "        outputColumnName: wordTokens,\n",
    "        inputColumnName: textNorm))\n",
    "      .Append(ml.Transforms.Text.ProduceNgrams(\n",
    "        outputColumnName: wordNgrams,\n",
    "        inputColumnName: wordTokens,\n",
    "        ngramLength: 2,\n",
    "        useAllLengths: true))\n",
    "      .Append(ml.Transforms.Text.TokenizeIntoCharactersAsKeys(\n",
    "        outputColumnName: charTokens,\n",
    "        inputColumnName: textNorm))\n",
    "      .Append(ml.Transforms.Text.ProduceNgrams(\n",
    "        outputColumnName: char3grams,\n",
    "        inputColumnName: charTokens,\n",
    "        ngramLength: 3,\n",
    "        useAllLengths: false))\n",
    "      .Append(ml.Transforms.Concatenate(\n",
    "        outputColumnName: \"Features\",\n",
    "        inputColumnNames: new[] { wordNgrams, char3grams }));\n",
    "\n",
    "var pipeline =\n",
    "    ml.Transforms.Conversion.MapValueToKey(\n",
    "        inputColumnName: nameof(QueryRecord.Label),\n",
    "        outputColumnName: \"Label\")\n",
    "      .Append(textFeatures)\n",
    "      .Append(ml.MulticlassClassification.Trainers.SdcaMaximumEntropy(\n",
    "        labelColumnName: \"Label\",\n",
    "        featureColumnName: \"Features\"))\n",
    "      .Append(ml.Transforms.Conversion.MapKeyToValue(\n",
    "        outputColumnName: nameof(IntentPrediction.PredictedLabel),\n",
    "        inputColumnName: \"PredictedLabel\"));\n",
    "```\n",
    "\n",
    "- Word n-grams: `ngramLength: 2`, `useAllLengths: true` → unigrams + bigrams.\n",
    "- Char n-grams: `ngramLength: 3`, `useAllLengths: false` → strictly tri-grams.\n",
    "- This mirrors the intent of the older Options example but with ML.NET 4.x APIs."
   ]
  },
  {
   "cell_type": "code",
   "execution_count": 4,
   "metadata": {
    "language_info": {
     "name": "polyglot-notebook"
    },
    "polyglot_notebook": {
     "kernelName": "csharp"
    }
   },
   "outputs": [
    {
     "name": "stdout",
     "output_type": "stream",
     "text": [
      "Model trained ✔\n",
      "Model trained ✔\n",
      "Model trained ✔\n"
     ]
    }
   ],
   "source": [
    "// The answer to the Ultimate Question of Life, the Universe, and Everything: 42.\n",
    "var ml = new MLContext(seed: 42);\n",
    "\n",
    "// Load in-memory list as an IDataView\n",
    "// IDataView is the core data structure in ML.NET, similar to a DataFrame.\n",
    "// ML.NET's way of representing tabular data (like a table or DataFrame).\n",
    "// It's an interface for data pipelines--ML.NET doesn't use plain lists or arrays directly for training.\n",
    "// Conversts in-memory list to IDataView (seed is a List<QueryRecord>).\n",
    "var data = ml.Data.LoadFromEnumerable(seed);\n",
    "\n",
    "// Train/test split\n",
    "// Splits the data into training and testing sets.\n",
    "// - Traning set: Used to train the model.\n",
    "// - Testing set: Used to evaluate the model's performance.\n",
    "// This is important to avoid overfitting and ensure the model generalizes well to unseen data\n",
    "// - testFraction: Percentage of data to use for testing (0.25 means 25% of the data will be used for testing).\n",
    "var split = ml.Data.TrainTestSplit(data, testFraction: 0.25);\n",
    "\n",
    "// Pipeline\n",
    "var pipeline = ml.Transforms.Conversion.MapValueToKey(\n",
    "                        inputColumnName: nameof(QueryRecord.Label),\n",
    "                        outputColumnName: \"Label\")\n",
    "              .Append(ml.Transforms.Text.FeaturizeText(\n",
    "                        outputColumnName: \"Features\",\n",
    "                        inputColumnName: nameof(QueryRecord.Text)))\n",
    "              .Append(ml.MulticlassClassification.Trainers.SdcaMaximumEntropy(\n",
    "                        labelColumnName: \"Label\", featureColumnName: \"Features\"))\n",
    "              .Append(ml.Transforms.Conversion.MapKeyToValue(\n",
    "                        outputColumnName: nameof(IntentPrediction.PredictedLabel),\n",
    "                        inputColumnName: \"PredictedLabel\"));\n",
    "\n",
    "ITransformer model;\n",
    "try\n",
    "{\n",
    "    model = pipeline.Fit(split.TrainSet);\n",
    "    Console.WriteLine(\"Model trained ✔\");\n",
    "}\n",
    "catch (Exception ex)\n",
    "{\n",
    "    Console.WriteLine(\"Training failed: \" + ex.Message);\n",
    "    throw;\n",
    "}\n",
    "\n",
    "Console.WriteLine(\"Model trained ✔\");"
   ]
  },
  {
   "cell_type": "markdown",
   "metadata": {},
   "source": [
    "## 4) Evaluate the model\n",
    "We care about micro/macro accuracy. With tiny seed data, don't expect miracles — the point is to see the end-to-end flow.\n"
   ]
  },
  {
   "cell_type": "code",
   "execution_count": 5,
   "metadata": {
    "language_info": {
     "name": "polyglot-notebook"
    },
    "polyglot_notebook": {
     "kernelName": "csharp"
    }
   },
   "outputs": [
    {
     "name": "stdout",
     "output_type": "stream",
     "text": [
      "MicroAccuracy: 1.000\n",
      "MacroAccuracy: 1.000\n",
      "MacroAccuracy: 1.000\n",
      "LogLoss:       0.422\n",
      "LogLoss:       0.422\n",
      "PerClassLogLoss: [0.000, 0.384, 0.000, 0.498]\n",
      "PerClassLogLoss: [0.000, 0.384, 0.000, 0.498]\n"
     ]
    }
   ],
   "source": [
    "var testPredictions = model.Transform(split.TestSet);\n",
    "var metrics = ml.MulticlassClassification.Evaluate(testPredictions, labelColumnName: \"Label\", scoreColumnName: \"Score\");\n",
    "\n",
    "Console.WriteLine($\"MicroAccuracy: {metrics.MicroAccuracy:F3}\");\n",
    "Console.WriteLine($\"MacroAccuracy: {metrics.MacroAccuracy:F3}\");\n",
    "Console.WriteLine($\"LogLoss:       {metrics.LogLoss:F3}\");\n",
    "Console.WriteLine($\"PerClassLogLoss: [{string.Join(\", \", metrics.PerClassLogLoss.Select(v => v.ToString(\"F3\")))}]\");\n"
   ]
  },
  {
   "cell_type": "markdown",
   "metadata": {},
   "source": [
    "## 5) Use the model for predictions\n",
    "Now we simulate new user queries. Notice the model is robust to rephrasing compared to simple `if (text.Contains(...))` rules.\n"
   ]
  },
  {
   "cell_type": "code",
   "execution_count": 6,
   "metadata": {
    "language_info": {
     "name": "polyglot-notebook"
    },
    "polyglot_notebook": {
     "kernelName": "csharp"
    }
   },
   "outputs": [
    {
     "name": "stdout",
     "output_type": "stream",
     "text": [
      "emails for rick and summer -> GET_CONTACT_INFO\n",
      "who started before 2020? -> FILTER_BY_HIRE_DATE\n",
      "who started before 2020? -> FILTER_BY_HIRE_DATE\n",
      "any senior managers? -> FILTER_BY_ROLE\n",
      "any senior managers? -> FILTER_BY_ROLE\n",
      "show folks in engineering -> SEARCH_BY_DEPARTMENT\n",
      "show folks in engineering -> SEARCH_BY_DEPARTMENT\n",
      "morty's contact details please -> GET_CONTACT_INFO\n",
      "morty's contact details please -> GET_CONTACT_INFO\n"
     ]
    }
   ],
   "source": [
    "var engine = ml.Model.CreatePredictionEngine<QueryRecord, IntentPrediction>(model);\n",
    "\n",
    "string[] samples = new []\n",
    "{\n",
    "    \"emails for rick and summer\",\n",
    "    \"who started before 2020?\",\n",
    "    \"any senior managers?\",\n",
    "    \"show folks in engineering\",\n",
    "    \"morty's contact details please\"\n",
    "};\n",
    "\n",
    "foreach (var text in samples)\n",
    "{\n",
    "    var pred = engine.Predict(new QueryRecord { Text = text });\n",
    "    Console.WriteLine($\"{text} -> {pred.PredictedLabel}\");\n",
    "}\n"
   ]
  },
  {
   "cell_type": "markdown",
   "metadata": {},
   "source": [
    "## 6) Save & load the model (production-style)\n",
    "You'd do this to ship the trained model with your app or cache it locally.\n"
   ]
  },
  {
   "cell_type": "code",
   "execution_count": 7,
   "metadata": {
    "language_info": {
     "name": "polyglot-notebook"
    },
    "polyglot_notebook": {
     "kernelName": "csharp"
    }
   },
   "outputs": [
    {
     "name": "stdout",
     "output_type": "stream",
     "text": [
      "Saved: /Users/maneki-neko/learning/NLP/intent_model.zip\n",
      "Reloaded model prediction: FILTER_BY_ROLE\n",
      "Reloaded model prediction: FILTER_BY_ROLE\n"
     ]
    }
   ],
   "source": [
    "var modelPath = Path.Combine(Directory.GetCurrentDirectory(), \"intent_model.zip\");\n",
    "using (var fs = File.Create(modelPath))\n",
    "{\n",
    "    ml.Model.Save(model, split.TrainSet.Schema, fs);\n",
    "}\n",
    "\n",
    "Console.WriteLine($\"Saved: {modelPath}\");\n",
    "\n",
    "// Reload\n",
    "ITransformer reloadedModel;\n",
    "using (var fs = File.OpenRead(modelPath))\n",
    "{\n",
    "    reloadedModel = ml.Model.Load(fs, out var schema);\n",
    "}\n",
    "\n",
    "var engine2 = ml.Model.CreatePredictionEngine<QueryRecord, IntentPrediction>(reloadedModel);\n",
    "var check = engine2.Predict(new QueryRecord { Text = \"list engineers\" });\n",
    "Console.WriteLine($\"Reloaded model prediction: {check.PredictedLabel}\");\n"
   ]
  },
  {
   "cell_type": "markdown",
   "metadata": {},
   "source": [
    "## 7) Slot extraction with Microsoft.Recognizers.Text\n",
    "For structured values like dates and numbers, prefer deterministic extractors.\n",
    "Below are quick examples:\n"
   ]
  },
  {
   "cell_type": "code",
   "execution_count": 8,
   "metadata": {
    "language_info": {
     "name": "polyglot-notebook"
    },
    "polyglot_notebook": {
     "kernelName": "csharp"
    }
   },
   "outputs": [
    {
     "name": "stdout",
     "output_type": "stream",
     "text": [
      "\n",
      "== employees hired before 2024 in engineering ==\n",
      "Text='before 2024' Type=datetimeV2.daterange Value= Start=16 Len=11\n",
      "Text='before 2024' Type=datetimeV2.daterange Value= Start=16 Len=11\n",
      "  values: System.Collections.Generic.List`1[System.Collections.Generic.Dictionary`2[System.String,System.String]]\n",
      "  values: System.Collections.Generic.List`1[System.Collections.Generic.Dictionary`2[System.String,System.String]]\n",
      "\n",
      "== show hires between 2019 and 2022 ==\n",
      "\n",
      "== show hires between 2019 and 2022 ==\n",
      "Text='between 2019 and 2022' Type=datetimeV2.daterange Value= Start=11 Len=21\n",
      "Text='between 2019 and 2022' Type=datetimeV2.daterange Value= Start=11 Len=21\n",
      "  values: System.Collections.Generic.List`1[System.Collections.Generic.Dictionary`2[System.String,System.String]]\n",
      "  values: System.Collections.Generic.List`1[System.Collections.Generic.Dictionary`2[System.String,System.String]]\n",
      "\n",
      "== anyone joined after 2020? ==\n",
      "\n",
      "== anyone joined after 2020? ==\n",
      "Text='after 2020' Type=datetimeV2.daterange Value= Start=14 Len=10\n",
      "Text='after 2020' Type=datetimeV2.daterange Value= Start=14 Len=10\n",
      "  values: System.Collections.Generic.List`1[System.Collections.Generic.Dictionary`2[System.String,System.String]]\n",
      "  values: System.Collections.Generic.List`1[System.Collections.Generic.Dictionary`2[System.String,System.String]]\n",
      "\n",
      "== numbers in: 'list top 3 engineers' ==\n",
      "\n",
      "== numbers in: 'list top 3 engineers' ==\n",
      "Text='3' Type=number Value=3 Start=9 Len=1\n",
      "Text='3' Type=number Value=3 Start=9 Len=1\n",
      "  subtype: integer\n",
      "  subtype: integer\n",
      "  value: 3\n",
      "  value: 3\n"
     ]
    }
   ],
   "source": [
    "// Helper to pretty print extractor results\n",
    "void Dump(string title, IEnumerable<ModelResult> results)\n",
    "{\n",
    "    Console.WriteLine($\"\\n== {title} ==\");\n",
    "    foreach (var r in results)\n",
    "    {\n",
    "        var len = r.Text?.Length ?? 0;\n",
    "        Console.WriteLine($\"Text='{r.Text}' Type={r.TypeName} Value={(r.Resolution != null && r.Resolution.ContainsKey(\"value\") ? r.Resolution[\"value\"] : \"\")} Start={r.Start} Len={len}\");\n",
    "        if (r.Resolution != null)\n",
    "        {\n",
    "            foreach (var kv in r.Resolution)\n",
    "                Console.WriteLine($\"  {kv.Key}: {kv.Value}\");\n",
    "        }\n",
    "    }\n",
    "}\n",
    "\n",
    "// Example query strings\n",
    "var q1 = \"employees hired before 2024 in engineering\";\n",
    "var q2 = \"show hires between 2019 and 2022\";\n",
    "var q3 = \"anyone joined after 2020?\";\n",
    "\n",
    "// DateTime model (English)\n",
    "var dtModel = new DateTimeRecognizer(Culture.English).GetDateTimeModel();\n",
    "Dump(q1, dtModel.Parse(q1));\n",
    "Dump(q2, dtModel.Parse(q2));\n",
    "Dump(q3, dtModel.Parse(q3));\n",
    "\n",
    "// Number model example\n",
    "var numModel = new NumberRecognizer(Culture.English).GetNumberModel();\n",
    "Dump(\"numbers in: 'list top 3 engineers'\", numModel.Parse(\"list top 3 engineers\"));"
   ]
  },
  {
   "cell_type": "markdown",
   "metadata": {},
   "source": [
    "## 8) Putting it together (mini pipeline)\n",
    "Here's a tiny function that calls the classifier **and** tries a bit of slot extraction.\n",
    "For real apps, you'd expand the role/department dictionaries and add more robust date handling.\n"
   ]
  },
  {
   "cell_type": "code",
   "execution_count": 10,
   "metadata": {
    "language_info": {
     "name": "polyglot-notebook"
    },
    "polyglot_notebook": {
     "kernelName": "csharp"
    }
   },
   "outputs": [
    {
     "name": "stdout",
     "output_type": "stream",
     "text": [
      "\n",
      "Query: employees hired before 2024 in engineering\n",
      "Intent: SEARCH_BY_DEPARTMENT\n",
      "Slots: { Department=engineering, Role=engineer, Date=-, Range=- }\n",
      "\n",
      "Query: emails for rick and morty\n",
      "Intent: GET_CONTACT_INFO\n",
      "Slots: { Department=-, Role=-, Date=-, Range=- }\n",
      "\n",
      "Query: emails for rick and morty\n",
      "Intent: GET_CONTACT_INFO\n",
      "Slots: { Department=-, Role=-, Date=-, Range=- }\n",
      "\n",
      "Query: show hires between 2019 and 2022\n",
      "Intent: FILTER_BY_HIRE_DATE\n",
      "Slots: { Department=-, Role=-, Date=-, Range=2019-01-01..2022-01-01 }\n",
      "\n",
      "Query: show hires between 2019 and 2022\n",
      "Intent: FILTER_BY_HIRE_DATE\n",
      "Slots: { Department=-, Role=-, Date=-, Range=2019-01-01..2022-01-01 }\n",
      "\n",
      "Query: list senior engineers in finance\n",
      "Intent: FILTER_BY_ROLE\n",
      "Slots: { Department=finance, Role=engineer, Date=-, Range=- }\n",
      "\n",
      "Query: list senior engineers in finance\n",
      "Intent: FILTER_BY_ROLE\n",
      "Slots: { Department=finance, Role=engineer, Date=-, Range=- }\n"
     ]
    }
   ],
   "source": [
    "public record Slots(string? Department = null, string? Role = null, DateTime? Date = null, (DateTime Start, DateTime End)? Range = null);\n",
    "\n",
    "var departments = new[] { \"engineering\", \"hr\", \"finance\", \"sales\", \"marketing\" };\n",
    "var roles = new[] { \"engineer\", \"staff engineer\", \"senior engineer\", \"manager\", \"director\" };\n",
    "\n",
    "Slots ExtractSlots(string text)\n",
    "{\n",
    "    // Department (very naive)\n",
    "    var dept = departments.FirstOrDefault(d => text.ToLowerInvariant().Contains(d));\n",
    "\n",
    "    // Role (very naive)\n",
    "    var role = roles.FirstOrDefault(r => text.ToLowerInvariant().Contains(r));\n",
    "\n",
    "    // Date or range via Recognizers\n",
    "    var dtModel = new DateTimeRecognizer(Culture.English).GetDateTimeModel();\n",
    "    var results = dtModel.Parse(text);\n",
    "\n",
    "    DateTime? singleDate = null;\n",
    "    (DateTime Start, DateTime End)? range = null;\n",
    "\n",
    "    foreach (var r in results)\n",
    "    {\n",
    "        if (r.TypeName.Contains(\"daterange\") && r.Resolution != null && r.Resolution.TryGetValue(\"values\", out var valuesObj))\n",
    "        {\n",
    "            // values is a list of dicts with timex/start/end types; we pick first\n",
    "            if (valuesObj is List<Dictionary<string, string>> values && values.Count > 0)\n",
    "            {\n",
    "                var v = values[0];\n",
    "                if (v.TryGetValue(\"start\", out var startStr) && v.TryGetValue(\"end\", out var endStr))\n",
    "                {\n",
    "                    if (DateTime.TryParse(startStr, out var s) && DateTime.TryParse(endStr, out var e))\n",
    "                    {\n",
    "                        range = (s, e);\n",
    "                        break;\n",
    "                    }\n",
    "                }\n",
    "            }\n",
    "        }\n",
    "        else if (r.TypeName.Contains(\"date\") && r.Resolution != null && r.Resolution.TryGetValue(\"values\", out var valuesObj2))\n",
    "        {\n",
    "            if (valuesObj2 is List<Dictionary<string, string>> values && values.Count > 0)\n",
    "            {\n",
    "                var v = values[0];\n",
    "                if (v.TryGetValue(\"value\", out var dateStr) && DateTime.TryParse(dateStr, out var d))\n",
    "                {\n",
    "                    singleDate = d;\n",
    "                    break;\n",
    "                }\n",
    "            }\n",
    "        }\n",
    "    }\n",
    "\n",
    "    return new Slots(Department: dept, Role: role, Date: singleDate, Range: range);\n",
    "}\n",
    "\n",
    "void Inspect(string text)\n",
    "{\n",
    "    var intent = engine.Predict(new QueryRecord { Text = text }).PredictedLabel;\n",
    "    var slots = ExtractSlots(text);\n",
    "    Console.WriteLine($\"\\nQuery: {text}\\nIntent: {intent}\\nSlots: {{ Department={slots.Department ?? \"-\"}, Role={slots.Role ?? \"-\"}, Date={(slots.Date.HasValue ? slots.Date.Value.ToString(\"yyyy-MM-dd\") : \"-\")}, Range={(slots.Range.HasValue ? $\"{slots.Range.Value.Start:yyyy-MM-dd}..{slots.Range.Value.End:yyyy-MM-dd}\" : \"-\")} }}\");\n",
    "}\n",
    "\n",
    "Inspect(\"employees hired before 2024 in engineering\");\n",
    "Inspect(\"emails for rick and morty\");\n",
    "Inspect(\"show hires between 2019 and 2022\");\n",
    "Inspect(\"list senior engineers in finance\");\n"
   ]
  },
  {
   "cell_type": "markdown",
   "metadata": {},
   "source": [
    "---\n",
    "## Where to go next\n",
    "1. **Grow the dataset** with real user phrasing; retrain periodically.\n",
    "2. Swap in other trainers (e.g., `LbfgsMaximumEntropy`, `LightGbm`) and compare metrics.\n",
    "3. Add **domain dictionaries** (role hierarchies, department synonyms) to improve slot mapping.\n",
    "4. Persist model + build a small API that loads the ZIP and exposes `/predict`.\n",
    "\n",
    "_You’ve now trained and used a model entirely in C# with ML.NET._ ✅\n"
   ]
  }
 ],
 "metadata": {
  "description": "ML.NET Intent Classification + Slot Extraction (C#) – hands-on notebook for JS devs",
  "kernelspec": {
   "display_name": ".NET (C#)",
   "language": "C#",
   "name": ".net-csharp"
  },
  "language_info": {
   "name": "polyglot-notebook"
  },
  "polyglot_notebook": {
   "kernelInfo": {
    "defaultKernelName": "csharp",
    "items": [
     {
      "aliases": [],
      "name": "csharp"
     }
    ]
   }
  }
 },
 "nbformat": 4,
 "nbformat_minor": 5
}
