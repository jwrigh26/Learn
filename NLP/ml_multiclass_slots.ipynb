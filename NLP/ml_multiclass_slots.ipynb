{
  "cells": [
    {
      "cell_type": "markdown",
      "metadata": {},
      "source": [
        "# Query Understanding: Intents + Slot Mapping (Clean Notebook)\n",
        "\n",
        "This is a compact notebook to:\n",
        "- load a trained **intent classifier** (ML.NET) or use a minimal rule-based fallback,\n",
        "- perform **slot mapping** using a **domain dictionary** (departments, roles, locations) and\n",
        "- extract dates/numbers via **Microsoft.Recognizers.Text**.\n",
        "\n",
        "Keep your existing, more verbose notebook as the study guide. Use this one for daily work."
      ]
    },
    {
      "cell_type": "markdown",
      "metadata": {},
      "source": [
        "**NuGet (project):**\n",
        "- `Microsoft.ML`\n",
        "- `Microsoft.Recognizers.Text`\n",
        "- `Microsoft.Recognizers.Text.DateTime`\n",
        "- `Microsoft.Recognizers.Text.Number`\n",
        "- `FuzzySharp`\n",
        "- `System.Text.Json`\n",
        "\n",
        "> This notebook assumes those are referenced in your project. In .NET Interactive, use `#r \"nuget: ...\"` if needed."
      ]
    },
    {
      "cell_type": "code",
      "execution_count": 1,
      "metadata": {
        "dotnet_interactive": {
          "language": "csharp"
        }
      },
      "outputs": [
        {
          "data": {
            "text/html": [
              "<div><div></div><div></div><div><strong>Installed Packages</strong><ul><li><span>FuzzySharp, 2.0.2</span></li><li><span>Microsoft.ML, 4.0.2</span></li><li><span>Microsoft.Recognizers.Text.DateTime, 1.8.13</span></li><li><span>Microsoft.Recognizers.Text.Number, 1.8.13</span></li></ul></div></div>"
            ]
          },
          "metadata": {},
          "output_type": "display_data"
        }
      ],
      "source": [
        "#r \"nuget: Microsoft.ML, 4.0.2\"\n",
        "#r \"nuget: Microsoft.Recognizers.Text.DateTime, 1.8.13\"\n",
        "#r \"nuget: Microsoft.Recognizers.Text.Number, 1.8.13\"\n",
        "#r \"nuget: FuzzySharp, 2.0.2\"\n",
        "\n",
        "using System;\n",
        "using System.Collections.Generic;\n",
        "using System.Linq;\n",
        "using System.Text.RegularExpressions;\n",
        "using Microsoft.ML;\n",
        "using Microsoft.ML.Data;\n",
        "using Microsoft.Recognizers.Text;\n",
        "using Microsoft.Recognizers.Text.DateTime;\n",
        "using Microsoft.Recognizers.Text.Number;\n",
        "using FuzzySharp;"
      ]
    },
    {
      "cell_type": "code",
      "execution_count": 2,
      "metadata": {
        "dotnet_interactive": {
          "language": "csharp"
        }
      },
      "outputs": [],
      "source": [
        "public enum Intent\n",
        "{\n",
        "    GET_CONTACT_ADDRESS,\n",
        "    GET_CONTACT_INFO,\n",
        "    GET_CONTACT_PHONE,\n",
        "    GET_CONTACT_EMAIL,\n",
        "    FILTER_BY_HIRE_DATE,\n",
        "    FILTER_BY_DEPARTMENT,\n",
        "    FILTER_BY_LOCATION,\n",
        "    FILTER_BY_BIRTHDAY,\n",
        "    UNKNOWN\n",
        "}\n",
        "\n",
        "public sealed class QuerySlots\n",
        "{\n",
        "    public string? Field { get; set; }                // e.g., \"OriginalHireDate\"\n",
        "    public string? Operator { get; set; }             // e.g., \"before\", \"after\", \"between\"\n",
        "    public DateTime? DateStart { get; set; }\n",
        "    public DateTime? DateEnd { get; set; }\n",
        "    public string? Department { get; set; }           // canonical department\n",
        "    public string? Role { get; set; }                 // canonical role\n",
        "    public string? Location { get; set; }             // canonical location\n",
        "    public List<string> Names { get; set; } = new();  // resolved employee display names\n",
        "}\n",
        "\n",
        "public sealed class QueryUnderstanding\n",
        "{\n",
        "    public Intent Intent { get; set; }\n",
        "    public QuerySlots Slots { get; set; } = new();\n",
        "}\n",
        "\n",
        "public sealed class DomainDictionaries\n",
        "{\n",
        "    // Map any synonym -> canonical\n",
        "    public Dictionary<string,string> Departments { get; } = new(StringComparer.OrdinalIgnoreCase);\n",
        "    public Dictionary<string,string> Roles { get; } = new(StringComparer.OrdinalIgnoreCase);\n",
        "    public Dictionary<string,string> Locations { get; } = new(StringComparer.OrdinalIgnoreCase);\n",
        "\n",
        "    // Optional: label -> list of canonical roles (hierarchy buckets like \"managers\")\n",
        "    public Dictionary<string,List<string>> RoleBuckets { get; } = new(StringComparer.OrdinalIgnoreCase);\n",
        "\n",
        "    // Optional: list of known employee names for fuzzy matching\n",
        "    public List<string> EmployeeNames { get; } = new();\n",
        "}"
      ]
    },
    {
      "cell_type": "code",
      "execution_count": 3,
      "metadata": {
        "dotnet_interactive": {
          "language": "csharp"
        }
      },
      "outputs": [],
      "source": [
        "var domain = new DomainDictionaries();\n",
        "// Canonical names as consts\n",
        "const string DeptEngineering = \"Engineering\";\n",
        "const string DeptHR = \"Human Resources\";\n",
        "const string DeptSales = \"Sales\";\n",
        "const string DeptSupport = \"Support\";\n",
        "\n",
        "const string RoleManager = \"Manager\";\n",
        "const string RoleSupervisor = \"Supervisor\";\n",
        "const string RoleTeamLead = \"Team Lead\";\n",
        "const string RoleSoftwareEngineer = \"Software Engineer\";\n",
        "const string RoleDirector = \"Director\";\n",
        "\n",
        "const string LocSaltLakeCity = \"Salt Lake City\";\n",
        "const string LocRemote = \"Remote\";\n",
        "const string LocHQ = \"Headquarters\";\n",
        "\n",
        "// Departments (synonym -> canonical)\n",
        "foreach (var pair in new (string from, string to)[] {\n",
        "    (\"engineering\", DeptEngineering),\n",
        "    (\"eng\", DeptEngineering),\n",
        "    (\"dev\", DeptEngineering),\n",
        "    (\"development\", DeptEngineering),\n",
        "    (\"hr\", DeptHR),\n",
        "    (\"human resources\", DeptHR),\n",
        "    (\"sales\", DeptSales),\n",
        "    (\"revenue\", DeptSales),\n",
        "    (\"support\", DeptSupport),\n",
        "}) domain.Departments[pair.from] = pair.to;\n",
        "\n",
        "// Roles (synonym -> canonical)\n",
        "foreach (var pair in new (string from, string to)[] {\n",
        "    (\"manager\", RoleManager),\n",
        "    (\"managers\", RoleManager),\n",
        "    (\"supervisor\", RoleSupervisor),\n",
        "    (\"supervisors\", RoleSupervisor),\n",
        "    (\"super\", RoleSupervisor), // common short form\n",
        "    (\"supervisor\", RoleSupervisor),\n",
        "    (\"supervisors\", RoleSupervisor),\n",
        "    (\"sup\", RoleSupervisor),\n",
        "    (\"team lead\", RoleTeamLead),\n",
        "    (\"lead\", RoleTeamLead),\n",
        "    (\"leads\", RoleTeamLead),\n",
        "    (\"developer\", RoleSoftwareEngineer),\n",
        "    (\"dev\", RoleSoftwareEngineer),\n",
        "    (\"engineer\", RoleSoftwareEngineer),\n",
        "    (\"software engineer\", RoleSoftwareEngineer),\n",
        "    (\"software developer\", RoleSoftwareEngineer),\n",
        "    (\"software engineer\", RoleSoftwareEngineer),\n",
        "    (\"software dev\", RoleSoftwareEngineer),\n",
        "    (\"engineer\", RoleSoftwareEngineer),\n",
        "    (\"director\", RoleDirector),\n",
        "    (\"dir\", RoleDirector),\n",
        "    (\"directors\", RoleDirector),\n",
        "    (\"head of\", RoleDirector), // common phrasing\n",
        "    (\"head of department\", RoleDirector),\n",
        "    (\"head of engineering\", RoleDirector),\n",
        "    (\"head of hr\", RoleDirector),\n",
        "    (\"head of sales\", RoleDirector),\n",
        "    (\"head of support\", RoleDirector),\n",
        "    (\"head of development\", RoleDirector),\n",
        "}) domain.Roles[pair.from] = pair.to;\n",
        "\n",
        "// Locations (synonym -> canonical)\n",
        "foreach (var pair in new (string from, string to)[] {\n",
        "    (\"slc\", LocSaltLakeCity),\n",
        "    (\"salt lake\", LocSaltLakeCity),\n",
        "    (\"salt lake city\", LocSaltLakeCity),\n",
        "    (\"remote\", LocRemote),\n",
        "    (\"hq\", LocHQ),\n",
        "}) domain.Locations[pair.from] = pair.to;\n",
        "\n",
        "// Role buckets (category -> list of canonical roles)\n",
        "domain.RoleBuckets[\"managers\"] = new List<string> { RoleManager, RoleSupervisor, RoleTeamLead, RoleDirector };\n",
        "\n",
        "// Known names (optional, for fuzzy)\n",
        "domain.EmployeeNames.AddRange(new [] {\n",
        "    \"Rick Sanchez\",\"Summer Smith\",\"Morty Smith\",\"Beth Smith\",\"Jerry Smith\",\n",
        "    \"Alice Johnson\",\"Bob Lee\",\"Carol Danvers\",\"Tony Stark\",\"Bruce Wayne\"\n",
        "});"
      ]
    },
    {
      "cell_type": "code",
      "execution_count": 4,
      "metadata": {
        "dotnet_interactive": {
          "language": "csharp"
        }
      },
      "outputs": [],
      "source": [
        "static string Normalize(string s) =>\n",
        "    Regex.Replace(s, @\"\\s+\", \" \").Trim();\n",
        "\n",
        "static bool ContainsAny(string text, params string[] terms) =>\n",
        "    terms.Any(t => text.IndexOf(t, StringComparison.OrdinalIgnoreCase) >= 0);\n",
        "\n",
        "// map synonyms using dictionary; returns canonical if matched\n",
        "static string? MapCanonical(string text, Dictionary<string,string> dict)\n",
        "{\n",
        "    // exact/single-token match first\n",
        "    if (dict.TryGetValue(text, out var canonical)) return canonical;\n",
        "\n",
        "    // contains-phrase match\n",
        "    foreach (var kvp in dict)\n",
        "    {\n",
        "        if (text.Contains(kvp.Key, StringComparison.OrdinalIgnoreCase))\n",
        "            return kvp.Value;\n",
        "    }\n",
        "    return null;\n",
        "}"
      ]
    },
    {
      "cell_type": "code",
      "execution_count": 5,
      "metadata": {
        "dotnet_interactive": {
          "language": "csharp"
        }
      },
      "outputs": [],
      "source": [
        "var culture = Culture.English;\n",
        "var dateModel = new DateTimeRecognizer(culture, options: DateTimeOptions.None, lazyInitialization: true)\n",
        "    .GetDateTimeModel();\n",
        "var numberModel = new NumberRecognizer(culture).GetNumberModel();"
      ]
    },
    {
      "cell_type": "code",
      "execution_count": 6,
      "metadata": {
        "dotnet_interactive": {
          "language": "csharp"
        }
      },
      "outputs": [],
      "source": [
        "QuerySlots ExtractSlots(string text, DomainDictionaries domain)\n",
        "{\n",
        "    text = Normalize(text);\n",
        "    var slots = new QuerySlots();\n",
        "\n",
        "    // Field + operator from phrasing\n",
        "    if (ContainsAny(text, \"hire date\",\"hired\",\"start date\",\"joined\"))\n",
        "    {\n",
        "        slots.Field = \"OriginalHireDate\";\n",
        "        if (ContainsAny(text, \"before\",\"earlier than\",\"prior to\")) slots.Operator = \"before\";\n",
        "        else if (ContainsAny(text, \"after\",\"later than\",\"since\")) slots.Operator = \"after\";\n",
        "        else if (ContainsAny(text, \"between\",\"from\",\"to\",\"range\")) slots.Operator = \"between\";\n",
        "    }\n",
        "\n",
        "    // Department / Role / Location via domain dictionaries\n",
        "    slots.Department = MapCanonical(text, domain.Departments);\n",
        "    slots.Role = MapCanonical(text, domain.Roles);\n",
        "    slots.Location = MapCanonical(text, domain.Locations);\n",
        "\n",
        "    // Date parsing (supports \"before 2024\", \"last year\", ranges, etc.)\n",
        "    var dateResults = dateModel.Parse(text);\n",
        "    // pick first resolution; improve as needed\n",
        "    foreach (var r in dateResults)\n",
        "    {\n",
        "        if (!r.Resolution.TryGetValue(\"values\", out var valuesObj)) continue;\n",
        "        if (valuesObj is not List<Dictionary<string, string>> values) continue;\n",
        "\n",
        "        foreach (var v in values)\n",
        "        {\n",
        "            if (!v.TryGetValue(\"type\", out var type)) continue;\n",
        "            if (type == \"date\" && v.TryGetValue(\"value\", out var val))\n",
        "            {\n",
        "                if (DateTime.TryParse(val, out var d))\n",
        "                {\n",
        "                    if (slots.Operator == \"before\") { slots.DateEnd = d; }\n",
        "                    else if (slots.Operator == \"after\") { slots.DateStart = d; }\n",
        "                    else if (slots.DateStart is null) { slots.DateStart = d; }\n",
        "                    else if (slots.DateEnd is null) { slots.DateEnd = d; }\n",
        "                }\n",
        "            }\n",
        "            else if (type == \"daterange\")\n",
        "            {\n",
        "                if (v.TryGetValue(\"start\", out var s) && DateTime.TryParse(s, out var ds))\n",
        "                    slots.DateStart = ds;\n",
        "                if (v.TryGetValue(\"end\", out var e) && DateTime.TryParse(e, out var de))\n",
        "                    slots.DateEnd = de;\n",
        "                slots.Operator ??= \"between\";\n",
        "            }\n",
        "        }\n",
        "    }\n",
        "\n",
        "    // Names (fuzzy to known employees). Keep top hits that meet a threshold.\n",
        "    var tokens = text.Split(new[]{' ', ',', ';'}, StringSplitOptions.RemoveEmptyEntries);\n",
        "    var uniqueTokens = tokens.Select(t => t.Trim(new[]{'.','?','!'})).Where(t => t.Length > 1).Distinct(StringComparer.OrdinalIgnoreCase);\n",
        "    foreach (var token in uniqueTokens)\n",
        "    {\n",
        "        var best = Process.ExtractOne(token, domain.EmployeeNames);\n",
        "        if (best != null && best.Score >= 88) // threshold\n",
        "        {\n",
        "            if (!slots.Names.Contains(best.Value))\n",
        "                slots.Names.Add(best.Value);\n",
        "        }\n",
        "    }\n",
        "\n",
        "    return slots;\n",
        "}"
      ]
    },
    {
      "cell_type": "code",
      "execution_count": 7,
      "metadata": {
        "dotnet_interactive": {
          "language": "csharp"
        }
      },
      "outputs": [],
      "source": [
        "// If you have a trained ML.NET model, load it here. Otherwise, use simple rules.\n",
        "// string? modelPath = null; // e.g., @\"./models/intent_model.zip\"\n",
        "string modelPath = @\"/Users/maneki-neko/learning/NLP/intent_model.zip\";\n",
        "\n",
        "PredictionEngine<QueryRecord, IntentPrediction>? engine = null;\n",
        "MLContext ml = new MLContext(seed: 123);\n",
        "\n",
        "if (!string.IsNullOrWhiteSpace(modelPath) && System.IO.File.Exists(modelPath))\n",
        "{\n",
        "    using var fs = System.IO.File.OpenRead(modelPath);\n",
        "    var trained = ml.Model.Load(fs, out var _);\n",
        "    engine = ml.Model.CreatePredictionEngine<QueryRecord, IntentPrediction>(trained);\n",
        "}\n",
        "\n",
        "// schema for model - must match the trained model\n",
        "public sealed class QueryRecord \n",
        "{ \n",
        "    public string Text { get; set; } = \"\"; \n",
        "    public string Label { get; set; } = \"\"; \n",
        "}\n",
        "public sealed class IntentPrediction \n",
        "{ \n",
        "    public string PredictedLabel { get; set; } = \"\"; \n",
        "    public float[] Score { get; set; } = Array.Empty<float>();\n",
        "}\n",
        "\n",
        "Intent PredictIntent(string text)\n",
        "{\n",
        "    if (engine is not null)\n",
        "    {\n",
        "        var pred = engine.Predict(new QueryRecord { Text = text });\n",
        "        if (Enum.TryParse<Intent>(pred.PredictedLabel, out var parsed))\n",
        "            return parsed;\n",
        "    }\n",
        "\n",
        "    // Fallback rules (fast & predictable)\n",
        "    if (ContainsAny(text, \"email\",\"e-mail\",\"mail\")) return Intent.GET_CONTACT_EMAIL;\n",
        "    if (ContainsAny(text, \"phone\",\"cell\",\"mobile\",\"call\")) return Intent.GET_CONTACT_PHONE;\n",
        "    if (ContainsAny(text, \"address\",\"location\",\"where is\")) return Intent.GET_CONTACT_ADDRESS;\n",
        "    if (ContainsAny(text, \"hire date\",\"hired\",\"start date\",\"joined\",\"before\",\"after\",\"between\"))\n",
        "        return Intent.FILTER_BY_HIRE_DATE;\n",
        "    if (ContainsAny(text, \"department\",\"engineering\",\"hr\",\"sales\",\"support\"))\n",
        "        return Intent.FILTER_BY_DEPARTMENT;\n",
        "    if (ContainsAny(text, \"office\",\"remote\",\"salt lake\",\"hq\",\"slc\"))\n",
        "        return Intent.FILTER_BY_LOCATION;\n",
        "    if (ContainsAny(text, \"birthday\",\"birth date\",\"turns\",\"age\"))\n",
        "        return Intent.FILTER_BY_BIRTHDAY;\n",
        "\n",
        "    return Intent.UNKNOWN;\n",
        "}"
      ]
    },
    {
      "cell_type": "code",
      "execution_count": 8,
      "metadata": {
        "dotnet_interactive": {
          "language": "csharp"
        }
      },
      "outputs": [],
      "source": [
        "QueryUnderstanding Understand(string text, DomainDictionaries domain)\n",
        "{\n",
        "    var intent = PredictIntent(text);\n",
        "    var slots = ExtractSlots(text, domain);\n",
        "    return new QueryUnderstanding { Intent = intent, Slots = slots };\n",
        "}"
      ]
    },
    {
      "cell_type": "code",
      "execution_count": 12,
      "metadata": {
        "dotnet_interactive": {
          "language": "csharp"
        }
      },
      "outputs": [
        {
          "name": "stdout",
          "output_type": "stream",
          "text": [
            "Q: Show me managers in engineering hired before 2024\n",
            "  Intent: FILTER_BY_DEPARTMENT\n",
            "  Slots: field=OriginalHireDate, op=before, start=, end=1/1/2024 12:00:00 AM, dept=Engineering, role=Manager, loc=\n",
            "  Names: Summer Smith\n",
            "\n",
            "Q: Emails for rick, summer and morty\n",
            "  Intent: GET_CONTACT_EMAIL\n",
            "  Slots: field=, op=between, start=, end=, dept=, role=, loc=\n",
            "  Names: Rick Sanchez, Summer Smith, Morty Smith\n",
            "\n",
            "Q: All employees between 2020 and 2023 in HR\n",
            "  Intent: FILTER_BY_HIRE_DATE\n",
            "  Slots: field=, op=between, start=1/1/2020 12:00:00 AM, end=1/1/2023 12:00:00 AM, dept=Human Resources, role=, loc=\n",
            "\n",
            "Q: Who is remote in SLC?\n",
            "  Intent: FILTER_BY_LOCATION\n",
            "  Slots: field=, op=, start=, end=, dept=, role=, loc=Salt Lake City\n",
            "\n",
            "Q: Phone for Carol Danvers\n",
            "  Intent: GET_CONTACT_PHONE\n",
            "  Slots: field=, op=, start=, end=, dept=, role=, loc=\n",
            "  Names: Carol Danvers\n",
            "\n",
            "Q: Directors hired after last year in sales\n",
            "  Intent: FILTER_BY_HIRE_DATE\n",
            "  Slots: field=OriginalHireDate, op=after, start=1/1/2025 12:00:00 AM, end=, dept=Sales, role=Director, loc=\n",
            "\n"
          ]
        }
      ],
      "source": [
        "var queries = new []\n",
        "{\n",
        "    \"Show me managers in engineering hired before 2024\",\n",
        "    \"Emails for rick, summer and morty\",\n",
        "    \"All employees between 2020 and 2023 in HR\",\n",
        "    \"Who is remote in SLC?\",\n",
        "    \"Phone for Carol Danvers\",\n",
        "    \"Directors hired after last year in sales\"\n",
        "};\n",
        "\n",
        "Console.Clear();\n",
        "foreach (var q in queries)\n",
        "{\n",
        "    var u = Understand(q, domain);\n",
        "    Console.WriteLine($\"Q: {q}\");\n",
        "    Console.WriteLine($\"  Intent: {u.Intent}\");\n",
        "    var s = u.Slots;\n",
        "    Console.WriteLine($\"  Slots: field={s.Field}, op={s.Operator}, start={s.DateStart}, end={s.DateEnd}, dept={s.Department}, role={s.Role}, loc={s.Location}\");\n",
        "    if (s.Names.Count > 0) Console.WriteLine(\"  Names: \" + string.Join(\", \", s.Names));\n",
        "    Console.WriteLine();\n",
        "}"
      ]
    }
  ],
  "metadata": {
    "kernelspec": {
      "display_name": ".NET (C#)",
      "language": "C#",
      "name": ".net-csharp"
    },
    "language_info": {
      "file_extension": ".cs",
      "mimetype": "text/x-csharp",
      "name": "polyglot-notebook",
      "version": "12"
    },
    "polyglot_notebook": {
      "kernelInfo": {
        "defaultKernelName": "csharp",
        "items": [
          {
            "aliases": [],
            "name": "csharp"
          }
        ]
      }
    }
  },
  "nbformat": 4,
  "nbformat_minor": 5
}
